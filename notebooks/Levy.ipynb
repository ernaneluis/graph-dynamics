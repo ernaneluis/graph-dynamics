{
 "cells": [
  {
   "cell_type": "code",
   "execution_count": 10,
   "metadata": {
    "collapsed": false
   },
   "outputs": [],
   "source": [
    "from scipy.stats import poisson, beta, gamma, levy_stable\n",
    "import pandas as pd\n",
    "import numpy as np\n",
    "import matplotlib \n",
    "\n",
    "matplotlib.rcParams['ps.useafm'] = True\n",
    "matplotlib.rcParams['pdf.use14corefonts'] = True\n",
    "matplotlib.rcParams['text.usetex'] = True \n",
    "\n",
    "%matplotlib inline"
   ]
  },
  {
   "cell_type": "markdown",
   "metadata": {},
   "source": [
    "# Checking Levy"
   ]
  },
  {
   "cell_type": "code",
   "execution_count": 13,
   "metadata": {
    "collapsed": false
   },
   "outputs": [],
   "source": [
    "alpha, beta = 0.357, -0.675\n",
    "A = levy_stable.rvs(alpha,beta,100)"
   ]
  },
  {
   "cell_type": "markdown",
   "metadata": {},
   "source": [
    "\\begin{eqnarray}\n",
    "W_{\\alpha} &\\sim& \\text{CRM}(\\rho,\\alpha_{\\alpha}) \\\\\n",
    "D_{\\alpha} &\\sim& \\text{Poisson}(W^{*2}_{\\alpha})\n",
    "\\end{eqnarray}\n",
    "\n",
    "\\begin{eqnarray}\n",
    "U_{kj}|W_{\\alpha} &\\sim& \\frac{W_{\\alpha}}{W^{*}_{\\alpha}} \\\\\n",
    "D_{\\alpha} &=& \\sum^{D^{*}_{\\alpha}}_{k=1}\\delta_{(U_{k1},U_{k2})}\n",
    "\\end{eqnarray}\n",
    "\n",
    "\n",
    "We generate the $U$ via an Urn process in terms of the Exchangable Partition Probability Function\n",
    "$\\Pi^{(k)}_n(m_1,...,m_k|W^{*}_{\\alpha})$. Where $m_k$ corresponds to the multiplicities."
   ]
  },
  {
   "cell_type": "code",
   "execution_count": 6,
   "metadata": {
    "collapsed": true
   },
   "outputs": [],
   "source": [
    "LS = levy_stable(1.,1.)\n",
    "X = np.linspace(0.,10.,100)\n",
    "Y = LS.pdf(X)\n",
    "plt.plot(Y) "
   ]
  },
  {
   "cell_type": "code",
   "execution_count": null,
   "metadata": {
    "collapsed": true
   },
   "outputs": [],
   "source": []
  }
 ],
 "metadata": {
  "kernelspec": {
   "display_name": "Python 2",
   "language": "python",
   "name": "python2"
  },
  "language_info": {
   "codemirror_mode": {
    "name": "ipython",
    "version": 2
   },
   "file_extension": ".py",
   "mimetype": "text/x-python",
   "name": "python",
   "nbconvert_exporter": "python",
   "pygments_lexer": "ipython2",
   "version": "2.7.6"
  }
 },
 "nbformat": 4,
 "nbformat_minor": 0
}
