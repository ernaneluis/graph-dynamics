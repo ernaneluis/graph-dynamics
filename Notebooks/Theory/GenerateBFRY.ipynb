{
 "cells": [
  {
   "cell_type": "code",
   "execution_count": 35,
   "metadata": {
    "collapsed": false
   },
   "outputs": [],
   "source": [
    "# $\\def\\*#1{\\mathbf{#1}}$\n",
    "import os\n",
    "import sys\n",
    "import numpy as np\n",
    "from scipy import stats\n",
    "from matplotlib import pyplot as plt\n",
    "\n",
    "#os.listdir(\"../../\")\n",
    "sys.path.append(\"../../\")\n",
    "\n",
    "%matplotlib inline"
   ]
  },
  {
   "cell_type": "code",
   "execution_count": 54,
   "metadata": {
    "collapsed": false
   },
   "outputs": [],
   "source": [
    "#SYMPY REFERENCE https://minireference.com/static/tutorials/sympy_tutorial.pdf\n",
    "#$\\def\\*#1{\\mathbf{#1}}$\n",
    "\n",
    "from sympy import *\n",
    "from sympy.interactive import printing\n",
    "import sympy\n",
    "from sympy import Eq\n",
    "import sympy as sym\n",
    "from sympy.abc import theta, phi, alpha, tau\n",
    "from __future__ import division\n",
    "from scipy.stats import pareto\n",
    "from random import randint\n",
    "from sympy import Symbol\n",
    "#from mpmath import *\n",
    "import numpy as np\n",
    "\n",
    "printing.init_printing(use_latex='mathjax')\n",
    "\n",
    "\n",
    "K = 3 #Number of communities\n",
    "nk = symbols(\"n_0:\"+str(K),integer=True) \n",
    "K = Symbol(\"K\",integer=True)\n",
    "pk = Symbol(\"p\",real=True)\n",
    "lamb = Symbol(\"\\\\lambda\",function=True)\n",
    "theta = Symbol(\"\\\\theta\")\n",
    "F = symbols(\"\\Gamma_0:\"+str(K),function=True)\n",
    "G = Symbol(\"\\Gamma\",function=True)\n",
    "alpha = Symbol(\"\\\\alpha\",function=True)\n",
    "beta = Symbol(\"\\\\beta\")\n",
    "Alphas =  symbols(\"\\\\alpha_0:\"+str(K))\n",
    "x, y , w, s, c, u, a, b,v  = symbols(\"x y w s c u a b v\")\n",
    "sig = Symbol(\"\\sigma\")\n",
    "E = [Symbol(\"\\Gamma_{\\\\alpha_\"+str(i)+\"}\",function=True)(x) for i in range(10)]\n",
    "k, n = symbols(\"k n\", integer=True)\n",
    "t = symbols(\"t\",real=True)\n",
    "P = symbols(\"P\",function=True)\n",
    "Z = Symbol(\"Z\")\n",
    "z = Symbol(\"z\",function=True)\n",
    "p = Symbol(\"p\",function=True)\n",
    "N = Symbol(\"N\",integer=True)\n",
    "I = Symbol(\"|\")\n",
    "q =  Symbol(\"q\",function=True)\n",
    "Expectation = Symbol(\"\\\\mathbb{E}\",function=True)"
   ]
  },
  {
   "cell_type": "code",
   "execution_count": 15,
   "metadata": {
    "collapsed": false
   },
   "outputs": [],
   "source": [
    "#==========================\n",
    "# GRAPH VARIABLES\n",
    "#==========================\n",
    "Da = Symbol(\"D^{*}_{\\\\alpha}\")\n",
    "Da\n",
    "\n",
    "#==========================\n",
    "# Densities variables\n",
    "#==========================\n",
    "Indicator = Symbol(\"\\\\mathbb{I}\")\n",
    "Indicator_tilted = Symbol(\"\\\\mathbb{I}_{\\{ \\\\tau + (\\\\frac{\\\\alpha}{c})^{\\\\frac{1}{\\\\alpha}} \\leq t \\leq \\\\tau^{-1} \\}}\")"
   ]
  },
  {
   "cell_type": "code",
   "execution_count": 16,
   "metadata": {
    "collapsed": false
   },
   "outputs": [
    {
     "name": "stdout",
     "output_type": "stream",
     "text": [
      "\\frac{\\mathbb{I}_{\\{ \\tau + (\\frac{\\alpha}{c})^{\\frac{1}{\\alpha}} \\leq t \\leq \\tau^{-1} \\}} \\sigma}{- \\tau^{\\sigma} + \\left(\\tau + \\left(\\frac{\\sigma}{c}\\right)^{\\frac{1}{\\sigma}}\\right)^{\\sigma}} t^{- \\sigma - 1}\n"
     ]
    }
   ],
   "source": [
    "print latex(((alpha*(t**(-alpha-1))*Indicator_tilted)/((tau+(alpha/c)**(1/alpha))**alpha - tau**alpha)).subs(alpha,sig))"
   ]
  },
  {
   "cell_type": "code",
   "execution_count": 17,
   "metadata": {
    "collapsed": false
   },
   "outputs": [
    {
     "data": {
      "text/latex": [
       "$$\\frac{\\sigma t^{- \\sigma - 1}}{- \\tau^{\\sigma} + \\left(\\tau + \\left(K \\sigma\\right)^{\\frac{1}{\\sigma}}\\right)^{\\sigma}}$$"
      ],
      "text/plain": [
       "                  -\\sigma - 1           \n",
       "          \\sigma⋅t                      \n",
       "────────────────────────────────────────\n",
       "                                  \\sigma\n",
       "   \\sigma   ⎛    \\sigma__________⎞      \n",
       "- τ       + ⎝τ +     ╲╱ K⋅\\sigma ⎠      "
      ]
     },
     "execution_count": 17,
     "metadata": {},
     "output_type": "execute_result"
    }
   ],
   "source": [
    "tilted_no_indicator = ((alpha*(t**(-alpha-1)))/((tau+(alpha/c)**(1/alpha))**alpha - tau**alpha))\n",
    "tilted_no_indicator = tilted_no_indicator.subs(alpha,sig).subs(c,1/K)\n",
    "tilted_no_indicator"
   ]
  },
  {
   "cell_type": "code",
   "execution_count": 18,
   "metadata": {
    "collapsed": false
   },
   "outputs": [
    {
     "data": {
      "text/latex": [
       "$$- \\frac{\\sigma}{- \\tau^{\\sigma} + \\left(\\tau + \\left(K \\sigma\\right)^{\\frac{1}{\\sigma}}\\right)^{\\sigma}} \\begin{cases} \\log{\\left (a \\right )} & \\text{for}\\: - \\sigma - 1 = -1 \\\\- \\frac{a^{- \\sigma}}{\\sigma} & \\text{otherwise} \\end{cases} + \\frac{\\sigma}{- \\tau^{\\sigma} + \\left(\\tau + \\left(K \\sigma\\right)^{\\frac{1}{\\sigma}}\\right)^{\\sigma}} \\begin{cases} \\log{\\left (b \\right )} & \\text{for}\\: - \\sigma - 1 = -1 \\\\- \\frac{b^{- \\sigma}}{\\sigma} & \\text{otherwise} \\end{cases}$$"
      ],
      "text/plain": [
       "         ⎛⎧  log(a)    for -\\sigma - 1 = -1⎞          ⎛⎧  log(b)    for -\\sigm\n",
       "         ⎜⎪                                ⎟          ⎜⎪                      \n",
       "         ⎜⎪  -\\sigma                       ⎟          ⎜⎪  -\\sigma             \n",
       "  \\sigma⋅⎜⎨-a                              ⎟   \\sigma⋅⎜⎨-b                    \n",
       "         ⎜⎪──────────       otherwise      ⎟          ⎜⎪──────────       other\n",
       "         ⎜⎪  \\sigma                        ⎟          ⎜⎪  \\sigma              \n",
       "         ⎝⎩                                ⎠          ⎝⎩                      \n",
       "- ────────────────────────────────────────── + ───────────────────────────────\n",
       "                                     \\sigma                                   \n",
       "      \\sigma   ⎛    \\sigma__________⎞              \\sigma   ⎛    \\sigma_______\n",
       "   - τ       + ⎝τ +     ╲╱ K⋅\\sigma ⎠           - τ       + ⎝τ +     ╲╱ K⋅\\sig\n",
       "\n",
       "a - 1 = -1⎞\n",
       "          ⎟\n",
       "          ⎟\n",
       "          ⎟\n",
       "wise      ⎟\n",
       "          ⎟\n",
       "          ⎠\n",
       "───────────\n",
       "    \\sigma \n",
       "___⎞       \n",
       "ma ⎠       "
      ]
     },
     "execution_count": 18,
     "metadata": {},
     "output_type": "execute_result"
    }
   ],
   "source": [
    "tilted_no_indicator_integrated = integrate(tilted_no_indicator,(t,a,b))\n",
    "tilted_no_indicator_integrated"
   ]
  },
  {
   "cell_type": "code",
   "execution_count": 19,
   "metadata": {
    "collapsed": false
   },
   "outputs": [
    {
     "data": {
      "text/latex": [
       "$$\\left ( \\frac{\\sigma}{- \\tau^{\\sigma} + \\left(\\tau + \\left(K \\sigma\\right)^{\\frac{1}{\\sigma}}\\right)^{\\sigma}} \\begin{cases} \\log{\\left (b \\right )} & \\text{for}\\: - \\sigma - 1 = -1 \\\\- \\frac{b^{- \\sigma}}{\\sigma} & \\text{otherwise} \\end{cases}, \\quad - \\frac{\\sigma}{- \\tau^{\\sigma} + \\left(\\tau + \\left(K \\sigma\\right)^{\\frac{1}{\\sigma}}\\right)^{\\sigma}} \\begin{cases} \\log{\\left (a \\right )} & \\text{for}\\: - \\sigma - 1 = -1 \\\\- \\frac{a^{- \\sigma}}{\\sigma} & \\text{otherwise} \\end{cases}\\right )$$"
      ],
      "text/plain": [
       "⎛       ⎛⎧  log(b)    for -\\sigma - 1 = -1⎞          ⎛⎧  log(a)    for -\\sigma\n",
       "⎜       ⎜⎪                                ⎟          ⎜⎪                       \n",
       "⎜       ⎜⎪  -\\sigma                       ⎟          ⎜⎪  -\\sigma              \n",
       "⎜\\sigma⋅⎜⎨-b                              ⎟  -\\sigma⋅⎜⎨-a                     \n",
       "⎜       ⎜⎪──────────       otherwise      ⎟          ⎜⎪──────────       otherw\n",
       "⎜       ⎜⎪  \\sigma                        ⎟          ⎜⎪  \\sigma               \n",
       "⎜       ⎝⎩                                ⎠          ⎝⎩                       \n",
       "⎜──────────────────────────────────────────, ─────────────────────────────────\n",
       "⎜                                   \\sigma                                    \n",
       "⎜    \\sigma   ⎛    \\sigma__________⎞              \\sigma   ⎛    \\sigma________\n",
       "⎝ - τ       + ⎝τ +     ╲╱ K⋅\\sigma ⎠           - τ       + ⎝τ +     ╲╱ K⋅\\sigm\n",
       "\n",
       " - 1 = -1⎞ ⎞\n",
       "         ⎟ ⎟\n",
       "         ⎟ ⎟\n",
       "         ⎟ ⎟\n",
       "ise      ⎟ ⎟\n",
       "         ⎟ ⎟\n",
       "         ⎠ ⎟\n",
       "───────────⎟\n",
       "   \\sigma  ⎟\n",
       "__⎞        ⎟\n",
       "a ⎠        ⎠"
      ]
     },
     "execution_count": 19,
     "metadata": {},
     "output_type": "execute_result"
    }
   ],
   "source": [
    "tilted_no_indicator_integrated.args"
   ]
  },
  {
   "cell_type": "code",
   "execution_count": 20,
   "metadata": {
    "collapsed": false
   },
   "outputs": [
    {
     "data": {
      "text/latex": [
       "$$- \\frac{b^{- \\sigma}}{- \\tau^{\\sigma} + \\left(\\tau + \\left(K \\sigma\\right)^{\\frac{1}{\\sigma}}\\right)^{\\sigma}} + \\frac{a^{- \\sigma}}{- \\tau^{\\sigma} + \\left(\\tau + \\left(K \\sigma\\right)^{\\frac{1}{\\sigma}}\\right)^{\\sigma}}$$"
      ],
      "text/plain": [
       "                   -\\sigma                                    -\\sigma         \n",
       "                  b                                          a                \n",
       "- ──────────────────────────────────────── + ─────────────────────────────────\n",
       "                                    \\sigma                                    \n",
       "     \\sigma   ⎛    \\sigma__________⎞            \\sigma   ⎛    \\sigma__________\n",
       "  - τ       + ⎝τ +     ╲╱ K⋅\\sigma ⎠         - τ       + ⎝τ +     ╲╱ K⋅\\sigma \n",
       "\n",
       "       \n",
       "       \n",
       "───────\n",
       " \\sigma\n",
       "⎞      \n",
       "⎠      "
      ]
     },
     "execution_count": 20,
     "metadata": {},
     "output_type": "execute_result"
    }
   ],
   "source": [
    "Ia = (tilted_no_indicator_integrated.args[0].args[0]*tilted_no_indicator_integrated.args[0].args[1])*tilted_no_indicator_integrated.args[0].args[-1].args[1].args[0]\n",
    "Ib = tilted_no_indicator_integrated.args[1].args[-1].args[1][0]*(tilted_no_indicator_integrated.args[1].args[0]*tilted_no_indicator_integrated.args[1].args[1]*tilted_no_indicator_integrated.args[1].args[2])\n",
    "IntegralFrom_a_to_b = Ia + Ib \n",
    "IntegralFrom_a_to_b"
   ]
  },
  {
   "cell_type": "code",
   "execution_count": 24,
   "metadata": {
    "collapsed": false
   },
   "outputs": [
    {
     "data": {
      "text/latex": [
       "$$\\frac{\\left(\\frac{1}{\\tau + \\left(K \\sigma\\right)^{\\frac{1}{\\sigma}}}\\right)^{- \\sigma}}{- \\tau^{\\sigma} + \\left(\\tau + \\left(K \\sigma\\right)^{\\frac{1}{\\sigma}}\\right)^{\\sigma}} - \\frac{x^{- \\sigma}}{- \\tau^{\\sigma} + \\left(\\tau + \\left(K \\sigma\\right)^{\\frac{1}{\\sigma}}\\right)^{\\sigma}}$$"
      ],
      "text/plain": [
       "                           -\\sigma                                            \n",
       "     ⎛         1          ⎞                                                   \n",
       "     ⎜────────────────────⎟                                                   \n",
       "     ⎜    \\sigma__________⎟                                 -\\sigma           \n",
       "     ⎝τ +     ╲╱ K⋅\\sigma ⎠                                x                  \n",
       "──────────────────────────────────────── - ───────────────────────────────────\n",
       "                                  \\sigma                                     \\\n",
       "   \\sigma   ⎛    \\sigma__________⎞            \\sigma   ⎛    \\sigma__________⎞ \n",
       "- τ       + ⎝τ +     ╲╱ K⋅\\sigma ⎠         - τ       + ⎝τ +     ╲╱ K⋅\\sigma ⎠ \n",
       "\n",
       "     \n",
       "     \n",
       "     \n",
       "     \n",
       "     \n",
       "─────\n",
       "sigma\n",
       "     \n",
       "     "
      ]
     },
     "execution_count": 24,
     "metadata": {},
     "output_type": "execute_result"
    }
   ],
   "source": [
    "cumulative_function =  IntegralFrom_a_to_b.subs(a,left_border).subs(b,x)\n",
    "cumulative_function"
   ]
  },
  {
   "cell_type": "code",
   "execution_count": 25,
   "metadata": {
    "collapsed": false
   },
   "outputs": [],
   "source": [
    "left_border = (1/((tau+(alpha/c)**(1/alpha))).subs(c,1/K)).subs(alpha,sig)\n",
    "right_border = (1/tau)"
   ]
  },
  {
   "cell_type": "code",
   "execution_count": 26,
   "metadata": {
    "collapsed": false
   },
   "outputs": [
    {
     "data": {
      "text/latex": [
       "$$\\left(\\frac{1}{\\tau + \\left(K \\sigma\\right)^{\\frac{1}{\\sigma}}}\\right)^{- \\sigma} - \\left(\\frac{1}{\\tau}\\right)^{- \\sigma}$$"
      ],
      "text/plain": [
       "                      -\\sigma      -\\sigma\n",
       "⎛         1          ⎞          ⎛1⎞       \n",
       "⎜────────────────────⎟        - ⎜─⎟       \n",
       "⎜    \\sigma__________⎟          ⎝τ⎠       \n",
       "⎝τ +     ╲╱ K⋅\\sigma ⎠                    "
      ]
     },
     "execution_count": 26,
     "metadata": {},
     "output_type": "execute_result"
    }
   ],
   "source": [
    "In =  integrate(alpha*t**(-1-alpha),(t,a,b))\n",
    "I = -b**(-alpha)+a**(-alpha)\n",
    "I = I.subs(alpha,sig)\n",
    "I.subs(a,left_border).subs(b,right_border)"
   ]
  },
  {
   "cell_type": "code",
   "execution_count": 27,
   "metadata": {
    "collapsed": false
   },
   "outputs": [
    {
     "data": {
      "text/latex": [
       "$$\\left(\\frac{1}{\\tau + \\left(K \\sigma\\right)^{\\frac{1}{\\sigma}}}\\right)^{- \\sigma} - x^{- \\sigma}$$"
      ],
      "text/plain": [
       "                      -\\sigma           \n",
       "⎛         1          ⎞           -\\sigma\n",
       "⎜────────────────────⎟        - x       \n",
       "⎜    \\sigma__________⎟                  \n",
       "⎝τ +     ╲╱ K⋅\\sigma ⎠                  "
      ]
     },
     "execution_count": 27,
     "metadata": {},
     "output_type": "execute_result"
    }
   ],
   "source": [
    "I.subs(a,left_border).subs(b,x)"
   ]
  },
  {
   "cell_type": "code",
   "execution_count": 28,
   "metadata": {
    "collapsed": false
   },
   "outputs": [
    {
     "data": {
      "text/latex": [
       "$$\\frac{1}{\\tau + \\left(K \\sigma\\right)^{\\frac{1}{\\sigma}}}$$"
      ],
      "text/plain": [
       "         1          \n",
       "────────────────────\n",
       "    \\sigma__________\n",
       "τ +     ╲╱ K⋅\\sigma "
      ]
     },
     "execution_count": 28,
     "metadata": {},
     "output_type": "execute_result"
    }
   ],
   "source": [
    "left_border"
   ]
  },
  {
   "cell_type": "code",
   "execution_count": 29,
   "metadata": {
    "collapsed": false
   },
   "outputs": [
    {
     "data": {
      "text/latex": [
       "$$\\frac{1}{\\tau}$$"
      ],
      "text/plain": [
       "1\n",
       "─\n",
       "τ"
      ]
     },
     "execution_count": 29,
     "metadata": {},
     "output_type": "execute_result"
    }
   ],
   "source": [
    "right_border"
   ]
  },
  {
   "cell_type": "code",
   "execution_count": 30,
   "metadata": {
    "collapsed": false
   },
   "outputs": [
    {
     "data": {
      "text/latex": [
       "$$\\frac{\\left(\\frac{1}{\\tau + \\left(K \\sigma\\right)^{\\frac{1}{\\sigma}}}\\right)^{- \\sigma}}{- \\tau^{\\sigma} + \\left(\\tau + \\left(K \\sigma\\right)^{\\frac{1}{\\sigma}}\\right)^{\\sigma}} - \\frac{x^{- \\sigma}}{- \\tau^{\\sigma} + \\left(\\tau + \\left(K \\sigma\\right)^{\\frac{1}{\\sigma}}\\right)^{\\sigma}} = y$$"
      ],
      "text/plain": [
       "                           -\\sigma                                            \n",
       "     ⎛         1          ⎞                                                   \n",
       "     ⎜────────────────────⎟                                                   \n",
       "     ⎜    \\sigma__________⎟                                 -\\sigma           \n",
       "     ⎝τ +     ╲╱ K⋅\\sigma ⎠                                x                  \n",
       "──────────────────────────────────────── - ───────────────────────────────────\n",
       "                                  \\sigma                                     \\\n",
       "   \\sigma   ⎛    \\sigma__________⎞            \\sigma   ⎛    \\sigma__________⎞ \n",
       "- τ       + ⎝τ +     ╲╱ K⋅\\sigma ⎠         - τ       + ⎝τ +     ╲╱ K⋅\\sigma ⎠ \n",
       "\n",
       "         \n",
       "         \n",
       "         \n",
       "         \n",
       "         \n",
       "───── = y\n",
       "sigma    \n",
       "         \n",
       "         "
      ]
     },
     "execution_count": 30,
     "metadata": {},
     "output_type": "execute_result"
    }
   ],
   "source": [
    "eq = Eq(cumulative_function,y)\n",
    "eq"
   ]
  },
  {
   "cell_type": "code",
   "execution_count": 31,
   "metadata": {
    "collapsed": false
   },
   "outputs": [
    {
     "data": {
      "text/latex": [
       "$$\\left [ \\left(\\frac{\\left(\\frac{1}{\\tau + \\left(K \\sigma\\right)^{\\frac{1}{\\sigma}}}\\right)^{\\sigma}}{\\tau^{\\sigma} y \\left(\\frac{1}{\\tau + \\left(K \\sigma\\right)^{\\frac{1}{\\sigma}}}\\right)^{\\sigma} - y \\left(\\tau + \\left(K \\sigma\\right)^{\\frac{1}{\\sigma}}\\right)^{\\sigma} \\left(\\frac{1}{\\tau + \\left(K \\sigma\\right)^{\\frac{1}{\\sigma}}}\\right)^{\\sigma} + 1}\\right)^{\\frac{1}{\\sigma}}\\right ]$$"
      ],
      "text/plain": [
       "⎡                _____________________________________________________________\n",
       "⎢               ╱                                                             \n",
       "⎢              ╱                                        ⎛         1          ⎞\n",
       "⎢             ╱                                         ⎜────────────────────⎟\n",
       "⎢            ╱                                          ⎜    \\sigma__________⎟\n",
       "⎢           ╱                                           ⎝τ +     ╲╱ K⋅\\sigma ⎠\n",
       "⎢          ╱      ────────────────────────────────────────────────────────────\n",
       "⎢         ╱                                       \\sigma                      \n",
       "⎢        ╱         \\sigma   ⎛         1          ⎞           ⎛    \\sigma______\n",
       "⎢       ╱         τ      ⋅y⋅⎜────────────────────⎟       - y⋅⎝τ +     ╲╱ K⋅\\si\n",
       "⎢\\sigma╱                    ⎜    \\sigma__________⎟                            \n",
       "⎣    ╲╱                     ⎝τ +     ╲╱ K⋅\\sigma ⎠                            \n",
       "\n",
       "_____________________________________________⎤\n",
       "\\sigma                                       ⎥\n",
       "                                             ⎥\n",
       "                                             ⎥\n",
       "                                             ⎥\n",
       "                                             ⎥\n",
       "──────────────────────────────────────────── ⎥\n",
       "     \\sigma                       \\sigma     ⎥\n",
       "____⎞       ⎛         1          ⎞           ⎥\n",
       "gma ⎠      ⋅⎜────────────────────⎟       + 1 ⎥\n",
       "            ⎜    \\sigma__________⎟           ⎥\n",
       "            ⎝τ +     ╲╱ K⋅\\sigma ⎠           ⎦"
      ]
     },
     "execution_count": 31,
     "metadata": {},
     "output_type": "execute_result"
    }
   ],
   "source": [
    "solve(eq,x)"
   ]
  },
  {
   "cell_type": "code",
   "execution_count": 34,
   "metadata": {
    "collapsed": false
   },
   "outputs": [
    {
     "name": "stdout",
     "output_type": "stream",
     "text": [
      "\\left(\\frac{\\left(\\frac{1}{\\tau + \\left(K \\sigma\\right)^{\\frac{1}{\\sigma}}}\\right)^{\\sigma}}{\\tau^{\\sigma} y \\left(\\frac{1}{\\tau + \\left(K \\sigma\\right)^{\\frac{1}{\\sigma}}}\\right)^{\\sigma} - y \\left(\\tau + \\left(K \\sigma\\right)^{\\frac{1}{\\sigma}}\\right)^{\\sigma} \\left(\\frac{1}{\\tau + \\left(K \\sigma\\right)^{\\frac{1}{\\sigma}}}\\right)^{\\sigma} + 1}\\right)^{\\frac{1}{\\sigma}}\n"
     ]
    }
   ],
   "source": [
    "print latex(solve(eq,x)[0].simplify())"
   ]
  },
  {
   "cell_type": "code",
   "execution_count": 60,
   "metadata": {
    "collapsed": true
   },
   "outputs": [],
   "source": [
    "def inverseCumulativeFunction(uniformVariable,*parameters):\n",
    "    sigma=parameters[0]\n",
    "    tau = parameters[1]\n",
    "    K = parameters[2]\n",
    "    \n",
    "    A = tau + (K*sigma)**(1./sigma)\n",
    "    A_inv = 1./A\n",
    "    \n",
    "    B = (tau**sigma)*uniformVariable*(A_inv**sigma) \n",
    "    B = B - uniformVariable + 1\n",
    "    \n",
    "    return ((A_inv**sigma)/B)**(1/sigma)"
   ]
  },
  {
   "cell_type": "code",
   "execution_count": 63,
   "metadata": {
    "collapsed": false,
    "scrolled": true
   },
   "outputs": [
    {
     "data": {
      "text/plain": [
       "[<matplotlib.lines.Line2D at 0x7f67513e8e90>]"
      ]
     },
     "execution_count": 63,
     "metadata": {},
     "output_type": "execute_result"
    },
    {
     "data": {
      "image/png": "[encoded data removed]",
      "text/plain": [
       "<matplotlib.figure.Figure at 0x7f6753642b90>"
      ]
     },
     "metadata": {},
     "output_type": "display_data"
    }
   ],
   "source": [
    "U = np.linspace(0.001,0.99,100)\n",
    "Inv = inverseCumulativeFunction(U,0.2,0.8,10)\n",
    "plt.plot(U,Inv)"
   ]
  },
  {
   "cell_type": "code",
   "execution_count": null,
   "metadata": {
    "collapsed": true
   },
   "outputs": [],
   "source": [
    "def generateFiniteGeneralizedGamma(sigma,tau,K):\n",
    "    \"\"\"\n",
    "    \"\"\"\n",
    "    return None"
   ]
  },
  {
   "cell_type": "markdown",
   "metadata": {},
   "source": [
    "# BFRY Densities"
   ]
  },
  {
   "cell_type": "code",
   "execution_count": 28,
   "metadata": {
    "collapsed": false
   },
   "outputs": [],
   "source": [
    "Numerator = (alpha*s**(-alpha-1)*(exp(-tau*s))*(1-exp(-(alpha/c)**(1/alpha))*s))\n",
    "Denominator = G(1-alpha)*((tau+(alpha/c)**(1/alpha))**alpha - tau**alpha)\n",
    "bfry_density = (Numerator/Denominator)"
   ]
  },
  {
   "cell_type": "code",
   "execution_count": 29,
   "metadata": {
    "collapsed": false
   },
   "outputs": [
    {
     "data": {
      "text/latex": [
       "$$\\frac{\\sigma s^{- \\sigma - 1} \\left(- s e^{- \\left(\\frac{\\sigma}{c}\\right)^{\\frac{1}{\\sigma}}} + 1\\right) e^{- s \\tau}}{\\left(- \\tau^{\\sigma} + \\left(\\tau + \\left(\\frac{\\sigma}{c}\\right)^{\\frac{1}{\\sigma}}\\right)^{\\sigma}\\right) \\Gamma{\\left (- \\sigma + 1 \\right )}}$$"
      ],
      "text/plain": [
       "                        ⎛              ________    ⎞          \n",
       "                        ⎜             ╱ \\sigma     ⎟          \n",
       "                        ⎜     -\\sigma╱  ──────     ⎟          \n",
       "            -\\sigma - 1 ⎜          ╲╱     c        ⎟  -s⋅τ    \n",
       "    \\sigma⋅s           ⋅⎝- s⋅ℯ                  + 1⎠⋅ℯ        \n",
       "──────────────────────────────────────────────────────────────\n",
       "⎛                                  \\sigma⎞                    \n",
       "⎜            ⎛            ________⎞      ⎟                    \n",
       "⎜   \\sigma   ⎜           ╱ \\sigma ⎟      ⎟                    \n",
       "⎜- τ       + ⎜τ + \\sigma╱  ────── ⎟      ⎟⋅\\Gamma(-\\sigma + 1)\n",
       "⎝            ⎝        ╲╱     c    ⎠      ⎠                    "
      ]
     },
     "execution_count": 29,
     "metadata": {},
     "output_type": "execute_result"
    }
   ],
   "source": [
    "bfry_density.subs(alpha,sig)"
   ]
  },
  {
   "cell_type": "code",
   "execution_count": 30,
   "metadata": {
    "collapsed": false
   },
   "outputs": [
    {
     "data": {
      "text/latex": [
       "$$g_{1/K,\\sigma}$$"
      ],
      "text/plain": [
       "g_{1/K,\\sigma}"
      ]
     },
     "execution_count": 30,
     "metadata": {},
     "output_type": "execute_result"
    }
   ],
   "source": [
    "bfry_density_function = Symbol(\"g_{1/K,\\sigma}\",function=True)\n",
    "bfry_density_function"
   ]
  },
  {
   "cell_type": "markdown",
   "metadata": {},
   "source": [
    "# Plots of Gamma"
   ]
  },
  {
   "cell_type": "code",
   "execution_count": 13,
   "metadata": {
    "collapsed": true
   },
   "outputs": [],
   "source": [
    "def collectTermsWithVariable(expression,variable):\n",
    "    return Add(*[argi for argi in expression.args if argi.has(variable)])\n",
    "\n",
    "def subsParentesis(expresion,p,w,krange):\n",
    "    for k in range(*krange):\n",
    "        expresion = expresion.subs(p(k),w(k))\n",
    "    return expresion\n",
    "\n",
    "def subsParentesisDouble(expresion,p,w,krange):\n",
    "    for u in range(*krange):\n",
    "        for v in range(*krange):\n",
    "            expresion = expresion.subs(p(u,v),w(u,v))\n",
    "    return expresion\n",
    "\n",
    "def backToSubIndice(expresion,p,krange):\n",
    "    for k in range(*krange):\n",
    "        expresion = expresion.subs(p(k),Symbol(str(p)+\"_{0}\".format(k)))\n",
    "    return expresion\n",
    "\n",
    "def backToSubIndiceDouble(expresion,p,krange):\n",
    "    for u in range(*krange):\n",
    "        for v in range(*krange):\n",
    "            expresion = expresion.subs(p(u,v),Symbol(str(p)+\"_{0},{1}\".format(u,v)))\n",
    "    return expresion\n",
    "\n",
    "def backToSuperIndice(expresion,p,krange):\n",
    "    for k in range(*krange):\n",
    "        expresion = expresion.subs(p(k),Symbol(str(p)+\"^{0}\".format(k)))\n",
    "    return expresion"
   ]
  },
  {
   "cell_type": "code",
   "execution_count": null,
   "metadata": {
    "collapsed": true
   },
   "outputs": [],
   "source": []
  }
 ],
 "metadata": {
  "kernelspec": {
   "display_name": "Python 2",
   "language": "python",
   "name": "python2"
  },
  "language_info": {
   "codemirror_mode": {
    "name": "ipython",
    "version": 2
   },
   "file_extension": ".py",
   "mimetype": "text/x-python",
   "name": "python",
   "nbconvert_exporter": "python",
   "pygments_lexer": "ipython2",
   "version": "2.7.6"
  }
 },
 "nbformat": 4,
 "nbformat_minor": 0
}
