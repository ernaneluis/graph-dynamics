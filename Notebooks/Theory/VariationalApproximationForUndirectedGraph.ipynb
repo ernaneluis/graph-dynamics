{
 "cells": [
  {
   "cell_type": "code",
   "execution_count": 1,
   "metadata": {
    "collapsed": false
   },
   "outputs": [],
   "source": [
    "# $\\def\\*#1{\\mathbf{#1}}$\n",
    "import os\n",
    "import sys\n",
    "import numpy as np\n",
    "from scipy import stats\n",
    "from matplotlib import pyplot as plt\n",
    "\n",
    "#os.listdir(\"../../\")\n",
    "sys.path.append(\"../../\")\n",
    "\n",
    "%matplotlib inline"
   ]
  },
  {
   "cell_type": "markdown",
   "metadata": {},
   "source": [
    "# Statistical Network Models"
   ]
  },
  {
   "cell_type": "markdown",
   "metadata": {},
   "source": [
    "\n",
    "\n",
    "Let $V=\\{\\theta_{1},\\cdots,\\theta_{2},\\}$ be a countably infinite set of nodes with $\\theta_i \\in \\mathbb{R}_{+}$. We represent the directed multigraph of interest  using an atomic measure on $\\mathbb{R}^2_{+}$\n",
    "\n",
    "\\begin{equation}\n",
    " D = \\sum^{\\infty}_{i=1}\\sum^{\\infty}_{j=1}n_{ij}\\delta_{(\\theta_i,\\theta_j)}\n",
    "\\end{equation}\n",
    "\n",
    "Where $n_{ij}$ counts the number of directed edges from node $\\theta_i$ to node $\\theta_j$.  Our generative approach for modeling $D$ associates with each node $\\theta_i$ a sociability parameter $w_i > 0$ defined via the atomic random measure\n",
    "\n",
    "\\begin{equation}\n",
    " W = \\sum^{\\infty}_{i=1} w_{i}\\delta_{\\theta_i}\n",
    "\\end{equation}\n",
    "\n",
    "Which we take to be distributed according to a homogeneous CRM, $W \\sim CRM(\\rho,\\lambda)$. Given $W$, $D$ is simply generated from a Poisson process (PP) with intensity given by the product measure $\\tilde{W} = W \\times W$. The generalized gamma process (GGP) is a flexible two parameter CRM, with interpretable parameters and remarkable conjugagy properties. The L\\'evy intensity of the GGP is given by:\n",
    "\n",
    "\\begin{equation}\n",
    " \\rho(dw) = \\frac{1}{\\Gamma(1-\\sigma)}w^{-1 - \\sigma}\\exp(-\\tau w)dw\n",
    "\\end{equation}\n",
    "\n",
    "Notice the difference with the paper of BFRY priors were the Generalized Gamma Process levy intensity is defined as:\n",
    "\n",
    "\\begin{equation}\n",
    " \\rho(dw) = \\frac{\\theta}{\\Gamma(1-\\alpha)}w^{-1 - \\alpha}\\exp(-\\tau w)dw\n",
    "\\end{equation}\n",
    "\n",
    "where the two parameters verify \n",
    "\\begin{equation}\n",
    " (\\sigma,\\tau) \\in (-\\infty,0]\\times(0,+\\infty) \\text{ or }  (\\sigma,\\tau) \\in  (0,1) \\times [0,+\\infty)\n",
    "\\end{equation}\n"
   ]
  },
  {
   "cell_type": "code",
   "execution_count": 4,
   "metadata": {
    "collapsed": false
   },
   "outputs": [],
   "source": [
    "#SYMPY REFERENCE https://minireference.com/static/tutorials/sympy_tutorial.pdf\n",
    "#$\\def\\*#1{\\mathbf{#1}}$\n",
    "\n",
    "from sympy import *\n",
    "from sympy.interactive import printing\n",
    "import sympy\n",
    "from sympy import Eq\n",
    "import sympy as sym\n",
    "from sympy.abc import theta, phi, alpha, tau\n",
    "from __future__ import division\n",
    "from scipy.stats import pareto\n",
    "from random import randint\n",
    "from sympy import Symbol\n",
    "#from mpmath import *\n",
    "\n",
    "printing.init_printing(use_latex='mathjax')\n",
    "\n",
    "\n",
    "K = 3 #Number of communities\n",
    "nk = symbols(\"n_0:\"+str(K),integer=True) \n",
    "K = Symbol(\"K\",integer=True)\n",
    "pk = Symbol(\"p\",real=True)\n",
    "lamb = Symbol(\"\\\\lambda\",function=True)\n",
    "theta = Symbol(\"\\\\theta\")\n",
    "F = symbols(\"\\Gamma_0:\"+str(K),function=True)\n",
    "G = Symbol(\"\\Gamma\",function=True)\n",
    "alpha = Symbol(\"\\\\alpha\",function=True)\n",
    "beta = Symbol(\"\\\\beta\")\n",
    "Alphas =  symbols(\"\\\\alpha_0:\"+str(K))\n",
    "x, y , w, s, c, u, a, b,v  = symbols(\"x y w s c u a b v\")\n",
    "sig = Symbol(\"\\sigma\")\n",
    "E = [Symbol(\"\\Gamma_{\\\\alpha_\"+str(i)+\"}\",function=True)(x) for i in range(10)]\n",
    "k, n = symbols(\"k n\", integer=True)\n",
    "t = symbols(\"t\",real=True)\n",
    "P = symbols(\"P\",function=True)\n",
    "Z = Symbol(\"Z\")\n",
    "z = Symbol(\"z\",function=True)\n",
    "p = Symbol(\"p\",function=True)\n",
    "N = Symbol(\"N\",integer=True)\n",
    "q =  Symbol(\"p\",function=True)\n",
    "Expectation = Symbol(\"\\\\mathbb{E}\",function=True)"
   ]
  },
  {
   "cell_type": "code",
   "execution_count": 5,
   "metadata": {
    "collapsed": false
   },
   "outputs": [
    {
     "data": {
      "text/latex": [
       "$$\\prod_{\\substack{1 \\leq v \\leq N\\\\1 \\leq u \\leq N}} \\left(- p{\\left (u,v \\right )} + 1\\right)^{- z{\\left (u,v \\right )} + 1} p^{z{\\left (u,v \\right )}}{\\left (u,v \\right )}$$"
      ],
      "text/plain": [
       "  N      N                                             \n",
       "┬────┬ ┬────┬                                          \n",
       "│    │ │    │               -z(u, v) + 1  z(u, v)      \n",
       "│    │ │    │ (-p(u, v) + 1)            ⋅p       (u, v)\n",
       "│    │ │    │                                          \n",
       "u = 1  v = 1                                           "
      ]
     },
     "execution_count": 5,
     "metadata": {},
     "output_type": "execute_result"
    }
   ],
   "source": [
    "edge_probability = (p(u,v)**z(u,v))*((1-p(u,v))**(1-z(u,v)))\n",
    "graph_probability = Product(Product(edge_probability,(v,1,N)),(u,1,N))\n",
    "#backToSubIndiceDouble(backToSubIndiceDouble((graph_probability.subs(K,3)).doit(),p,(1 ,3,1)),z,(1,3,1))\n",
    "graph_probability"
   ]
  },
  {
   "cell_type": "code",
   "execution_count": 33,
   "metadata": {
    "collapsed": false
   },
   "outputs": [
    {
     "data": {
      "text/latex": [
       "$$\\beta$$"
      ],
      "text/plain": [
       "\\beta"
      ]
     },
     "execution_count": 33,
     "metadata": {},
     "output_type": "execute_result"
    }
   ],
   "source": [
    "beta"
   ]
  },
  {
   "cell_type": "markdown",
   "metadata": {},
   "source": [
    "$\\def\\*#1{\\mathbf{#1}}$\n",
    "\n",
    "Our first step will be a variational approximation for a simple undirected graph. We define the prior values of the sociabilities $w_{i}$ from a *finite-dimensional process* as defined from \n",
    "\n",
    "$$\n",
    "\\mu_{K}(\\cdot) = \\sum^{K}_{k=1} W_k \\delta_{\\theta_k}\n",
    "$$\n",
    "\n",
    "Where the probabilities of the $W_k$ are defined from  the BFRY priors:\n",
    "\n",
    "$$\n",
    "\\text{BRS}(c,\\tau,\\sigma) = \\frac{\\sigma s^{- \\sigma - 1} (- s e^{- (\\frac{\\sigma}{c})^{\\frac{1}{\\sigma}}} + 1) e^{- \\tau \\theta}}{(- \\tau^{\\sigma} + (\\tau + (\\frac{\\sigma}{c})^{\\frac{1}{\\sigma}})^{\\sigma}) \\Gamma{ (- \\sigma + 1  )}}\n",
    "$$\n",
    "\n",
    "For the variational approximation we need:\n",
    "\n",
    "\\begin{equation}\n",
    "P(\\*Z,\\*W) = P(\\*Z|\\*W)P(\\*W)\n",
    "\\end{equation}"
   ]
  },
  {
   "cell_type": "code",
   "execution_count": 34,
   "metadata": {
    "collapsed": false
   },
   "outputs": [
    {
     "data": {
      "text/latex": [
       "$$1 - e^{- 2 w{\\left (u \\right )} w{\\left (v \\right )}}$$"
      ],
      "text/plain": [
       "     -2⋅w(u)⋅w(v)\n",
       "1 - ℯ            "
      ]
     },
     "execution_count": 34,
     "metadata": {},
     "output_type": "execute_result"
    }
   ],
   "source": [
    "sociabilities_probabilities = 1 - exp(-2*w(u)*w(v))\n",
    "sociabilities_probabilities"
   ]
  },
  {
   "cell_type": "code",
   "execution_count": 35,
   "metadata": {
    "collapsed": false
   },
   "outputs": [],
   "source": [
    "likehood_of_graph = graph_probability.subs(p(u,v),sociabilities_probabilities)"
   ]
  },
  {
   "cell_type": "code",
   "execution_count": 36,
   "metadata": {
    "collapsed": false
   },
   "outputs": [
    {
     "data": {
      "text/latex": [
       "$$\\prod_{\\substack{1 \\leq v \\leq N\\\\1 \\leq u \\leq N}} \\left(1 - e^{- 2 w{\\left (u \\right )} w{\\left (v \\right )}}\\right)^{z{\\left (u,v \\right )}} \\left(e^{- 2 w{\\left (u \\right )} w{\\left (v \\right )}}\\right)^{- z{\\left (u,v \\right )} + 1}$$"
      ],
      "text/plain": [
       "   N        N                                                           \n",
       "┬──────┬ ┬──────┬                                                       \n",
       "│      │ │      │                    z(u, v)                -z(u, v) + 1\n",
       "│      │ │      │ ⎛     -2⋅w(u)⋅w(v)⎞        ⎛ -2⋅w(u)⋅w(v)⎞            \n",
       "│      │ │      │ ⎝1 - ℯ            ⎠       ⋅⎝ℯ            ⎠            \n",
       "│      │ │      │                                                       \n",
       " u = 1    v = 1                                                         "
      ]
     },
     "execution_count": 36,
     "metadata": {},
     "output_type": "execute_result"
    }
   ],
   "source": [
    "likehood_of_graph"
   ]
  },
  {
   "cell_type": "code",
   "execution_count": 37,
   "metadata": {
    "collapsed": false
   },
   "outputs": [],
   "source": [
    "prior_of_weights = Product(bfry_density_function(w(k))*lamb(theta(k)),(k,1,K))"
   ]
  },
  {
   "cell_type": "markdown",
   "metadata": {},
   "source": [
    "We requiere at least one sociability per node, we can have K > N, and in consequence *unseen nodes*, values of $\\theta_k$ which are part of the *finite-dimensional process* but absent from the graph, since the sociabilities failed to create an edge "
   ]
  },
  {
   "cell_type": "code",
   "execution_count": 38,
   "metadata": {
    "collapsed": false
   },
   "outputs": [
    {
     "data": {
      "text/latex": [
       "$$\\prod_{\\substack{N + 1 \\leq v \\leq K\\\\N + 1 \\leq u \\leq K}} e^{- 2 w{\\left (u \\right )} w{\\left (v \\right )}}$$"
      ],
      "text/plain": [
       "    K         K                  \n",
       "  ┬────┬    ┬────┬               \n",
       "  │    │    │    │   -2⋅w(u)⋅w(v)\n",
       "  │    │    │    │  ℯ            \n",
       "  │    │    │    │               \n",
       "u = N + 1 v = N + 1              "
      ]
     },
     "execution_count": 38,
     "metadata": {},
     "output_type": "execute_result"
    }
   ],
   "source": [
    "fantom_edge_probability = (1-p(u,v))\n",
    "likehood_of_fantom_graph = Product(Product(fantom_edge_probability,(v,N+1,K)),(u,N+1,K))\n",
    "likehood_of_fantom_graph = likehood_of_fantom_graph.subs(p(u,v),sociabilities_probabilities)\n",
    "likehood_of_fantom_graph"
   ]
  },
  {
   "cell_type": "code",
   "execution_count": 39,
   "metadata": {
    "collapsed": false
   },
   "outputs": [
    {
     "data": {
      "text/latex": [
       "$$\\left(\\prod_{k=1}^{K} \\lambda{\\left (\\theta{\\left (k \\right )} \\right )} \\operatorname{g_{1/K,\\sigma}}{\\left (w{\\left (k \\right )} \\right )}\\right) \\left(\\prod_{\\substack{1 \\leq v \\leq N\\\\1 \\leq u \\leq N}} \\left(1 - e^{- 2 w{\\left (u \\right )} w{\\left (v \\right )}}\\right)^{z{\\left (u,v \\right )}} \\left(e^{- 2 w{\\left (u \\right )} w{\\left (v \\right )}}\\right)^{- z{\\left (u,v \\right )} + 1}\\right) \\prod_{\\substack{N + 1 \\leq v \\leq K\\\\N + 1 \\leq u \\leq K}} e^{- 2 w{\\left (u \\right )} w{\\left (v \\right )}}$$"
      ],
      "text/plain": [
       "                                                ⎛   N        N                \n",
       "⎛  K                                          ⎞ ⎜┬──────┬ ┬──────┬            \n",
       "⎜┬───┬                                        ⎟ ⎜│      │ │      │            \n",
       "⎜│   │ \\lambda(\\theta(k))⋅g_{1/K,\\sigma}(w(k))⎟⋅⎜│      │ │      │ ⎛     -2⋅w(\n",
       "⎜│   │                                        ⎟ ⎜│      │ │      │ ⎝1 - ℯ     \n",
       "⎝k = 1                                        ⎠ ⎜│      │ │      │            \n",
       "                                                ⎝ u = 1    v = 1              \n",
       "\n",
       "                                           ⎞     K         K                  \n",
       "                                           ⎟   ┬────┬    ┬────┬               \n",
       "        z(u, v)                -z(u, v) + 1⎟   │    │    │    │   -2⋅w(u)⋅w(v)\n",
       "u)⋅w(v)⎞        ⎛ -2⋅w(u)⋅w(v)⎞            ⎟⋅  │    │    │    │  ℯ            \n",
       "       ⎠       ⋅⎝ℯ            ⎠            ⎟   │    │    │    │               \n",
       "                                           ⎟ u = N + 1 v = N + 1              \n",
       "                                           ⎠                                  "
      ]
     },
     "execution_count": 39,
     "metadata": {},
     "output_type": "execute_result"
    }
   ],
   "source": [
    "joint_probability_of_graph = likehood_of_graph*prior_of_weights*likehood_of_fantom_graph\n",
    "joint_probability_of_graph"
   ]
  },
  {
   "cell_type": "code",
   "execution_count": 40,
   "metadata": {
    "collapsed": false
   },
   "outputs": [],
   "source": [
    "bfry_density = bfry_density.subs(alpha,sig)\n",
    "bfry_density = bfry_density.subs(c,1/K)\n",
    "bfry_density_evaluated_wk = bfry_density.subs(s,w(k))"
   ]
  },
  {
   "cell_type": "code",
   "execution_count": 41,
   "metadata": {
    "collapsed": false,
    "scrolled": true
   },
   "outputs": [],
   "source": [
    "joint_probability_of_graph = joint_probability_of_graph.subs(lamb(theta(k)),1)"
   ]
  },
  {
   "cell_type": "code",
   "execution_count": 42,
   "metadata": {
    "collapsed": false
   },
   "outputs": [
    {
     "data": {
      "text/latex": [
       "$$\\log{\\left (\\prod_{k=1}^{K} \\operatorname{g_{1/K,\\sigma}}{\\left (w{\\left (k \\right )} \\right )} \\right )} + \\log{\\left (\\prod_{\\substack{1 \\leq v \\leq N\\\\1 \\leq u \\leq N}} \\left(1 - e^{- 2 w{\\left (u \\right )} w{\\left (v \\right )}}\\right)^{z{\\left (u,v \\right )}} \\left(e^{- 2 w{\\left (u \\right )} w{\\left (v \\right )}}\\right)^{- z{\\left (u,v \\right )} + 1} \\right )} + \\log{\\left (\\prod_{\\substack{N + 1 \\leq v \\leq K\\\\N + 1 \\leq u \\leq K}} e^{- 2 w{\\left (u \\right )} w{\\left (v \\right )}} \\right )}$$"
      ],
      "text/plain": [
       "                                     ⎛   N        N                           \n",
       "   ⎛  K                       ⎞      ⎜┬──────┬ ┬──────┬                       \n",
       "   ⎜┬───┬                     ⎟      ⎜│      │ │      │                    z(u\n",
       "log⎜│   │ g_{1/K,\\sigma}(w(k))⎟ + log⎜│      │ │      │ ⎛     -2⋅w(u)⋅w(v)⎞   \n",
       "   ⎜│   │                     ⎟      ⎜│      │ │      │ ⎝1 - ℯ            ⎠   \n",
       "   ⎝k = 1                     ⎠      ⎜│      │ │      │                       \n",
       "                                     ⎝ u = 1    v = 1                         \n",
       "\n",
       "                                ⎞      ⎛    K         K                  ⎞\n",
       "                                ⎟      ⎜  ┬────┬    ┬────┬               ⎟\n",
       ", v)                -z(u, v) + 1⎟      ⎜  │    │    │    │   -2⋅w(u)⋅w(v)⎟\n",
       "     ⎛ -2⋅w(u)⋅w(v)⎞            ⎟ + log⎜  │    │    │    │  ℯ            ⎟\n",
       "    ⋅⎝ℯ            ⎠            ⎟      ⎜  │    │    │    │               ⎟\n",
       "                                ⎟      ⎝u = N + 1 v = N + 1              ⎠\n",
       "                                ⎠                                         "
      ]
     },
     "execution_count": 42,
     "metadata": {},
     "output_type": "execute_result"
    }
   ],
   "source": [
    "expand_log(log(joint_probability_of_graph),force=True)"
   ]
  },
  {
   "cell_type": "markdown",
   "metadata": {},
   "source": [
    "# Algebra Log Graph"
   ]
  },
  {
   "cell_type": "code",
   "execution_count": 43,
   "metadata": {
    "collapsed": false
   },
   "outputs": [
    {
     "data": {
      "text/latex": [
       "$$2 w_{1}^{2} z_{1,1} - 2 w_{1}^{2} + 2 w_{1} w_{2} z_{1,2} + 2 w_{1} w_{2} z_{2,1} - 4 w_{1} w_{2} + 2 w_{1} w_{3} z_{1,3} + 2 w_{1} w_{3} z_{3,1} - 4 w_{1} w_{3} + 2 w_{2}^{2} z_{2,2} - 2 w_{2}^{2} + 2 w_{2} w_{3} z_{2,3} + 2 w_{2} w_{3} z_{3,2} - 4 w_{2} w_{3} + 2 w_{3}^{2} z_{3,3} - 2 w_{3}^{2} + z_{1,1} \\log{\\left (1 - e^{- 2 w_{1}^{2}} \\right )} + z_{1,2} \\log{\\left (1 - e^{- 2 w_{1} w_{2}} \\right )} + z_{1,3} \\log{\\left (1 - e^{- 2 w_{1} w_{3}} \\right )} + z_{2,1} \\log{\\left (1 - e^{- 2 w_{1} w_{2}} \\right )} + z_{2,2} \\log{\\left (1 - e^{- 2 w_{2}^{2}} \\right )} + z_{2,3} \\log{\\left (1 - e^{- 2 w_{2} w_{3}} \\right )} + z_{3,1} \\log{\\left (1 - e^{- 2 w_{1} w_{3}} \\right )} + z_{3,2} \\log{\\left (1 - e^{- 2 w_{2} w_{3}} \\right )} + z_{3,3} \\log{\\left (1 - e^{- 2 w_{3}^{2}} \\right )}$$"
      ],
      "text/plain": [
       "                                                                              \n",
       "    2             2                                                           \n",
       "2⋅w₁ ⋅z_1,1 - 2⋅w₁  + 2⋅w₁⋅w₂⋅z_1,2 + 2⋅w₁⋅w₂⋅z_2,1 - 4⋅w₁⋅w₂ + 2⋅w₁⋅w₃⋅z_1,3 \n",
       "\n",
       "                                                                              \n",
       "                                2             2                               \n",
       "+ 2⋅w₁⋅w₃⋅z_3,1 - 4⋅w₁⋅w₃ + 2⋅w₂ ⋅z_2,2 - 2⋅w₂  + 2⋅w₂⋅w₃⋅z_2,3 + 2⋅w₂⋅w₃⋅z_3,\n",
       "\n",
       "                                             ⎛          2⎞                    \n",
       "                  2             2            ⎜     -2⋅w₁ ⎟            ⎛     -2\n",
       "2 - 4⋅w₂⋅w₃ + 2⋅w₃ ⋅z_3,3 - 2⋅w₃  + z_1,1⋅log⎝1 - ℯ      ⎠ + z_1,2⋅log⎝1 - ℯ  \n",
       "\n",
       "                                                                         ⎛    \n",
       "⋅w₁⋅w₂⎞            ⎛     -2⋅w₁⋅w₃⎞            ⎛     -2⋅w₁⋅w₂⎞            ⎜    \n",
       "      ⎠ + z_1,3⋅log⎝1 - ℯ        ⎠ + z_2,1⋅log⎝1 - ℯ        ⎠ + z_2,2⋅log⎝1 - \n",
       "\n",
       "      2⎞                                                                      \n",
       " -2⋅w₂ ⎟            ⎛     -2⋅w₂⋅w₃⎞            ⎛     -2⋅w₁⋅w₃⎞            ⎛   \n",
       "ℯ      ⎠ + z_2,3⋅log⎝1 - ℯ        ⎠ + z_3,1⋅log⎝1 - ℯ        ⎠ + z_3,2⋅log⎝1 -\n",
       "\n",
       "                       ⎛          2⎞\n",
       "  -2⋅w₂⋅w₃⎞            ⎜     -2⋅w₃ ⎟\n",
       " ℯ        ⎠ + z_3,3⋅log⎝1 - ℯ      ⎠"
      ]
     },
     "execution_count": 43,
     "metadata": {},
     "output_type": "execute_result"
    }
   ],
   "source": [
    "expandend_log_graph_likehood = expand_log(log(likehood_of_graph.subs(N,3).doit()),force=True).simplify()\n",
    "\n",
    "A = backToSubIndiceDouble(expandend_log_graph_likehood,z,(1,4,1))\n",
    "B = backToSubIndice(A,w,(1,4,1))\n",
    "B"
   ]
  },
  {
   "cell_type": "code",
   "execution_count": 44,
   "metadata": {
    "collapsed": false
   },
   "outputs": [
    {
     "data": {
      "text/latex": [
       "$$2 w^{2}{\\left (1 \\right )} z{\\left (1,1 \\right )} - 2 w^{2}{\\left (1 \\right )} + 2 w{\\left (1 \\right )} w{\\left (2 \\right )} z{\\left (1,2 \\right )} + 2 w{\\left (1 \\right )} w{\\left (2 \\right )} z{\\left (2,1 \\right )} - 4 w{\\left (1 \\right )} w{\\left (2 \\right )} + 2 w{\\left (1 \\right )} w{\\left (3 \\right )} z{\\left (1,3 \\right )} + 2 w{\\left (1 \\right )} w{\\left (3 \\right )} z{\\left (3,1 \\right )} - 4 w{\\left (1 \\right )} w{\\left (3 \\right )} + 2 w^{2}{\\left (2 \\right )} z{\\left (2,2 \\right )} - 2 w^{2}{\\left (2 \\right )} + 2 w{\\left (2 \\right )} w{\\left (3 \\right )} z{\\left (2,3 \\right )} + 2 w{\\left (2 \\right )} w{\\left (3 \\right )} z{\\left (3,2 \\right )} - 4 w{\\left (2 \\right )} w{\\left (3 \\right )} + 2 w^{2}{\\left (3 \\right )} z{\\left (3,3 \\right )} - 2 w^{2}{\\left (3 \\right )} + z{\\left (1,1 \\right )} \\log{\\left (1 - e^{- 2 w^{2}{\\left (1 \\right )}} \\right )} + z{\\left (1,2 \\right )} \\log{\\left (1 - e^{- 2 w{\\left (1 \\right )} w{\\left (2 \\right )}} \\right )} + z{\\left (1,3 \\right )} \\log{\\left (1 - e^{- 2 w{\\left (1 \\right )} w{\\left (3 \\right )}} \\right )} + z{\\left (2,1 \\right )} \\log{\\left (1 - e^{- 2 w{\\left (1 \\right )} w{\\left (2 \\right )}} \\right )} + z{\\left (2,2 \\right )} \\log{\\left (1 - e^{- 2 w^{2}{\\left (2 \\right )}} \\right )} + z{\\left (2,3 \\right )} \\log{\\left (1 - e^{- 2 w{\\left (2 \\right )} w{\\left (3 \\right )}} \\right )} + z{\\left (3,1 \\right )} \\log{\\left (1 - e^{- 2 w{\\left (1 \\right )} w{\\left (3 \\right )}} \\right )} + z{\\left (3,2 \\right )} \\log{\\left (1 - e^{- 2 w{\\left (2 \\right )} w{\\left (3 \\right )}} \\right )} + z{\\left (3,3 \\right )} \\log{\\left (1 - e^{- 2 w^{2}{\\left (3 \\right )}} \\right )}$$"
      ],
      "text/plain": [
       "                                                                              \n",
       "   2                 2                                                        \n",
       "2⋅w (1)⋅z(1, 1) - 2⋅w (1) + 2⋅w(1)⋅w(2)⋅z(1, 2) + 2⋅w(1)⋅w(2)⋅z(2, 1) - 4⋅w(1)\n",
       "\n",
       "                                                                              \n",
       "                                                                     2        \n",
       "⋅w(2) + 2⋅w(1)⋅w(3)⋅z(1, 3) + 2⋅w(1)⋅w(3)⋅z(3, 1) - 4⋅w(1)⋅w(3) + 2⋅w (2)⋅z(2,\n",
       "\n",
       "                                                                              \n",
       "         2                                                                   2\n",
       " 2) - 2⋅w (2) + 2⋅w(2)⋅w(3)⋅z(2, 3) + 2⋅w(2)⋅w(3)⋅z(3, 2) - 4⋅w(2)⋅w(3) + 2⋅w \n",
       "\n",
       "                                   ⎛         2   ⎞                            \n",
       "                 2                 ⎜     -2⋅w (1)⎟              ⎛     -2⋅w(1)⋅\n",
       "(3)⋅z(3, 3) - 2⋅w (3) + z(1, 1)⋅log⎝1 - ℯ        ⎠ + z(1, 2)⋅log⎝1 - ℯ        \n",
       "\n",
       "                                                                              \n",
       "w(2)⎞              ⎛     -2⋅w(1)⋅w(3)⎞              ⎛     -2⋅w(1)⋅w(2)⎞       \n",
       "    ⎠ + z(1, 3)⋅log⎝1 - ℯ            ⎠ + z(2, 1)⋅log⎝1 - ℯ            ⎠ + z(2,\n",
       "\n",
       "       ⎛         2   ⎞                                                        \n",
       "       ⎜     -2⋅w (2)⎟              ⎛     -2⋅w(2)⋅w(3)⎞              ⎛     -2⋅\n",
       " 2)⋅log⎝1 - ℯ        ⎠ + z(2, 3)⋅log⎝1 - ℯ            ⎠ + z(3, 1)⋅log⎝1 - ℯ   \n",
       "\n",
       "                                                         ⎛         2   ⎞\n",
       "w(1)⋅w(3)⎞              ⎛     -2⋅w(2)⋅w(3)⎞              ⎜     -2⋅w (3)⎟\n",
       "         ⎠ + z(3, 2)⋅log⎝1 - ℯ            ⎠ + z(3, 3)⋅log⎝1 - ℯ        ⎠"
      ]
     },
     "execution_count": 44,
     "metadata": {},
     "output_type": "execute_result"
    }
   ],
   "source": [
    "expandend_log_graph_likehood"
   ]
  },
  {
   "cell_type": "code",
   "execution_count": 45,
   "metadata": {
    "collapsed": false
   },
   "outputs": [
    {
     "data": {
      "text/latex": [
       "$$2 w^{2}{\\left (1 \\right )} z{\\left (1,1 \\right )} - 2 w^{2}{\\left (1 \\right )} + 2 w{\\left (1 \\right )} w{\\left (2 \\right )} z{\\left (1,2 \\right )} + 2 w{\\left (1 \\right )} w{\\left (2 \\right )} z{\\left (2,1 \\right )} - 4 w{\\left (1 \\right )} w{\\left (2 \\right )} + 2 w{\\left (1 \\right )} w{\\left (3 \\right )} z{\\left (1,3 \\right )} + 2 w{\\left (1 \\right )} w{\\left (3 \\right )} z{\\left (3,1 \\right )} - 4 w{\\left (1 \\right )} w{\\left (3 \\right )} + z{\\left (1,1 \\right )} \\log{\\left (1 - e^{- 2 w^{2}{\\left (1 \\right )}} \\right )} + z{\\left (1,2 \\right )} \\log{\\left (1 - e^{- 2 w{\\left (1 \\right )} w{\\left (2 \\right )}} \\right )} + z{\\left (1,3 \\right )} \\log{\\left (1 - e^{- 2 w{\\left (1 \\right )} w{\\left (3 \\right )}} \\right )} + z{\\left (2,1 \\right )} \\log{\\left (1 - e^{- 2 w{\\left (1 \\right )} w{\\left (2 \\right )}} \\right )} + z{\\left (3,1 \\right )} \\log{\\left (1 - e^{- 2 w{\\left (1 \\right )} w{\\left (3 \\right )}} \\right )}$$"
      ],
      "text/plain": [
       "                                                                              \n",
       "   2                 2                                                        \n",
       "2⋅w (1)⋅z(1, 1) - 2⋅w (1) + 2⋅w(1)⋅w(2)⋅z(1, 2) + 2⋅w(1)⋅w(2)⋅z(2, 1) - 4⋅w(1)\n",
       "\n",
       "                                                                             ⎛\n",
       "                                                                             ⎜\n",
       "⋅w(2) + 2⋅w(1)⋅w(3)⋅z(1, 3) + 2⋅w(1)⋅w(3)⋅z(3, 1) - 4⋅w(1)⋅w(3) + z(1, 1)⋅log⎝\n",
       "\n",
       "         2   ⎞                                                                \n",
       "     -2⋅w (1)⎟              ⎛     -2⋅w(1)⋅w(2)⎞              ⎛     -2⋅w(1)⋅w(3\n",
       "1 - ℯ        ⎠ + z(1, 2)⋅log⎝1 - ℯ            ⎠ + z(1, 3)⋅log⎝1 - ℯ           \n",
       "\n",
       "                                                                    \n",
       ")⎞              ⎛     -2⋅w(1)⋅w(2)⎞              ⎛     -2⋅w(1)⋅w(3)⎞\n",
       " ⎠ + z(2, 1)⋅log⎝1 - ℯ            ⎠ + z(3, 1)⋅log⎝1 - ℯ            ⎠"
      ]
     },
     "execution_count": 45,
     "metadata": {},
     "output_type": "execute_result"
    }
   ],
   "source": [
    "take_w1 = collectTermsWithVariable(expandend_log_graph_likehood,w(1))\n",
    "take_w1"
   ]
  },
  {
   "cell_type": "code",
   "execution_count": 46,
   "metadata": {
    "collapsed": false
   },
   "outputs": [],
   "source": [
    "take_w1 = factor(take_w1,w(1))"
   ]
  },
  {
   "cell_type": "code",
   "execution_count": 47,
   "metadata": {
    "collapsed": false
   },
   "outputs": [
    {
     "data": {
      "text/latex": [
       "$$\\left(2 z{\\left (1,1 \\right )} - 2\\right) w^{2}{\\left (1 \\right )} + \\left(2 w{\\left (2 \\right )} z{\\left (1,2 \\right )} + 2 w{\\left (2 \\right )} z{\\left (2,1 \\right )} - 4 w{\\left (2 \\right )} + 2 w{\\left (3 \\right )} z{\\left (1,3 \\right )} + 2 w{\\left (3 \\right )} z{\\left (3,1 \\right )} - 4 w{\\left (3 \\right )}\\right) w{\\left (1 \\right )} + z{\\left (1,1 \\right )} \\log{\\left (1 - e^{- 2 w^{2}{\\left (1 \\right )}} \\right )} + z{\\left (1,2 \\right )} \\log{\\left (1 - e^{- 2 w{\\left (1 \\right )} w{\\left (2 \\right )}} \\right )} + z{\\left (1,3 \\right )} \\log{\\left (1 - e^{- 2 w{\\left (1 \\right )} w{\\left (3 \\right )}} \\right )} + z{\\left (2,1 \\right )} \\log{\\left (1 - e^{- 2 w{\\left (1 \\right )} w{\\left (2 \\right )}} \\right )} + z{\\left (3,1 \\right )} \\log{\\left (1 - e^{- 2 w{\\left (1 \\right )} w{\\left (3 \\right )}} \\right )}$$"
      ],
      "text/plain": [
       "                                                                              \n",
       "                 2                                                            \n",
       "(2⋅z(1, 1) - 2)⋅w (1) + (2⋅w(2)⋅z(1, 2) + 2⋅w(2)⋅z(2, 1) - 4⋅w(2) + 2⋅w(3)⋅z(1\n",
       "\n",
       "                                                  ⎛         2   ⎞             \n",
       "                                                  ⎜     -2⋅w (1)⎟             \n",
       ", 3) + 2⋅w(3)⋅z(3, 1) - 4⋅w(3))⋅w(1) + z(1, 1)⋅log⎝1 - ℯ        ⎠ + z(1, 2)⋅lo\n",
       "\n",
       "                                                                              \n",
       " ⎛     -2⋅w(1)⋅w(2)⎞              ⎛     -2⋅w(1)⋅w(3)⎞              ⎛     -2⋅w(\n",
       "g⎝1 - ℯ            ⎠ + z(1, 3)⋅log⎝1 - ℯ            ⎠ + z(2, 1)⋅log⎝1 - ℯ     \n",
       "\n",
       "                                         \n",
       "1)⋅w(2)⎞              ⎛     -2⋅w(1)⋅w(3)⎞\n",
       "       ⎠ + z(3, 1)⋅log⎝1 - ℯ            ⎠"
      ]
     },
     "execution_count": 47,
     "metadata": {},
     "output_type": "execute_result"
    }
   ],
   "source": [
    "take_w1"
   ]
  },
  {
   "cell_type": "code",
   "execution_count": 48,
   "metadata": {
    "collapsed": false
   },
   "outputs": [
    {
     "data": {
      "text/latex": [
       "$$w_{1}^{2} \\left(2 z_{1,1} - 2\\right) + w_{1} \\left(2 w_{2} z_{1,2} + 2 w_{2} z_{2,1} - 4 w_{2} + 2 w_{3} z_{1,3} + 2 w_{3} z_{3,1} - 4 w_{3}\\right) + z_{1,1} \\log{\\left (1 - e^{- 2 w_{1}^{2}} \\right )} + z_{1,2} \\log{\\left (1 - e^{- 2 w_{1} w_{2}} \\right )} + z_{1,3} \\log{\\left (1 - e^{- 2 w_{1} w_{3}} \\right )} + z_{2,1} \\log{\\left (1 - e^{- 2 w_{1} w_{2}} \\right )} + z_{3,1} \\log{\\left (1 - e^{- 2 w_{1} w_{3}} \\right )}$$"
      ],
      "text/plain": [
       "                                                                              \n",
       "  2                                                                           \n",
       "w₁ ⋅(2⋅z_1,1 - 2) + w₁⋅(2⋅w₂⋅z_1,2 + 2⋅w₂⋅z_2,1 - 4⋅w₂ + 2⋅w₃⋅z_1,3 + 2⋅w₃⋅z_3\n",
       "\n",
       "                      ⎛          2⎞                                           \n",
       "                      ⎜     -2⋅w₁ ⎟            ⎛     -2⋅w₁⋅w₂⎞            ⎛   \n",
       ",1 - 4⋅w₃) + z_1,1⋅log⎝1 - ℯ      ⎠ + z_1,2⋅log⎝1 - ℯ        ⎠ + z_1,3⋅log⎝1 -\n",
       "\n",
       "                                                                 \n",
       "  -2⋅w₁⋅w₃⎞            ⎛     -2⋅w₁⋅w₂⎞            ⎛     -2⋅w₁⋅w₃⎞\n",
       " ℯ        ⎠ + z_2,1⋅log⎝1 - ℯ        ⎠ + z_3,1⋅log⎝1 - ℯ        ⎠"
      ]
     },
     "execution_count": 48,
     "metadata": {},
     "output_type": "execute_result"
    }
   ],
   "source": [
    "backToSubIndice(backToSubIndiceDouble(take_w1,z,(1,4,1)),w,(1,4,1))"
   ]
  },
  {
   "cell_type": "markdown",
   "metadata": {},
   "source": [
    "# Algebra of Prior for Weights"
   ]
  },
  {
   "cell_type": "code",
   "execution_count": 49,
   "metadata": {
    "collapsed": false
   },
   "outputs": [
    {
     "data": {
      "text/latex": [
       "$$\\frac{\\sigma \\left(- w{\\left (k \\right )} e^{- \\left(K \\sigma\\right)^{\\frac{1}{\\sigma}}} + 1\\right) w^{- \\sigma - 1}{\\left (k \\right )} e^{- \\tau w{\\left (k \\right )}}}{\\left(- \\tau^{\\sigma} + \\left(\\tau + \\left(K \\sigma\\right)^{\\frac{1}{\\sigma}}\\right)^{\\sigma}\\right) \\Gamma{\\left (- \\sigma + 1 \\right )}}$$"
      ],
      "text/plain": [
       "       ⎛         \\sigma__________    ⎞                         \n",
       "       ⎜        -    ╲╱ K⋅\\sigma     ⎟  -\\sigma - 1     -τ⋅w(k)\n",
       "\\sigma⋅⎝- w(k)⋅ℯ                  + 1⎠⋅w           (k)⋅ℯ       \n",
       "───────────────────────────────────────────────────────────────\n",
       " ⎛                                  \\sigma⎞                    \n",
       " ⎜   \\sigma   ⎛    \\sigma__________⎞      ⎟                    \n",
       " ⎝- τ       + ⎝τ +     ╲╱ K⋅\\sigma ⎠      ⎠⋅\\Gamma(-\\sigma + 1)"
      ]
     },
     "execution_count": 49,
     "metadata": {},
     "output_type": "execute_result"
    }
   ],
   "source": [
    "bfry_density.subs(s,w(k))"
   ]
  },
  {
   "cell_type": "code",
   "execution_count": 50,
   "metadata": {
    "collapsed": false
   },
   "outputs": [
    {
     "data": {
      "text/latex": [
       "$$- \\tau w_{1} + \\left(- \\sigma - 1\\right) \\log{\\left (w_{1} \\right )} + \\log{\\left (- w_{1} e^{- \\left(K \\sigma\\right)^{\\frac{1}{\\sigma}}} + 1 \\right )}$$"
      ],
      "text/plain": [
       "                                   ⎛       \\sigma__________    ⎞\n",
       "                                   ⎜      -    ╲╱ K⋅\\sigma     ⎟\n",
       "-τ⋅w₁ + (-\\sigma - 1)⋅log(w₁) + log⎝- w₁⋅ℯ                  + 1⎠"
      ]
     },
     "execution_count": 50,
     "metadata": {},
     "output_type": "execute_result"
    }
   ],
   "source": [
    "prior_of_weights = prior_of_weights.subs(lamb(theta(k)),1).subs(K,2)\n",
    "log_prior_w1 = collectTermsWithVariable(expand_log(log(prior_of_weights.doit()),force=True),w(1))\n",
    "expand_log_prior_w1 = expand_log(log_prior_w1.subs(bfry_density_function(w(1)),bfry_density.subs(s,w(1))),force=True)\n",
    "expand_log_prior_w1 = collectTermsWithVariable(expand_log_prior_w1,w(1))\n",
    "backToSubIndice(expand_log_prior_w1,w,(1,4,1))"
   ]
  },
  {
   "cell_type": "code",
   "execution_count": null,
   "metadata": {
    "collapsed": false
   },
   "outputs": [],
   "source": [
    "integrate(gamma_distribution*log(1-exp(-x)),(x,0,oo))"
   ]
  },
  {
   "cell_type": "code",
   "execution_count": 57,
   "metadata": {
    "collapsed": false
   },
   "outputs": [
    {
     "data": {
      "text/latex": [
       "$$\\begin{cases} \\frac{\\beta^{\\alpha} \\beta^{- \\alpha + 1} \\Gamma{\\left(\\alpha \\right)}}{\\beta \\Gamma{\\left (\\alpha \\right )}} & \\text{for}\\: \\left(- \\Re{\\alpha} + 1 < 1 \\wedge \\left|{\\operatorname{periodic_{argument}}{\\left (\\beta,\\infty \\right )}}\\right| < \\frac{\\pi}{2}\\right) \\vee \\left(\\left|{\\operatorname{periodic_{argument}}{\\left (\\beta,\\infty \\right )}}\\right| = \\frac{\\pi}{2} \\wedge - \\Re{\\alpha} + 2 > 1 \\wedge - \\Re{\\alpha} + 1 < 1\\right) \\\\\\int_{0}^{\\infty} \\frac{\\beta^{\\alpha} x^{\\alpha - 1} e^{- \\beta x}}{\\Gamma{\\left (\\alpha \\right )}}\\, dx & \\text{otherwise} \\end{cases}$$"
      ],
      "text/plain": [
       "⎧     \\alpha      -\\alpha + 1                                                 \n",
       "⎪\\beta      ⋅\\beta           ⋅Γ(\\alpha)      ⎛                                \n",
       "⎪──────────────────────────────────────  for ⎜-re(\\alpha) + 1 < 1 ∧ │periodic_\n",
       "⎪         \\beta⋅\\Gamma(\\alpha)               ⎝                                \n",
       "⎪                                                                             \n",
       "⎪∞                                                                            \n",
       "⎨⌠                                                                            \n",
       "⎪⎮      \\alpha  \\alpha - 1  -\\beta⋅x                                          \n",
       "⎪⎮ \\beta      ⋅x          ⋅ℯ                                                  \n",
       "⎪⎮ ───────────────────────────────── dx                                       \n",
       "⎪⎮           \\Gamma(\\alpha)                                                   \n",
       "⎪⌡                                                                            \n",
       "⎩0                                                                            \n",
       "\n",
       "                                                                              \n",
       "                      π⎞   ⎛                                π                 \n",
       "argument(\\beta, ∞)│ < ─⎟ ∨ ⎜│periodic_argument(\\beta, ∞)│ = ─ ∧ -re(\\alpha) + \n",
       "                      2⎠   ⎝                                2                 \n",
       "                                                                              \n",
       "                                                                              \n",
       "                                                                              \n",
       "                                                                              \n",
       "                                                                              \n",
       "                              otherwise                                       \n",
       "                                                                              \n",
       "                                                                              \n",
       "                                                                              \n",
       "\n",
       "                            \n",
       "                           ⎞\n",
       "2 > 1 ∧ -re(\\alpha) + 1 < 1⎟\n",
       "                           ⎠\n",
       "                            \n",
       "                            \n",
       "                            \n",
       "                            \n",
       "                            \n",
       "                            \n",
       "                            \n",
       "                            \n",
       "                            "
      ]
     },
     "execution_count": 57,
     "metadata": {},
     "output_type": "execute_result"
    }
   ],
   "source": [
    "integrate(gamma_distribution,(x,0,oo))"
   ]
  },
  {
   "cell_type": "code",
   "execution_count": 58,
   "metadata": {
    "collapsed": true
   },
   "outputs": [],
   "source": [
    "gamma_distribution = ((beta**(alpha))/G(alpha))*(x**(alpha-1))*(exp(-beta*x))"
   ]
  },
  {
   "cell_type": "code",
   "execution_count": 59,
   "metadata": {
    "collapsed": false
   },
   "outputs": [
    {
     "data": {
      "text/latex": [
       "$$\\frac{\\beta^{\\alpha} x^{\\alpha - 1} e^{- \\beta x}}{\\Gamma{\\left (\\alpha \\right )}}$$"
      ],
      "text/plain": [
       "     \\alpha  \\alpha - 1  -\\beta⋅x\n",
       "\\beta      ⋅x          ⋅ℯ        \n",
       "─────────────────────────────────\n",
       "          \\Gamma(\\alpha)         "
      ]
     },
     "execution_count": 59,
     "metadata": {},
     "output_type": "execute_result"
    }
   ],
   "source": [
    "gamma_distribution"
   ]
  },
  {
   "cell_type": "markdown",
   "metadata": {},
   "source": [
    "# Variational Lower Bound\n",
    "\n",
    "\n",
    "We require for the variational approximation of the Graph and approximation for $q(\\*W)$\n",
    "\n",
    "\\begin{equation}\n",
    "L = \\mathbb{E}_{q(\\*W)}[P(\\*Z,\\*W)] - \\mathbb{E}_{q(\\*W)}[P(\\*W)]\n",
    "\\end{equation}\n",
    "\n",
    "\\begin{equation}\n",
    "L = \\mathbb{E}_{q(\\*W)}[P(\\*Z|\\*W)] - \\text{KL}[q(\\*W)|P(\\*W)]\n",
    "\\end{equation}"
   ]
  },
  {
   "cell_type": "markdown",
   "metadata": {},
   "source": [
    "# BFRY"
   ]
  },
  {
   "cell_type": "markdown",
   "metadata": {},
   "source": [
    "$\\text{BRS}(c,\\tau,\\sigma) = \\frac{\\sigma s^{- \\sigma - 1} \\left(- s e^{- \\left(\\frac{\\sigma}{c}\\right)^{\\frac{1}{\\sigma}}} + 1\\right) e^{- \\tau \\theta}}{\\left(- \\tau^{\\sigma} + \\left(\\tau + \\left(\\frac{\\sigma}{c}\\right)^{\\frac{1}{\\sigma}}\\right)^{\\sigma}\\right) \\Gamma{\\left (- \\sigma + 1 \\right )}}$"
   ]
  },
  {
   "cell_type": "code",
   "execution_count": 11,
   "metadata": {
    "collapsed": false
   },
   "outputs": [],
   "source": [
    "#==========================\n",
    "# GRAPH VARIABLES\n",
    "#==========================\n",
    "Da = Symbol(\"D^{*}_{\\\\alpha}\")\n",
    "Da\n",
    "\n",
    "#==========================\n",
    "# Densities variables\n",
    "#==========================\n",
    "Indicator = Symbol(\"\\\\mathbb{1}\")\n",
    "Indicator_tilted = Symbol(\"\\\\mathbb{1}_{\\{ \\\\tau + (\\\\frac{\\\\alpha}{c})^{\\\\frac{1}{\\\\alpha}} \\leq t \\leq \\\\tau^{-1} \\}}\")"
   ]
  },
  {
   "cell_type": "code",
   "execution_count": 12,
   "metadata": {
    "collapsed": false
   },
   "outputs": [
    {
     "data": {
      "text/latex": [
       "$$\\tau$$"
      ],
      "text/plain": [
       "τ"
      ]
     },
     "execution_count": 12,
     "metadata": {},
     "output_type": "execute_result"
    }
   ],
   "source": [
    "tau"
   ]
  },
  {
   "cell_type": "code",
   "execution_count": 13,
   "metadata": {
    "collapsed": false
   },
   "outputs": [
    {
     "data": {
      "text/latex": [
       "$$\\frac{\\alpha \\mathbb{1}_{\\{ \\tau + (\\frac{\\alpha}{c})^{\\frac{1}{\\alpha}} \\leq t \\leq \\tau^{-1} \\}}}{- \\tau^{\\alpha} + \\left(\\tau + \\left(\\frac{\\alpha}{c}\\right)^{\\frac{1}{\\alpha}}\\right)^{\\alpha}} t^{- \\alpha - 1}$$"
      ],
      "text/plain": [
       "                                                                              \n",
       "\\alpha⋅\\mathbb{1}_{\\{ \\tau + (\\frac{\\alpha}{c})__{\\frac{1}{\\alpha}} \\leq t \\le\n",
       "──────────────────────────────────────────────────────────────────────────────\n",
       "                                                                    \\alpha    \n",
       "                                              ⎛            ________⎞          \n",
       "                                     \\alpha   ⎜           ╱ \\alpha ⎟          \n",
       "                                  - τ       + ⎜τ + \\alpha╱  ────── ⎟          \n",
       "                                              ⎝        ╲╱     c    ⎠          \n",
       "\n",
       "                  -\\alpha - 1\n",
       "q \\tau__{-1} \\}}⋅t           \n",
       "─────────────────────────────\n",
       "                             \n",
       "                             \n",
       "                             \n",
       "                             \n",
       "                             "
      ]
     },
     "execution_count": 13,
     "metadata": {},
     "output_type": "execute_result"
    }
   ],
   "source": [
    "((alpha*(t**(-alpha-1))*Indicator_tilted)/((tau+(alpha/c)**(1/alpha))**alpha - tau**alpha))"
   ]
  },
  {
   "cell_type": "code",
   "execution_count": 14,
   "metadata": {
    "collapsed": false
   },
   "outputs": [],
   "source": [
    "tilted_no_indicator = ((alpha*(t**(-alpha-1)))/((tau+(alpha/c)**(1/alpha))**alpha - tau**alpha))"
   ]
  },
  {
   "cell_type": "code",
   "execution_count": 15,
   "metadata": {
    "collapsed": false
   },
   "outputs": [
    {
     "data": {
      "text/latex": [
       "$$\\frac{\\alpha t^{- \\alpha - 1}}{- \\tau^{\\alpha} + \\left(\\tau + \\left(\\frac{\\alpha}{c}\\right)^{\\frac{1}{\\alpha}}\\right)^{\\alpha}}$$"
      ],
      "text/plain": [
       "                  -\\alpha - 1           \n",
       "          \\alpha⋅t                      \n",
       "────────────────────────────────────────\n",
       "                                  \\alpha\n",
       "            ⎛            ________⎞      \n",
       "   \\alpha   ⎜           ╱ \\alpha ⎟      \n",
       "- τ       + ⎜τ + \\alpha╱  ────── ⎟      \n",
       "            ⎝        ╲╱     c    ⎠      "
      ]
     },
     "execution_count": 15,
     "metadata": {},
     "output_type": "execute_result"
    }
   ],
   "source": [
    "tilted_no_indicator"
   ]
  },
  {
   "cell_type": "code",
   "execution_count": 16,
   "metadata": {
    "collapsed": false
   },
   "outputs": [],
   "source": [
    "eq = Eq(tilted_no_indicator,y)"
   ]
  },
  {
   "cell_type": "code",
   "execution_count": 17,
   "metadata": {
    "collapsed": false
   },
   "outputs": [
    {
     "data": {
      "text/latex": [
       "$$\\frac{\\alpha}{- \\tau^{\\alpha} + \\left(\\tau + \\left(\\frac{\\alpha}{c}\\right)^{\\frac{1}{\\alpha}}\\right)^{\\alpha}} \\begin{cases} \\log{\\left (b \\right )} & \\text{for}\\: - \\alpha - 1 = -1 \\\\- \\frac{b^{- \\alpha}}{\\alpha} & \\text{otherwise} \\end{cases} - \\frac{\\alpha}{- \\tau^{\\alpha} + \\left(\\tau + \\left(\\frac{\\alpha}{c}\\right)^{\\frac{1}{\\alpha}}\\right)^{\\alpha}} \\begin{cases} \\log{\\left (x \\right )} & \\text{for}\\: - \\alpha - 1 = -1 \\\\- \\frac{x^{- \\alpha}}{\\alpha} & \\text{otherwise} \\end{cases}$$"
      ],
      "text/plain": [
       "       ⎛⎧  log(b)    for -\\alpha - 1 = -1⎞          ⎛⎧  log(x)    for -\\alpha \n",
       "       ⎜⎪                                ⎟          ⎜⎪                        \n",
       "       ⎜⎪  -\\alpha                       ⎟          ⎜⎪  -\\alpha               \n",
       "\\alpha⋅⎜⎨-b                              ⎟   \\alpha⋅⎜⎨-x                      \n",
       "       ⎜⎪──────────       otherwise      ⎟          ⎜⎪──────────       otherwi\n",
       "       ⎜⎪  \\alpha                        ⎟          ⎜⎪  \\alpha                \n",
       "       ⎝⎩                                ⎠          ⎝⎩                        \n",
       "────────────────────────────────────────── - ─────────────────────────────────\n",
       "                                   \\alpha                                     \n",
       "             ⎛            ________⎞                       ⎛            _______\n",
       "    \\alpha   ⎜           ╱ \\alpha ⎟              \\alpha   ⎜           ╱ \\alpha\n",
       " - τ       + ⎜τ + \\alpha╱  ────── ⎟           - τ       + ⎜τ + \\alpha╱  ──────\n",
       "             ⎝        ╲╱     c    ⎠                       ⎝        ╲╱     c   \n",
       "\n",
       "- 1 = -1⎞\n",
       "        ⎟\n",
       "        ⎟\n",
       "        ⎟\n",
       "se      ⎟\n",
       "        ⎟\n",
       "        ⎠\n",
       "─────────\n",
       "  \\alpha \n",
       "_⎞       \n",
       " ⎟       \n",
       " ⎟       \n",
       " ⎠       "
      ]
     },
     "execution_count": 17,
     "metadata": {},
     "output_type": "execute_result"
    }
   ],
   "source": [
    "tilted_no_indicator_integrated = integrate(tilted_no_indicator,(t,x,b))\n",
    "tilted_no_indicator_integrated"
   ]
  },
  {
   "cell_type": "code",
   "execution_count": 18,
   "metadata": {
    "collapsed": false
   },
   "outputs": [
    {
     "data": {
      "text/latex": [
       "$$- \\frac{b^{- \\alpha}}{\\alpha}$$"
      ],
      "text/plain": [
       "  -\\alpha \n",
       "-b        \n",
       "──────────\n",
       "  \\alpha  "
      ]
     },
     "execution_count": 18,
     "metadata": {},
     "output_type": "execute_result"
    }
   ],
   "source": [
    "tilted_no_indicator_integrated.args[0].args[-1].args[1][0]"
   ]
  },
  {
   "cell_type": "code",
   "execution_count": 19,
   "metadata": {
    "collapsed": false
   },
   "outputs": [
    {
     "data": {
      "text/latex": [
       "$$\\left [ \\left(\\frac{y}{\\alpha} \\left(- \\tau^{\\alpha} + \\left(\\tau + \\left(\\frac{\\alpha}{c}\\right)^{\\frac{1}{\\alpha}}\\right)^{\\alpha}\\right)\\right)^{- \\frac{1}{\\alpha + 1}}\\right ]$$"
      ],
      "text/plain": [
       "⎡                                                 -1     ⎤\n",
       "⎢                                              ──────────⎥\n",
       "⎢                                              \\alpha + 1⎥\n",
       "⎢⎛  ⎛                                  \\alpha⎞⎞          ⎥\n",
       "⎢⎜  ⎜            ⎛            ________⎞      ⎟⎟          ⎥\n",
       "⎢⎜  ⎜   \\alpha   ⎜           ╱ \\alpha ⎟      ⎟⎟          ⎥\n",
       "⎢⎜y⋅⎜- τ       + ⎜τ + \\alpha╱  ────── ⎟      ⎟⎟          ⎥\n",
       "⎢⎜  ⎝            ⎝        ╲╱     c    ⎠      ⎠⎟          ⎥\n",
       "⎢⎜────────────────────────────────────────────⎟          ⎥\n",
       "⎣⎝                   \\alpha                   ⎠          ⎦"
      ]
     },
     "execution_count": 19,
     "metadata": {},
     "output_type": "execute_result"
    }
   ],
   "source": [
    "solve(eq,t)"
   ]
  },
  {
   "cell_type": "markdown",
   "metadata": {},
   "source": [
    "# BFRY Densities"
   ]
  },
  {
   "cell_type": "code",
   "execution_count": 20,
   "metadata": {
    "collapsed": false
   },
   "outputs": [],
   "source": [
    "Numerator = (alpha*s**(-alpha-1)*(exp(-tau*s))*(1-exp(-(alpha/c)**(1/alpha))*s))\n",
    "Denominator = G(1-alpha)*((tau+(alpha/c)**(1/alpha))**alpha - tau**alpha)\n",
    "bfry_density = (Numerator/Denominator)"
   ]
  },
  {
   "cell_type": "code",
   "execution_count": 22,
   "metadata": {
    "collapsed": false
   },
   "outputs": [
    {
     "data": {
      "text/latex": [
       "$$\\frac{\\sigma w^{- \\sigma - 1} \\left(- w e^{- \\left(\\frac{\\sigma}{c}\\right)^{\\frac{1}{\\sigma}}} + 1\\right) e^{- \\tau w}}{\\left(- \\tau^{\\sigma} + \\left(\\tau + \\left(\\frac{\\sigma}{c}\\right)^{\\frac{1}{\\sigma}}\\right)^{\\sigma}\\right) \\Gamma{\\left (- \\sigma + 1 \\right )}}$$"
      ],
      "text/plain": [
       "                        ⎛              ________    ⎞          \n",
       "                        ⎜             ╱ \\sigma     ⎟          \n",
       "                        ⎜     -\\sigma╱  ──────     ⎟          \n",
       "            -\\sigma - 1 ⎜          ╲╱     c        ⎟  -τ⋅w    \n",
       "    \\sigma⋅w           ⋅⎝- w⋅ℯ                  + 1⎠⋅ℯ        \n",
       "──────────────────────────────────────────────────────────────\n",
       "⎛                                  \\sigma⎞                    \n",
       "⎜            ⎛            ________⎞      ⎟                    \n",
       "⎜   \\sigma   ⎜           ╱ \\sigma ⎟      ⎟                    \n",
       "⎜- τ       + ⎜τ + \\sigma╱  ────── ⎟      ⎟⋅\\Gamma(-\\sigma + 1)\n",
       "⎝            ⎝        ╲╱     c    ⎠      ⎠                    "
      ]
     },
     "execution_count": 22,
     "metadata": {},
     "output_type": "execute_result"
    }
   ],
   "source": [
    "bfry_density.subs(alpha,sig).subs(s,w)"
   ]
  },
  {
   "cell_type": "code",
   "execution_count": 23,
   "metadata": {
    "collapsed": false
   },
   "outputs": [
    {
     "data": {
      "text/latex": [
       "$$g_{1/K,\\sigma}$$"
      ],
      "text/plain": [
       "g_{1/K,\\sigma}"
      ]
     },
     "execution_count": 23,
     "metadata": {},
     "output_type": "execute_result"
    }
   ],
   "source": [
    "bfry_density_function = Symbol(\"g_{1/K,\\sigma}\",function=True)\n",
    "bfry_density_function"
   ]
  },
  {
   "cell_type": "markdown",
   "metadata": {},
   "source": [
    "# Dirichlet"
   ]
  },
  {
   "cell_type": "code",
   "execution_count": 24,
   "metadata": {
    "collapsed": false
   },
   "outputs": [],
   "source": [
    "dirichlet = (G(n+1)/Product(G(n(k)+1),(k,1,K)))*Product(pk(k)**n(k),(k,1,K))"
   ]
  },
  {
   "cell_type": "code",
   "execution_count": 25,
   "metadata": {
    "collapsed": false
   },
   "outputs": [
    {
     "data": {
      "text/latex": [
       "$$\\frac{\\Gamma{\\left (n + 1 \\right )} \\prod_{k=1}^{3} w^{n{\\left (k \\right )}}{\\left (k \\right )}}{\\prod_{k=1}^{3} \\Gamma{\\left (n{\\left (k \\right )} + 1 \\right )}}$$"
      ],
      "text/plain": [
       "                3            \n",
       "              ┬────┬         \n",
       "              │    │  n(k)   \n",
       "\\Gamma(n + 1)⋅│    │ w    (k)\n",
       "              │    │         \n",
       "              k = 1          \n",
       "─────────────────────────────\n",
       "      3                      \n",
       "    ┬───┬                    \n",
       "    │   │ \\Gamma(n(k) + 1)   \n",
       "    │   │                    \n",
       "    k = 1                    "
      ]
     },
     "execution_count": 25,
     "metadata": {},
     "output_type": "execute_result"
    }
   ],
   "source": [
    "dirichlet.subs(K,3).subs(p(k),w(k))"
   ]
  },
  {
   "cell_type": "markdown",
   "metadata": {},
   "source": [
    "# Joint Model Likehood"
   ]
  },
  {
   "cell_type": "code",
   "execution_count": 26,
   "metadata": {
    "collapsed": false
   },
   "outputs": [
    {
     "data": {
      "text/latex": [
       "$$u^{D^{*}_{\\alpha} - 1} \\prod_{k=1}^{K} \\lambda{\\left (\\theta{\\left (k \\right )} \\right )} \\operatorname{g_{1/K,\\sigma}}{\\left (w{\\left (k \\right )} \\right )} e^{- u w{\\left (k \\right )}}$$"
      ],
      "text/plain": [
       "                       K                                                    \n",
       "                     ┬────┬                                                 \n",
       " D_{\\alpha}__{*} - 1 │    │                                          -u⋅w(k)\n",
       "u                   ⋅│    │ \\lambda(\\theta(k))⋅g_{1/K,\\sigma}(w(k))⋅ℯ       \n",
       "                     │    │                                                 \n",
       "                     k = 1                                                  "
      ]
     },
     "execution_count": 26,
     "metadata": {},
     "output_type": "execute_result"
    }
   ],
   "source": [
    "probability_of_fnrm = Product(bfry_density_function(w(k))*lamb(theta(k))*exp(-u*w(k)),(k,1,K))\n",
    "probability_of_fnrm = u**(Da-1)*probability_of_fnrm\n",
    "probability_of_fnrm"
   ]
  },
  {
   "cell_type": "code",
   "execution_count": 27,
   "metadata": {
    "collapsed": false
   },
   "outputs": [
    {
     "data": {
      "text/latex": [
       "$$u^{D^{*}_{\\alpha} - 1} \\prod_{k=1}^{K} \\lambda{\\left (\\theta{\\left (k \\right )} \\right )} \\operatorname{g_{1/K,\\sigma}}{\\left (w{\\left (k \\right )} \\right )} e^{- u w{\\left (k \\right )}}$$"
      ],
      "text/plain": [
       "                       K                                                    \n",
       "                     ┬────┬                                                 \n",
       " D_{\\alpha}__{*} - 1 │    │                                          -u⋅w(k)\n",
       "u                   ⋅│    │ \\lambda(\\theta(k))⋅g_{1/K,\\sigma}(w(k))⋅ℯ       \n",
       "                     │    │                                                 \n",
       "                     k = 1                                                  "
      ]
     },
     "execution_count": 27,
     "metadata": {},
     "output_type": "execute_result"
    }
   ],
   "source": [
    "probability_of_fnrm"
   ]
  },
  {
   "cell_type": "code",
   "execution_count": 28,
   "metadata": {
    "collapsed": false
   },
   "outputs": [
    {
     "data": {
      "text/latex": [
       "$$\\frac{u^{D^{*}_{\\alpha} - 1} \\Gamma{\\left (n + 1 \\right )}}{\\prod_{k=1}^{K} \\Gamma{\\left (n{\\left (k \\right )} + 1 \\right )}} \\left(\\prod_{k=1}^{K} \\lambda{\\left (\\theta{\\left (k \\right )} \\right )} \\operatorname{g_{1/K,\\sigma}}{\\left (w{\\left (k \\right )} \\right )} e^{- u w{\\left (k \\right )}}\\right) \\prod_{k=1}^{K} w^{n{\\left (k \\right )}}{\\left (k \\right )}$$"
      ],
      "text/plain": [
       "                                   ⎛  K                                       \n",
       "                                   ⎜┬────┬                                    \n",
       " D_{\\alpha}__{*} - 1               ⎜│    │                                    \n",
       "u                   ⋅\\Gamma(n + 1)⋅⎜│    │ \\lambda(\\theta(k))⋅g_{1/K,\\sigma}(w\n",
       "                                   ⎜│    │                                    \n",
       "                                   ⎝k = 1                                     \n",
       "──────────────────────────────────────────────────────────────────────────────\n",
       "                                             K                                \n",
       "                                           ┬───┬                              \n",
       "                                           │   │ \\Gamma(n(k) + 1)             \n",
       "                                           │   │                              \n",
       "                                           k = 1                              \n",
       "\n",
       "             ⎞   K            \n",
       "             ⎟ ┬────┬         \n",
       "      -u⋅w(k)⎟ │    │  n(k)   \n",
       "(k))⋅ℯ       ⎟⋅│    │ w    (k)\n",
       "             ⎟ │    │         \n",
       "             ⎠ k = 1          \n",
       "──────────────────────────────\n",
       "                              \n",
       "                              \n",
       "                              \n",
       "                              \n",
       "                              "
      ]
     },
     "execution_count": 28,
     "metadata": {},
     "output_type": "execute_result"
    }
   ],
   "source": [
    "join_model = probability_of_fnrm*dirichlet.subs(p(k),w(k))\n",
    "join_model"
   ]
  },
  {
   "cell_type": "code",
   "execution_count": 29,
   "metadata": {
    "collapsed": false
   },
   "outputs": [
    {
     "data": {
      "text/latex": [
       "$$n{\\left (1 \\right )} \\log{\\left (p{\\left (1 \\right )} \\right )} + n{\\left (2 \\right )} \\log{\\left (p{\\left (2 \\right )} \\right )} + n{\\left (3 \\right )} \\log{\\left (p{\\left (3 \\right )} \\right )} + \\log{\\left (\\Gamma{\\left (n + 1 \\right )} \\right )} - \\log{\\left (\\Gamma{\\left (n{\\left (1 \\right )} + 1 \\right )} \\right )} - \\log{\\left (\\Gamma{\\left (n{\\left (2 \\right )} + 1 \\right )} \\right )} - \\log{\\left (\\Gamma{\\left (n{\\left (3 \\right )} + 1 \\right )} \\right )}$$"
      ],
      "text/plain": [
       "n(1)⋅log(p(1)) + n(2)⋅log(p(2)) + n(3)⋅log(p(3)) + log(\\Gamma(n + 1)) - log(\\G\n",
       "amma(n(1) + 1)) - log(\\Gamma(n(2) + 1)) - log(\\Gamma(n(3) + 1))"
      ]
     },
     "execution_count": 29,
     "metadata": {},
     "output_type": "execute_result"
    }
   ],
   "source": [
    "expand_log(log(dirichlet.subs(K,3).doit()),force=True)"
   ]
  },
  {
   "cell_type": "code",
   "execution_count": 32,
   "metadata": {
    "collapsed": false
   },
   "outputs": [
    {
     "data": {
      "text/latex": [
       "$$n_{1} \\log{\\left (p_{1} \\right )} + n_{2} \\log{\\left (p_{2} \\right )} + n_{3} \\log{\\left (p_{3} \\right )} + \\log{\\left (\\Gamma{\\left (n + 1 \\right )} \\right )} - \\log{\\left (\\Gamma{\\left (n_{1} + 1 \\right )} \\right )} - \\log{\\left (\\Gamma{\\left (n_{2} + 1 \\right )} \\right )} - \\log{\\left (\\Gamma{\\left (n_{3} + 1 \\right )} \\right )}$$"
      ],
      "text/plain": [
       "n₁⋅log(p₁) + n₂⋅log(p₂) + n₃⋅log(p₃) + log(\\Gamma(n + 1)) - log(\\Gamma(n₁ + 1)\n",
       ") - log(\\Gamma(n₂ + 1)) - log(\\Gamma(n₃ + 1))"
      ]
     },
     "execution_count": 32,
     "metadata": {},
     "output_type": "execute_result"
    }
   ],
   "source": [
    "log_dirichlet = expand_log(log(dirichlet.subs(K,3).doit()),force=True)\n",
    "backToSubIndice(backToSubIndice(backToSubIndice(log_dirichlet,p,(1,4)),x,(1,4)),n,(1,4))"
   ]
  },
  {
   "cell_type": "code",
   "execution_count": 31,
   "metadata": {
    "collapsed": true
   },
   "outputs": [],
   "source": [
    "def collectTermsWithVariable(expression,variable):\n",
    "    return Add(*[argi for argi in expression.args if argi.has(variable)])\n",
    "\n",
    "def subsParentesis(expresion,p,w,krange):\n",
    "    for k in range(*krange):\n",
    "        expresion = expresion.subs(p(k),w(k))\n",
    "    return expresion\n",
    "\n",
    "def subsParentesisDouble(expresion,p,w,krange):\n",
    "    for u in range(*krange):\n",
    "        for v in range(*krange):\n",
    "            expresion = expresion.subs(p(u,v),w(u,v))\n",
    "    return expresion\n",
    "\n",
    "def backToSubIndice(expresion,p,krange):\n",
    "    for k in range(*krange):\n",
    "        expresion = expresion.subs(p(k),Symbol(str(p)+\"_{0}\".format(k)))\n",
    "    return expresion\n",
    "\n",
    "def backToSubIndiceDouble(expresion,p,krange):\n",
    "    for u in range(*krange):\n",
    "        for v in range(*krange):\n",
    "            expresion = expresion.subs(p(u,v),Symbol(str(p)+\"_{0},{1}\".format(u,v)))\n",
    "    return expresion\n",
    "\n",
    "def backToSuperIndice(expresion,p,krange):\n",
    "    for k in range(*krange):\n",
    "        expresion = expresion.subs(p(k),Symbol(str(p)+\"^{0}\".format(k)))\n",
    "    return expresion"
   ]
  },
  {
   "cell_type": "code",
   "execution_count": null,
   "metadata": {
    "collapsed": true
   },
   "outputs": [],
   "source": []
  }
 ],
 "metadata": {
  "kernelspec": {
   "display_name": "Python 2",
   "language": "python",
   "name": "python2"
  },
  "language_info": {
   "codemirror_mode": {
    "name": "ipython",
    "version": 2
   },
   "file_extension": ".py",
   "mimetype": "text/x-python",
   "name": "python",
   "nbconvert_exporter": "python",
   "pygments_lexer": "ipython2",
   "version": "2.7.6"
  }
 },
 "nbformat": 4,
 "nbformat_minor": 0
}
