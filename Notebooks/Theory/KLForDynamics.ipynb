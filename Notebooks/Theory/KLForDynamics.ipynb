{
 "cells": [
  {
   "cell_type": "code",
   "execution_count": 23,
   "metadata": {
    "collapsed": true
   },
   "outputs": [],
   "source": [
    "import sympy\n",
    "import numpy as np\n",
    "from scipy.stats import gamma,poisson"
   ]
  },
  {
   "cell_type": "code",
   "execution_count": 1,
   "metadata": {
    "collapsed": true
   },
   "outputs": [],
   "source": [
    "def uniform_one(t,*parameters):\n",
    "    \"\"\"\n",
    "    \"\"\"\n",
    "    try: \n",
    "        if type(t.shape) == tuple: \n",
    "            return np.ones(len(t))\n",
    "    except:\n",
    "        return 1."
   ]
  },
  {
   "cell_type": "code",
   "execution_count": 29,
   "metadata": {
    "collapsed": false
   },
   "outputs": [],
   "source": [
    "arrivals = np.random.uniform(0,10,10)\n",
    "whereTop = arrivals > 2.\n",
    "whereBottom = arrivals < 6.\n",
    "whereIndex = np.where(whereTop*whereBottom)[0]"
   ]
  },
  {
   "cell_type": "code",
   "execution_count": 30,
   "metadata": {
    "collapsed": false
   },
   "outputs": [
    {
     "data": {
      "text/plain": [
       "array([ 4.41842713,  3.3793465 ,  7.31395893,  9.22482145,  9.16252812,\n",
       "        5.08190134,  2.13441086,  6.06397685,  8.14512422,  9.8879965 ])"
      ]
     },
     "execution_count": 30,
     "metadata": {},
     "output_type": "execute_result"
    }
   ],
   "source": [
    "arrivals"
   ]
  },
  {
   "cell_type": "code",
   "execution_count": 31,
   "metadata": {
    "collapsed": false
   },
   "outputs": [
    {
     "data": {
      "text/plain": [
       "array([ 4.41842713,  3.3793465 ,  5.08190134,  2.13441086])"
      ]
     },
     "execution_count": 31,
     "metadata": {},
     "output_type": "execute_result"
    }
   ],
   "source": [
    "np.take(arrivals,whereIndex)"
   ]
  },
  {
   "cell_type": "code",
   "execution_count": 26,
   "metadata": {
    "collapsed": false
   },
   "outputs": [
    {
     "data": {
      "text/plain": [
       "35"
      ]
     },
     "execution_count": 26,
     "metadata": {},
     "output_type": "execute_result"
    }
   ],
   "source": [
    "poisson.rvs(40.)"
   ]
  },
  {
   "cell_type": "markdown",
   "metadata": {
    "collapsed": true
   },
   "source": [
    "$\\def\\*#1{\\mathbf{#1}}$\n",
    "\n",
    "# Graph Model \n",
    "For the variational approximation we need:\n",
    "\n",
    "\\begin{equation}\n",
    "P(\\*Z,\\*W) = P(\\*Z|\\*W)P(\\*W)\n",
    "\\end{equation}\n",
    "\n",
    "# Variational Lower Bound\n",
    "\n",
    "\n",
    "We require for the variational approximation of the Graph and approximation for $q(\\*W)$\n",
    "\n",
    "\\begin{equation}\n",
    "L = \\mathbb{E}_{q(\\*W)}[P(\\*Z,\\*W)] - \\mathbb{E}_{q(\\*W)}[P(\\*W)]\n",
    "\\end{equation}\n",
    "\n",
    "\\begin{equation}\n",
    "L = \\mathbb{E}_{q(\\*W)}[P(\\*Z|\\*W)] - \\text{KL}[q(\\*W)|P(\\*W)]\n",
    "\\end{equation}"
   ]
  }
 ],
 "metadata": {
  "kernelspec": {
   "display_name": "Python 2",
   "language": "python",
   "name": "python2"
  },
  "language_info": {
   "codemirror_mode": {
    "name": "ipython",
    "version": 2
   },
   "file_extension": ".py",
   "mimetype": "text/x-python",
   "name": "python",
   "nbconvert_exporter": "python",
   "pygments_lexer": "ipython2",
   "version": "2.7.6"
  }
 },
 "nbformat": 4,
 "nbformat_minor": 0
}
