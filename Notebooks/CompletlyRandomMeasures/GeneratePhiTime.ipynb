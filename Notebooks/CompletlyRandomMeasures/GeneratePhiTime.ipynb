{
 "cells": [
  {
   "cell_type": "code",
   "execution_count": 29,
   "metadata": {},
   "outputs": [],
   "source": [
    "import os\n",
    "import numpy as np\n",
    "import pandas as pd\n",
    "from GP.kernels.stationary import SquaredExponential\n",
    "from gpv.SDE import sdes_gp_models\n",
    "from matplotlib import pyplot as plt\n",
    "\n",
    "gamma=1.\n",
    "inducing_points = np.random.uniform(0.,500.,size=15)\n",
    "kernel =  SquaredExponential(1., 1.5, 20.)\n",
    "inducing_function = sdes_gp_models.generateFunction(kernel,inducing_points)\n",
    "\n",
    "gp_diffusion_model = sdes_gp_models.discreteSparseInhomogeneousGPDiffusion(gamma,\n",
    "                                                                           kernel,\n",
    "                                                                           inducing_points,\n",
    "                                                                           inducing_function,\n",
    "                                                                           x0=0.)\n",
    "time_support = np.linspace(0.,500.,500)\n",
    "phi_t = gp_diffusion_model.gp_diffusion(time_support)\n",
    "np.savetxt(\"../../data/temporal_phi.txt\",phi_t)"
   ]
  }
 ],
 "metadata": {
  "kernelspec": {
   "display_name": "tensorflow",
   "language": "python",
   "name": "tensorflow"
  },
  "language_info": {
   "codemirror_mode": {
    "name": "ipython",
    "version": 2
   },
   "file_extension": ".py",
   "mimetype": "text/x-python",
   "name": "python",
   "nbconvert_exporter": "python",
   "pygments_lexer": "ipython2",
   "version": "2.7.12"
  }
 },
 "nbformat": 4,
 "nbformat_minor": 2
}
