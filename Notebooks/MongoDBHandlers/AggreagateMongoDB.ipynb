{
 "cells": [
  {
   "cell_type": "code",
   "execution_count": 1,
   "metadata": {
    "collapsed": true
   },
   "outputs": [],
   "source": [
    "import os\n",
    "import sys\n",
    "import numpy as np\n",
    "import pandas as pd \n",
    "from matplotlib import pyplot as plt\n",
    "import matplotlib \n",
    "\n",
    "matplotlib.rcParams['ps.useafm'] = True\n",
    "matplotlib.rcParams['pdf.use14corefonts'] = True\n",
    "matplotlib.rcParams['text.usetex'] = True \n",
    "\n",
    "%matplotlib notebook"
   ]
  },
  {
   "cell_type": "code",
   "execution_count": 2,
   "metadata": {
    "collapsed": true
   },
   "outputs": [],
   "source": [
    "import pymongo\n",
    "from pymongo import MongoClient\n",
    "\n",
    "client = MongoClient(\"129.26.78.131:27017\")"
   ]
  },
  {
   "cell_type": "code",
   "execution_count": 3,
   "metadata": {
    "collapsed": false
   },
   "outputs": [],
   "source": [
    "client.database_names()\n",
    "db = client[\"bitcoin\"]\n",
    "\n",
    "#BLOCKS = [block for block in db['blocks_1'].find().limit(100)]\n",
    "#db[\"test_blocks\"].insert(BLOCKS)"
   ]
  },
  {
   "cell_type": "code",
   "execution_count": 4,
   "metadata": {
    "collapsed": false
   },
   "outputs": [
    {
     "data": {
      "text/plain": [
       "2336"
      ]
     },
     "execution_count": 4,
     "metadata": {},
     "output_type": "execute_result"
    }
   ],
   "source": [
    "db['blocks_1'].find({}).count()"
   ]
  },
  {
   "cell_type": "code",
   "execution_count": 5,
   "metadata": {
    "collapsed": false,
    "scrolled": true
   },
   "outputs": [
    {
     "data": {
      "text/plain": [
       "114"
      ]
     },
     "execution_count": 5,
     "metadata": {},
     "output_type": "execute_result"
    }
   ],
   "source": [
    "db[\"blocks_1\"].find({'relayed_by':{\"$exists\":False}}).count()"
   ]
  },
  {
   "cell_type": "markdown",
   "metadata": {},
   "source": [
    "# Aggregation"
   ]
  },
  {
   "cell_type": "code",
   "execution_count": null,
   "metadata": {
    "collapsed": false,
    "scrolled": true
   },
   "outputs": [],
   "source": [
    "for i in range(1, 13):\n",
    "    db[\"blocks_{0}\".format(i)].aggregate([{\"$project\":\n",
    "                                      {\"block_index\":\"$block_index\",\n",
    "                                       \"_id\":0,\n",
    "                                       \"height\":\"$block_height\",\n",
    "                                       \"relayed_by\":\"$relayed_by\",\n",
    "                                       \"hash\": \"$hash\",\n",
    "                                       \"tx\":\"$tx\"}},\n",
    "                                 {\"$unwind\":\"$tx\"},\n",
    "                                 {\"$project\":\n",
    "                                         {\"inputs\":\"$tx.inputs\",\n",
    "                                          \"out\":\"$tx.out\",\n",
    "                                          \"time\":\"$tx.time\",\n",
    "                                          \"hash\": \"$hash\",\n",
    "                                          \"_id\":0\n",
    "                                         }},\n",
    "                                 {\"$unwind\":\"$inputs\"},\n",
    "                                 {\"$project\":\n",
    "                                            {\"time\":\"$time\",\n",
    "                                             \"hash\": \"$hash\",\n",
    "                                             \"address_source\":\"$inputs.prev_out.addr\",\n",
    "                                             \"amount\":\"$inputs.prev_out.value\",\n",
    "                                             \"out\":\"$out\"}},\n",
    "                                 {\"$unwind\":\"$out\"},\n",
    "                                 {\"$project\":\n",
    "                                            {\"t\":\"$time\",\n",
    "                                             \"tx\": \"$hash\",\n",
    "                                             \"s\":\"$address_source\",\n",
    "                                             \"a_s\":\"$amount\",\n",
    "                                             \"r\":\"$out.addr\",\n",
    "                                             \"tag\":\"$out.addr_tag_link\",\n",
    "                                             \"a_r\":\"$out.value\"}},\n",
    "                                 {\"$out\":\"blocks{0}_aggregation\".format(i)}],allowDiskUse=True)"
   ]
  },
  {
   "cell_type": "code",
   "execution_count": 12,
   "metadata": {
    "collapsed": true
   },
   "outputs": [
    {
     "name": "stdout",
     "output_type": "stream",
     "text": [
      "{u'tx_hash': u'00000000000000000271821f46ad96c39cb3968d75e4674ae0e2608187ec0b61', u'address_receiver': u'1BQLNJtMDKmMZ4PyqVFfRuBNvoGhjigBKF', u'_id': ObjectId('594149fdeb89a548daac96c8'), u'amount_received': 1344161049, u'time': 1484764640}\n",
      "\n",
      "\n",
      "{u'tx_hash': u'00000000000000000271821f46ad96c39cb3968d75e4674ae0e2608187ec0b61', u'amount_received': 1000046, u'address_receiver': u'13iEEwzDVFYBnbzqo1ndJZmsPV86VjV5Ue', u'amount_sent': 3349645, u'time': 1484764518, u'_id': ObjectId('594149fdeb89a548daac96c9'), u'address_source': u'1Ec164DQafR5YLCALhqu5owgEiTZxJZ36G'}\n",
      "\n",
      "\n",
      "{u'tx_hash': u'00000000000000000271821f46ad96c39cb3968d75e4674ae0e2608187ec0b61', u'amount_received': 16552000, u'address_receiver': u'1489mPccYqHJAV3iPeAkQTP19srQdky8kp', u'amount_sent': 3349645, u'time': 1484764518, u'_id': ObjectId('594149fdeb89a548daac96ca'), u'address_source': u'1Ec164DQafR5YLCALhqu5owgEiTZxJZ36G'}\n",
      "\n",
      "\n",
      "{u'tx_hash': u'00000000000000000271821f46ad96c39cb3968d75e4674ae0e2608187ec0b61', u'amount_received': 1000046, u'address_receiver': u'13iEEwzDVFYBnbzqo1ndJZmsPV86VjV5Ue', u'amount_sent': 1105000, u'time': 1484764518, u'_id': ObjectId('594149fdeb89a548daac96cb'), u'address_source': u'1PYaFouc81vgaPp2zHUAPUcPDg6wEB6ssu'}\n",
      "\n",
      "\n",
      "{u'tx_hash': u'00000000000000000271821f46ad96c39cb3968d75e4674ae0e2608187ec0b61', u'amount_received': 16552000, u'address_receiver': u'1489mPccYqHJAV3iPeAkQTP19srQdky8kp', u'amount_sent': 1105000, u'time': 1484764518, u'_id': ObjectId('594149fdeb89a548daac96cc'), u'address_source': u'1PYaFouc81vgaPp2zHUAPUcPDg6wEB6ssu'}\n",
      "\n",
      "\n",
      "{u'tx_hash': u'00000000000000000271821f46ad96c39cb3968d75e4674ae0e2608187ec0b61', u'amount_received': 1000046, u'address_receiver': u'13iEEwzDVFYBnbzqo1ndJZmsPV86VjV5Ue', u'amount_sent': 769600, u'time': 1484764518, u'_id': ObjectId('594149fdeb89a548daac96cd'), u'address_source': u'1CPk6KpfgzEFug36D7SHokHGjZPRBDC4bE'}\n",
      "\n",
      "\n",
      "{u'tx_hash': u'00000000000000000271821f46ad96c39cb3968d75e4674ae0e2608187ec0b61', u'amount_received': 16552000, u'address_receiver': u'1489mPccYqHJAV3iPeAkQTP19srQdky8kp', u'amount_sent': 769600, u'time': 1484764518, u'_id': ObjectId('594149fdeb89a548daac96ce'), u'address_source': u'1CPk6KpfgzEFug36D7SHokHGjZPRBDC4bE'}\n",
      "\n",
      "\n",
      "{u'tx_hash': u'00000000000000000271821f46ad96c39cb3968d75e4674ae0e2608187ec0b61', u'amount_received': 1000046, u'address_receiver': u'13iEEwzDVFYBnbzqo1ndJZmsPV86VjV5Ue', u'amount_sent': 13439801, u'time': 1484764518, u'_id': ObjectId('594149fdeb89a548daac96cf'), u'address_source': u'1PeXoG7D2e5wuXSJzRh6shVnZM3QRdmer4'}\n",
      "\n",
      "\n",
      "{u'tx_hash': u'00000000000000000271821f46ad96c39cb3968d75e4674ae0e2608187ec0b61', u'amount_received': 16552000, u'address_receiver': u'1489mPccYqHJAV3iPeAkQTP19srQdky8kp', u'amount_sent': 13439801, u'time': 1484764518, u'_id': ObjectId('594149fdeb89a548daac96d0'), u'address_source': u'1PeXoG7D2e5wuXSJzRh6shVnZM3QRdmer4'}\n",
      "\n",
      "\n",
      "{u'tx_hash': u'00000000000000000271821f46ad96c39cb3968d75e4674ae0e2608187ec0b61', u'amount_received': 25057800, u'address_receiver': u'1B9GbkBkHoEpuF7Lq2JNMux27fy1xWCiG4', u'amount_sent': 2753300, u'time': 1484764528, u'_id': ObjectId('594149fdeb89a548daac96d1'), u'address_source': u'1qUpfVJv6eqkxDkgaj5AvPgujU2ch3QDq'}\n",
      "\n",
      "\n"
     ]
    }
   ],
   "source": [
    "for a in db[\"blocks2_aggregation\"].find().limit(10):\n",
    "    print a\n",
    "    print \"\\n\""
   ]
  },
  {
   "cell_type": "markdown",
   "metadata": {},
   "source": [
    "# Address Collection"
   ]
  },
  {
   "cell_type": "code",
   "execution_count": null,
   "metadata": {
    "collapsed": false
   },
   "outputs": [],
   "source": [
    "db[\"blocks1_aggregation\"].aggregate([{\"$group\":{\n",
    "                                   \"_id\":'$address_source',\n",
    "                                   \"transactions\":{\"$addToSet\":{\"time\":\"$time\",\"receiver\":\"$address_receiver\"}}}},\n",
    "                                   {\"$out\":\"senders\"}],allowDiskUse=True)"
   ]
  },
  {
   "cell_type": "code",
   "execution_count": null,
   "metadata": {
    "collapsed": false
   },
   "outputs": [],
   "source": [
    "db[\"blocks1_aggregation\"].find"
   ]
  },
  {
   "cell_type": "code",
   "execution_count": null,
   "metadata": {
    "collapsed": false,
    "scrolled": true
   },
   "outputs": [],
   "source": [
    "A = [len(a[\"transactions\"]) for a in db[\"senders\"].find()]"
   ]
  },
  {
   "cell_type": "code",
   "execution_count": null,
   "metadata": {
    "collapsed": false
   },
   "outputs": [],
   "source": [
    "stuff = plt.hist(A[2000:],bins=100)\n",
    "plt.loglog()"
   ]
  },
  {
   "cell_type": "code",
   "execution_count": null,
   "metadata": {
    "collapsed": true
   },
   "outputs": [],
   "source": [
    "for a in db[\"senders\"].find().limit(10):\n",
    "    print a\n",
    "    print \"\\n\"\n",
    "    print \"\\n\""
   ]
  }
 ],
 "metadata": {
  "kernelspec": {
   "display_name": "Python [conda root]",
   "language": "python",
   "name": "conda-root-py"
  },
  "language_info": {
   "codemirror_mode": {
    "name": "ipython",
    "version": 2
   },
   "file_extension": ".py",
   "mimetype": "text/x-python",
   "name": "python",
   "nbconvert_exporter": "python",
   "pygments_lexer": "ipython2",
   "version": "2.7.12"
  }
 },
 "nbformat": 4,
 "nbformat_minor": 0
}
