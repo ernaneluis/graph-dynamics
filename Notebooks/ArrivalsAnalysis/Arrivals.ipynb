{
 "cells": [
  {
   "cell_type": "code",
   "execution_count": 1,
   "metadata": {
    "collapsed": true
   },
   "outputs": [],
   "source": [
    "import pymongo\n",
    "import numpy as np\n",
    "import pandas as pd\n",
    "import calendar, datetime\n",
    "import matplotlib.pyplot as plt\n",
    "\n",
    "from pymongo import MongoClient\n",
    "\n",
    "\n",
    "# Convert a unix time u to a datetime object d, and vice versa\n",
    "def dt(u): return datetime.datetime.utcfromtimestamp(u)\n",
    "def ut(d): return calendar.timegm(d.timetuple())\n",
    "\n",
    "#CONNECT TO MONGO \n",
    "client = MongoClient(\"129.26.78.40:27017\")\n",
    "db = client['BitCoin']\n",
    "\n",
    "%matplotlib inline "
   ]
  },
  {
   "cell_type": "code",
   "execution_count": 2,
   "metadata": {
    "collapsed": true
   },
   "outputs": [],
   "source": [
    "a = db['number_of_edges_per_second_2017'].find().sort([(\"day\",-1)])\n",
    "last_day  = a.next()[\"day\"]\n",
    "\n",
    "a = db['number_of_edges_per_second_2017'].find().sort([(\"day\",1)])\n",
    "start_day = a.next()[\"day\"]\n",
    "\n",
    "a = db['number_of_edges_per_second_2017'].find().sort([(\"week\",-1)])\n",
    "last_week  = a.next()[\"week\"]\n",
    "\n",
    "a = db['number_of_edges_per_second_2017'].find().sort([(\"week\",1)])\n",
    "start_week = a.next()[\"week\"]\n",
    "\n",
    "a = db['number_of_edges_per_second_2017'].find().sort([(\"minutes\",-1)])\n",
    "last_minutes  = a.next()[\"minutes\"]\n",
    "\n",
    "a = db['number_of_edges_per_second_2017'].find().sort([(\"minutes\",1)])\n",
    "start_minutes = a.next()[\"minutes\"]"
   ]
  },
  {
   "cell_type": "code",
   "execution_count": 7,
   "metadata": {},
   "outputs": [
    {
     "data": {
      "text/plain": [
       "{u'_id': ObjectId('59bff47348ec0fd6e85070f8'),\n",
       " u'day': 3,\n",
       " u'hour': 17,\n",
       " u'minutes': 0,\n",
       " u'month': 1,\n",
       " u'number': 3,\n",
       " u'txs': [1483462806, 1483462855, 1483462817],\n",
       " u'week': 1}"
      ]
     },
     "execution_count": 7,
     "metadata": {},
     "output_type": "execute_result"
    }
   ],
   "source": [
    "db['number_of_edges_per_second_2017'].find_one()"
   ]
  },
  {
   "cell_type": "code",
   "execution_count": 3,
   "metadata": {},
   "outputs": [
    {
     "data": {
      "text/plain": [
       "[u'week', u'hour', u'txs', u'number', u'month', u'_id', u'minutes', u'day']"
      ]
     },
     "execution_count": 3,
     "metadata": {},
     "output_type": "execute_result"
    }
   ],
   "source": [
    "collection = db['number_of_edges_per_second_2017']\n",
    "collection_keys = collection.find_one().keys()\n",
    "collection_keys"
   ]
  },
  {
   "cell_type": "code",
   "execution_count": 4,
   "metadata": {
    "scrolled": true
   },
   "outputs": [
    {
     "data": {
      "text/plain": [
       "[u'blocks_12_aggregation',\n",
       " u'blocks_15',\n",
       " u'blocks_9_aggregation',\n",
       " u'senders_2017_week_6',\n",
       " u'blocks_3_aggregation',\n",
       " u'senders_2017_week_18',\n",
       " u'blocks_18',\n",
       " u'blocks_aggregation_2017',\n",
       " u'number_of_edges_per_second_2017',\n",
       " u'blocks_19',\n",
       " u'senders_2017_week_7',\n",
       " u'blocks_7',\n",
       " u'senders_2017_week_24',\n",
       " u'blocks_17_aggregation',\n",
       " u'blocks_14',\n",
       " u'senders_2017_week_2',\n",
       " u'blocks_aggregation',\n",
       " u'tmp.agg_out.128',\n",
       " u'senders_2017_week_27',\n",
       " u'senders_2017_week_26',\n",
       " u'senders_2017_week_13',\n",
       " u'blocks_13',\n",
       " u'blocks_11_aggregation',\n",
       " u'senders_2017_week_30',\n",
       " u'blocks_10',\n",
       " u'senders_2017_week_16',\n",
       " u'blocks_1_aggregation',\n",
       " u'senders_2017_week_25',\n",
       " u'senders_2017_week_8',\n",
       " u'senders_2017_week_9',\n",
       " u'blocks_2_aggregation',\n",
       " u'blocks_5',\n",
       " u'blocks_9',\n",
       " u'senders_2017_week_31',\n",
       " u'senders_2017_week_23',\n",
       " u'blocks_4',\n",
       " u'blocks_8',\n",
       " u'senders_2017_week_20',\n",
       " u'senders_2017_week_21',\n",
       " u'senders_2017_week_14',\n",
       " u'blocks_10_aggregation',\n",
       " u'blocks_3',\n",
       " u'blocks_12',\n",
       " u'blocks_15_aggregation',\n",
       " u'senders_2017_week_28',\n",
       " u'senders_2017_week_29',\n",
       " u'senders_2017_week_12',\n",
       " u'blocks_19_aggregation',\n",
       " u'senders_2017_week_4',\n",
       " u'senders_2017_week_5',\n",
       " u'blocks_14_aggregation',\n",
       " u'senders_2017_week_15',\n",
       " u'blocks_18_aggregation',\n",
       " u'blocks_11',\n",
       " u'senders_2017_week_32',\n",
       " u'blocks_16_aggregation',\n",
       " u'blocks_6',\n",
       " u'blocks_2',\n",
       " u'blocks_1',\n",
       " u'blocks_13_aggregation',\n",
       " u'blocks_8_aggregation',\n",
       " u'blocks_7_aggregation',\n",
       " u'senders_2017_week_1',\n",
       " u'senders_2017_week_3',\n",
       " u'senders_2017_week_10',\n",
       " u'senders_2017_week_19',\n",
       " u'senders_2017_week_11',\n",
       " u'senders_2017_week_17',\n",
       " u'blocks_16',\n",
       " u'blocks_6_aggregation',\n",
       " u'blocks_17',\n",
       " u'blocks_5_aggregation',\n",
       " u'blocks_4_aggregation',\n",
       " u'senders_2017_week_22']"
      ]
     },
     "execution_count": 4,
     "metadata": {},
     "output_type": "execute_result"
    }
   ],
   "source": [
    "db.collection_names()"
   ]
  },
  {
   "cell_type": "code",
   "execution_count": 6,
   "metadata": {},
   "outputs": [
    {
     "data": {
      "text/plain": [
       "{u'_id': {u'bl_time': 1484171785,\n",
       "  u'reciever': u'18VWUJAmqoxFBUxCiNx6CzLSbU8N7KE2MM',\n",
       "  u'sender': u'121q8M8eoiwUJRJShVbLAFagNXDXPU35fz',\n",
       "  u'tx_hash': u'0000008b9f06ed2aa550b7e2efdd0abba73d619b917a77862b1954712075644d',\n",
       "  u'tx_time': 1484171283},\n",
       " u'amount': 1000000,\n",
       " u'bl_time': datetime.datetime(2017, 1, 11, 21, 56, 25),\n",
       " u'tx_time': datetime.datetime(2017, 1, 11, 21, 48, 3)}"
      ]
     },
     "execution_count": 6,
     "metadata": {},
     "output_type": "execute_result"
    }
   ],
   "source": [
    "db['blocks_aggregation'].aggregate([{}])"
   ]
  },
  {
   "cell_type": "code",
   "execution_count": 10,
   "metadata": {
    "collapsed": true
   },
   "outputs": [],
   "source": [
    "day_zero = datetime.datetime(2016,12,31)"
   ]
  },
  {
   "cell_type": "code",
   "execution_count": null,
   "metadata": {
    "collapsed": true
   },
   "outputs": [],
   "source": [
    "pd.date_range(datetime.datetime(2017,))"
   ]
  },
  {
   "cell_type": "code",
   "execution_count": 22,
   "metadata": {},
   "outputs": [
    {
     "name": "stdout",
     "output_type": "stream",
     "text": [
      "123\n"
     ]
    }
   ],
   "source": [
    "date_ = [datetime.datetime(2017,5,3),]\n",
    "transactions = []\n",
    "year_day = (date_-day_zero).days\n",
    "print year_day\n",
    "for a in collection.find({\"day\":year_day}):\n",
    "    transactions.extend(a['txs'])"
   ]
  },
  {
   "cell_type": "code",
   "execution_count": null,
   "metadata": {
    "collapsed": true
   },
   "outputs": [],
   "source": [
    "#TAKE PER ADDRESS"
   ]
  },
  {
   "cell_type": "code",
   "execution_count": null,
   "metadata": {
    "collapsed": true
   },
   "outputs": [],
   "source": [
    "db['senders_2017_week_11'].aggregate([#{\"$match\": {\"_id\": \"1dice8EMZmqKvrGE4Qc9bUFf9PX3xaYDp\"}},\n",
    "                                            {\"$match\": {\"ntx\": {\"$gte\": 10}}},\n",
    "                                            {\"$unwind\": \"$tx\"},\n",
    "                                            {\"$group\": {\n",
    "                                                \"_id\": {\"s\": \"$_id\", \"ts\": \"$tx.ts\" },\n",
    "                                            }},\n",
    "                                            {\"$group\": {\n",
    "                                                \"_id\": \"$_id.s\",\n",
    "                                                \"txs\": {\"$addToSet\": \"$_id.ts\"},\n",
    "                                                \"ntx\": {\"$sum\": 1}\n",
    "                                            }},\n",
    "                                            {\"$match\": {\"ntx\": {\"$gte\": 10}}}\n",
    "                                        ],\n",
    "                                allowDiskUse=True).next()"
   ]
  },
  {
   "cell_type": "code",
   "execution_count": 47,
   "metadata": {
    "collapsed": true
   },
   "outputs": [],
   "source": [
    "#pandas_date_range = pd.date_range(date0,datef,freq=\"D\")\n",
    "#datetime_range = pandas_date_range.to_pydatetime()"
   ]
  },
  {
   "cell_type": "code",
   "execution_count": 34,
   "metadata": {
    "collapsed": true
   },
   "outputs": [],
   "source": [
    "datetime_transactions.sort()\n",
    "TRANSACTIONS = datetime_transactions[:]\n",
    "TAU = np.asarray([(TRANSACTIONS[i+1] - TRANSACTIONS[i]).total_seconds() for i in range(len(TRANSACTIONS)-1)])\n",
    "U = 1. - np.exp(TAU)"
   ]
  },
  {
   "cell_type": "code",
   "execution_count": 46,
   "metadata": {},
   "outputs": [
    {
     "data": {
      "text/plain": [
       "[<matplotlib.lines.Line2D at 0x7f45755ed850>]"
      ]
     },
     "execution_count": 46,
     "metadata": {},
     "output_type": "execute_result"
    },
    {
     "data": {
      "image/png": "[encoded data removed]",
      "text/plain": [
       "<matplotlib.figure.Figure at 0x7f456ec9da10>"
      ]
     },
     "metadata": {},
     "output_type": "display_data"
    }
   ],
   "source": [
    "Y = np.roll(U,-1)[:-1]\n",
    "X = U[:-1]\n",
    "plt.plot(X,Y,\"ro\")"
   ]
  },
  {
   "cell_type": "code",
   "execution_count": 39,
   "metadata": {
    "collapsed": true
   },
   "outputs": [],
   "source": [
    "A = np.asarray([1.,1.2,4.,5.])"
   ]
  }
 ],
 "metadata": {
  "kernelspec": {
   "display_name": "tensorflow",
   "language": "python",
   "name": "tensorflow"
  },
  "language_info": {
   "codemirror_mode": {
    "name": "ipython",
    "version": 2
   },
   "file_extension": ".py",
   "mimetype": "text/x-python",
   "name": "python",
   "nbconvert_exporter": "python",
   "pygments_lexer": "ipython2",
   "version": "2.7.12"
  }
 },
 "nbformat": 4,
 "nbformat_minor": 2
}
