{
 "cells": [
  {
   "cell_type": "code",
   "execution_count": 1,
   "metadata": {},
   "outputs": [],
   "source": [
    "import os\n",
    "import sys\n",
    "import datetime\n",
    "import numpy as np\n",
    "import pandas as pd\n",
    "import networkx as nx\n",
    "#import dateparser"
   ]
  },
  {
   "cell_type": "code",
   "execution_count": 2,
   "metadata": {
    "collapsed": true
   },
   "outputs": [],
   "source": [
    "directory = \"/home/cesar/Data/Dynamics/EmpiricalData/\""
   ]
  },
  {
   "cell_type": "code",
   "execution_count": 3,
   "metadata": {
    "scrolled": true
   },
   "outputs": [
    {
     "data": {
      "text/plain": [
       "['Cit-HepTh-dates.txt',\n",
       " 'Cit-HepTh.txt',\n",
       " 'Temporal-Cit-HepTh.txt',\n",
       " 'sx-mathoverflow.txt',\n",
       " 'sx-stackoverflow.txt',\n",
       " 'wiki-talk-temporal.txt']"
      ]
     },
     "execution_count": 3,
     "metadata": {},
     "output_type": "execute_result"
    }
   ],
   "source": [
    "A = os.listdir(directory)\n",
    "A.sort()\n",
    "A"
   ]
  },
  {
   "cell_type": "code",
   "execution_count": 4,
   "metadata": {},
   "outputs": [],
   "source": [
    "#directory+'cit-HepPh-dates.txt'"
   ]
  },
  {
   "cell_type": "code",
   "execution_count": 5,
   "metadata": {
    "scrolled": true
   },
   "outputs": [],
   "source": [
    "#! less /home/cesar/Desktop/Doctorado/Projects/Networks/Embeddings/Data/cit-HepPh-dates.txt"
   ]
  },
  {
   "cell_type": "code",
   "execution_count": 6,
   "metadata": {
    "scrolled": true
   },
   "outputs": [],
   "source": [
    "#! less /home/cesar/Desktop/Doctorado/Projects/Networks/Embeddings/Data/Cit-HepPh.txt"
   ]
  },
  {
   "cell_type": "code",
   "execution_count": 15,
   "metadata": {},
   "outputs": [],
   "source": [
    "def nodeReferenceToTemporal(directory,\n",
    "                            temporalFileName,\n",
    "                            networkFileName,\n",
    "                            datesReferenceFileName):\n",
    "    \"\"\"\n",
    "    Function for the Citation-Graphs\n",
    "    \"\"\"\n",
    "    nodesDataFrame = pd.read_csv(directory+datesReferenceFileName,\n",
    "                                 parse_dates=True,\n",
    "                                 index_col=1,\n",
    "                                 skiprows=0,\n",
    "                                 sep=\"\\t\")\n",
    "    \n",
    "    A = nodesDataFrame.index.to_datetime()\n",
    "    node2date = dict(zip(nodesDataFrame.values.transpose()[0],nodesDataFrame.index))\n",
    "    maxDate = max(nodesDataFrame.index)\n",
    "    minDate = min(nodesDataFrame.index)\n",
    "\n",
    "    numberOfDaysInSeries = (maxDate - minDate).days\n",
    "    edges = np.loadtxt(directory+networkFileName,skiprows=4)\n",
    "\n",
    "    del(nodesDataFrame)\n",
    "    del(A)\n",
    "    errors = 0\n",
    "    filebuffer = open(directory+temporalFileName,\"w\")\n",
    "    edge_issues = []\n",
    "    for edge in edges:\n",
    "        NODEA = node_date(edge[0],node2date)\n",
    "        NODEB = node_date(edge[1],node2date)\n",
    "        try:\n",
    "            edge_day = (max(NODEA,NODEB) - minDate).days\n",
    "            edge_string = \" \".join(map(str,map(int,np.concatenate([edge,[edge_day]]))))+\"\\n\"\n",
    "            filebuffer.write(edge_string)\n",
    "        except:\n",
    "            edge_issues.append((edge,sys.exc_info()))\n",
    "            errors+=1\n",
    "        if errors >= 100:\n",
    "            break\n",
    "            \n",
    "    filebuffer.close()\n",
    "    return edge_issues\n",
    "\n"
   ]
  },
  {
   "cell_type": "code",
   "execution_count": 4,
   "metadata": {
    "collapsed": true
   },
   "outputs": [],
   "source": [
    "def node_date(node,node2date):\n",
    "    try:\n",
    "        return node2date[int(edge[0])]\n",
    "    except:\n",
    "        try:\n",
    "            return node2date[int(\"11\"+str(edge[0]))]\n",
    "        except:\n",
    "            return None"
   ]
  },
  {
   "cell_type": "code",
   "execution_count": 5,
   "metadata": {
    "scrolled": false
   },
   "outputs": [],
   "source": [
    "%%capture\n",
    "temporalFileName = 'Temporal-Cit-HepTh.txt'\n",
    "networkFileName = 'Cit-HepTh.txt'\n",
    "datesReferenceFileName = 'Cit-HepTh-dates.txt'\n",
    "\n",
    "nodesDataFrame = pd.read_csv(directory+datesReferenceFileName,\n",
    "                             parse_dates=True,\n",
    "                             index_col=1,\n",
    "                             skiprows=0,\n",
    "                             sep=\"\\t\")\n",
    "\n",
    "A = nodesDataFrame.index.to_datetime()\n",
    "node2date = {}\n",
    "for value, date in zip(nodesDataFrame.values.transpose()[0],nodesDataFrame.index):\n",
    "    try:\n",
    "        node2date[int(value)] = date\n",
    "    except:\n",
    "        pass\n",
    "    \n",
    "maxDate = max(nodesDataFrame.index)\n",
    "minDate = min(nodesDataFrame.index)\n",
    "\n",
    "numberOfDaysInSeries = (maxDate - minDate).days\n",
    "edges = np.loadtxt(directory+networkFileName,skiprows=4)\n",
    "\n",
    "del(nodesDataFrame)\n",
    "del(A)\n",
    "\n",
    "#edges_issues = nodeReferenceToTemporal(directory,temporalFileName,networkFileName,datesReferenceFileName)"
   ]
  },
  {
   "cell_type": "code",
   "execution_count": 8,
   "metadata": {},
   "outputs": [],
   "source": [
    "errors = 0\n",
    "filebuffer = open(directory+temporalFileName,\"w\")\n",
    "edge_issues = []\n",
    "for edge in edges:\n",
    "    NODEA = node_date(edge[0],node2date)\n",
    "    NODEB = node_date(edge[1],node2date)\n",
    "    try:\n",
    "        edge_day = (max(NODEA,NODEB) - minDate).days\n",
    "        edge_string = \" \".join(map(str,map(int,np.concatenate([edge,[edge_day]]))))+\"\\n\"\n",
    "        filebuffer.write(edge_string)\n",
    "    except:\n",
    "        edge_issues.append((edge,sys.exc_info()))\n",
    "        #errors+=1\n",
    "        pass\n",
    "    if errors > 100:\n",
    "        break\n",
    "filebuffer.close()"
   ]
  },
  {
   "cell_type": "code",
   "execution_count": 138,
   "metadata": {},
   "outputs": [
    {
     "data": {
      "text/plain": [
       "'Temporal-Cit-HepPh.txt'"
      ]
     },
     "execution_count": 138,
     "metadata": {},
     "output_type": "execute_result"
    }
   ],
   "source": [
    "gd_folder = \"/home/cesar/Desktop/Doctorado/Projects/Networks/Dynamics/Simulations/cit-HepPh_gd/\"\n",
    "dynamical_identifier = \"cit-HepPh\"\n",
    "temporalFileName"
   ]
  },
  {
   "cell_type": "code",
   "execution_count": 139,
   "metadata": {},
   "outputs": [],
   "source": [
    "def TemporalToSeries(gd_folder,dynamics_identifier,temporalFileName,stepsInGraph=7):\n",
    "    \"\"\"\n",
    "    \"\"\"\n",
    "    temporal_edges = np.loadtxt(temporalFileName,delimiter=\" \")\n",
    "    days = temporal_edges[:,2]\n",
    "    minDay = int(min(days))\n",
    "    maxDay = int(max(days))\n",
    "    for time_index, current_day in enumerate(range(minDay,maxDay,stepsInGraph)):\n",
    "        graph_file_name  = gd_folder+\"{0}_gGD_{1}_.gd\".format(dynamics_identifier,time_index)\n",
    "        current_edges = np.take(temporal_edges,np.where(days < current_day)[0],axis=0)[:,[0,1]]\n",
    "        np.savetxt(graph_file_name,np.float_(current_edges))"
   ]
  },
  {
   "cell_type": "code",
   "execution_count": 140,
   "metadata": {},
   "outputs": [],
   "source": [
    "TemporalToSeries(gd_folder,dynamical_identifier,directory+temporalFileName,)"
   ]
  },
  {
   "cell_type": "code",
   "execution_count": 141,
   "metadata": {
    "collapsed": true
   },
   "outputs": [],
   "source": [
    "(a,b,c) = (1,2,3)"
   ]
  }
 ],
 "metadata": {
  "kernelspec": {
   "display_name": "graphs",
   "language": "python",
   "name": "graphs"
  },
  "language_info": {
   "codemirror_mode": {
    "name": "ipython",
    "version": 2
   },
   "file_extension": ".py",
   "mimetype": "text/x-python",
   "name": "python",
   "nbconvert_exporter": "python",
   "pygments_lexer": "ipython2",
   "version": "2.7.12"
  }
 },
 "nbformat": 4,
 "nbformat_minor": 1
}
