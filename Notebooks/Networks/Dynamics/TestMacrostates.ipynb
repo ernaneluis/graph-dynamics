{
 "cells": [
  {
   "cell_type": "code",
   "execution_count": 1,
   "metadata": {
    "collapsed": true
   },
   "outputs": [],
   "source": [
    "import os\n",
    "import sys\n",
    "import numpy as np\n",
    "import pandas as pd\n",
    "import networkx as nx\n",
    "from scipy.stats import binom\n",
    "\n",
    "from matplotlib import pyplot as plt\n",
    "sys.path.append(\"../../../\")\n",
    "\n",
    "%matplotlib inline"
   ]
  },
  {
   "cell_type": "code",
   "execution_count": 7,
   "metadata": {
    "collapsed": true
   },
   "outputs": [],
   "source": [
    "from graph_dynamics.random_measures import finite_process\n",
    "from graph_dynamics.networks.datatypes import FiniteProcessGraphs \n",
    "from graph_dynamics.random_measures.datatypes import PoissonMeasure\n",
    "from graph_dynamics.random_measures.finite_process import FiniteGeneralizedGamma\n",
    "\n",
    "from graph_dynamics.dynamics import Macrostates"
   ]
  },
  {
   "cell_type": "code",
   "execution_count": 4,
   "metadata": {
    "collapsed": false
   },
   "outputs": [
    {
     "name": "stdout",
     "output_type": "stream",
     "text": [
      "#============================\n",
      "#  Bayesian Network Ready    \n",
      "# Number of nodes 20        \n",
      "# Number of edges 210        \n",
      "#============================\n"
     ]
    }
   ],
   "source": [
    "measure_identifier_string = \"FGGP Test\"\n",
    "K = 20\n",
    "sigma = 0.01\n",
    "tau = 0.0001\n",
    "alpha = 10.2\n",
    "lambdaMeasure = PoissonMeasure(alpha,identifier_string=\"LambdaMeasure\",K=K)\n",
    "\n",
    "FGG = FiniteGeneralizedGamma(measure_identifier_string,K,sigma,tau,lambdaMeasure)\n",
    "\n",
    "#self.FGG.PlotProcess(plotName=\"FFG {0}.pdf\", saveTo=\"../\", showPlot=True)\n",
    "\n",
    "graph_identifier = \"FPG Test\"\n",
    "FiniteProcessGraph = FiniteProcessGraphs(graph_identifier,FGG)"
   ]
  },
  {
   "cell_type": "code",
   "execution_count": 11,
   "metadata": {
    "collapsed": false
   },
   "outputs": [],
   "source": [
    "# Macrostates.macrostate_function_dictionary[\"degree_distribution\"](FiniteProcessGraph)"
   ]
  },
  {
   "cell_type": "code",
   "execution_count": null,
   "metadata": {
    "collapsed": true
   },
   "outputs": [],
   "source": []
  }
 ],
 "metadata": {
  "kernelspec": {
   "display_name": "Python 2",
   "language": "python",
   "name": "python2"
  },
  "language_info": {
   "codemirror_mode": {
    "name": "ipython",
    "version": 2
   },
   "file_extension": ".py",
   "mimetype": "text/x-python",
   "name": "python",
   "nbconvert_exporter": "python",
   "pygments_lexer": "ipython2",
   "version": "2.7.6"
  }
 },
 "nbformat": 4,
 "nbformat_minor": 0
}
