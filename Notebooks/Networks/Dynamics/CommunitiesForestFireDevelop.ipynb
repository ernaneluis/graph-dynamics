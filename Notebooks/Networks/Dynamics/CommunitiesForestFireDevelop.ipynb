{
 "cells": [
  {
   "cell_type": "code",
   "execution_count": 1,
   "metadata": {
    "collapsed": false
   },
   "outputs": [],
   "source": [
    "import sys\n",
    "import copy\n",
    "import matplotlib\n",
    "import numpy as np\n",
    "import pandas as pd\n",
    "import networkx as nx\n",
    "from matplotlib import pyplot as plt\n",
    "\n",
    "sys.path.append(\"../../../\")\n",
    "\n",
    "from graph_dynamics.networks import communities\n",
    "from graph_dynamics.dynamics import GraphPathsHandlers\n",
    "from graph_dynamics.utils import graph_paths_visualization\n",
    "from graph_dynamics.dynamics import GenerativeDynamicsCommunities\n",
    "\n",
    "\n",
    "matplotlib.rcParams['ps.useafm'] = True\n",
    "matplotlib.rcParams['text.usetex'] = True\n",
    "matplotlib.rcParams['pdf.use14corefonts'] = True\n",
    "\n",
    "%matplotlib inline "
   ]
  },
  {
   "cell_type": "code",
   "execution_count": 2,
   "metadata": {
    "collapsed": false
   },
   "outputs": [],
   "source": [
    "matplotlib.style.use('seaborn-talk')\n",
    "colors = []\n",
    "for a in plt.style.library['bmh']['axes.prop_cycle']:\n",
    "    colors.append(a[\"color\"])"
   ]
  },
  {
   "cell_type": "markdown",
   "metadata": {},
   "source": [
    "# Parameters"
   ]
  },
  {
   "cell_type": "code",
   "execution_count": 3,
   "metadata": {
    "collapsed": true
   },
   "outputs": [],
   "source": [
    "forest_fire_communities_parameters = {0:{\"BurnExpFireP\":False,\n",
    "                                         \"StartNNodes\":1,\n",
    "                                         \"ForwBurnProb\":0.2,\n",
    "                                         \"BackBurnProb\":0.32,\n",
    "                                         \"DecayProb\":1.0,\n",
    "                                         \"Take2AmbasPrb\":0.,\n",
    "                                         \"OrphanPrb\": 0.},\n",
    "                                      1:{\"BurnExpFireP\":False,\n",
    "                                         \"StartNNodes\":1,\n",
    "                                         \"ForwBurnProb\":0.2,\n",
    "                                         \"BackBurnProb\":0.32,\n",
    "                                         \"DecayProb\":1.0,\n",
    "                                         \"Take2AmbasPrb\":0.,\n",
    "                                         \"OrphanPrb\": 0.},\n",
    "                                      2:{\"BurnExpFireP\":False,\n",
    "                                         \"StartNNodes\":1,\n",
    "                                         \"ForwBurnProb\":0.7,\n",
    "                                         \"BackBurnProb\":0.72,\n",
    "                                         \"DecayProb\":1.0,\n",
    "                                         \"Take2AmbasPrb\":0.,\n",
    "                                         \"OrphanPrb\": 0.},\n",
    "                                      3:{\"BurnExpFireP\":False,\n",
    "                                         \"StartNNodes\":1,\n",
    "                                         \"ForwBurnProb\":0.2,\n",
    "                                         \"BackBurnProb\":0.32,\n",
    "                                         \"DecayProb\":1.0,\n",
    "                                         \"Take2AmbasPrb\":0.,\n",
    "                                         \"OrphanPrb\": 0.}}\n",
    "\n",
    "numberOfCommunitiesAndNoise = len(forest_fire_communities_parameters.keys())\n",
    "\n",
    "numberOfSteps = 10\n",
    "#back ground evolution\n",
    "timeSeriesCommunity0 = np.ones(numberOfSteps)*2\n",
    "timeSeriesCommunity0[0] = 0\n",
    "\n",
    "timeSeriesCommunity1 = np.ones(numberOfSteps)*2\n",
    "timeSeriesCommunity1[0] = 30\n",
    "\n",
    "timeSeriesCommunity2 = np.ones(numberOfSteps)*3\n",
    "timeSeriesCommunity2[0] = 30\n",
    "\n",
    "timeSeriesCommunity3 = np.ones(numberOfSteps)*4\n",
    "timeSeriesCommunity3[0] = 30\n",
    "\n",
    "timeSeriesOfCommunities = {0:timeSeriesCommunity0,\n",
    "                           1:timeSeriesCommunity1,\n",
    "                           2:timeSeriesCommunity2,\n",
    "                           3:timeSeriesCommunity3}\n",
    "\n",
    "#the initial size of the community is that as defined by the time series\n",
    "numberOfNodesPerCommunities = [timeSeriesOfCommunities[c][0] for c in range(1,numberOfCommunitiesAndNoise)]\n",
    "numberOfBridgesPerCommunity = [5,5,5]\n",
    "barabasiParameter = 3\n",
    "initial_graph, subGraphs,Q,bridgesInCommunity = communities.barabasiAlbertCommunities(numberOfNodesPerCommunities, \n",
    "                                                      numberOfBridgesPerCommunity, \n",
    "                                                      barabasiParameter)\n",
    "initial_communities = {c:subGraphs[c-1].nodes() for c in range(1,numberOfCommunitiesAndNoise)}\n",
    "initial_communities[0]=[]"
   ]
  },
  {
   "cell_type": "code",
   "execution_count": 4,
   "metadata": {
    "collapsed": false
   },
   "outputs": [
    {
     "data": {
      "text/plain": [
       "[30.0, 30.0, 30.0]"
      ]
     },
     "execution_count": 4,
     "metadata": {},
     "output_type": "execute_result"
    }
   ],
   "source": [
    "numberOfNodesPerCommunities"
   ]
  },
  {
   "cell_type": "code",
   "execution_count": 5,
   "metadata": {
    "collapsed": false
   },
   "outputs": [],
   "source": [
    "dynamics = GenerativeDynamicsCommunities.CommunitiesForestFire(initial_graph,initial_communities,forest_fire_communities_parameters,timeSeriesOfCommunities)"
   ]
  },
  {
   "cell_type": "code",
   "execution_count": 6,
   "metadata": {
    "collapsed": false
   },
   "outputs": [],
   "source": [
    "graph_series, relabeling, initial_relabeling = dynamics.generate_graphs_series(10)"
   ]
  },
  {
   "cell_type": "code",
   "execution_count": 7,
   "metadata": {
    "collapsed": false,
    "scrolled": true
   },
   "outputs": [
    {
     "data": {
      "text/plain": [
       "10"
      ]
     },
     "execution_count": 7,
     "metadata": {},
     "output_type": "execute_result"
    }
   ],
   "source": [
    "len(graph_series[0])"
   ]
  },
  {
   "cell_type": "code",
   "execution_count": 24,
   "metadata": {
    "collapsed": false
   },
   "outputs": [
    {
     "data": {
      "text/plain": [
       "array([91, 90, 89, 88, 87, 86, 85, 84, 83, 82, 81, 80, 79, 78, 77, 76, 75,\n",
       "       74, 73, 72, 71, 70, 69, 68, 67, 66, 65, 64, 63, 62, 61, 60, 59, 58,\n",
       "       57, 56, 55, 54, 53, 52, 51, 50, 49, 48, 47, 46, 45, 44, 43, 42, 41,\n",
       "       40, 39, 38, 37, 36, 35, 34, 33, 32, 31, 30, 29, 28, 27, 26, 25, 24,\n",
       "       23, 22, 21, 20, 19, 18, 17, 16, 15, 14, 13, 12, 11, 10,  9,  8,  7,\n",
       "        6,  5,  4,  3,  2,  1,  0])"
      ]
     },
     "execution_count": 24,
     "metadata": {},
     "output_type": "execute_result"
    }
   ],
   "source": [
    "np.array(graph_series[0][1].nodes())[::-1]"
   ]
  },
  {
   "cell_type": "code",
   "execution_count": 9,
   "metadata": {
    "collapsed": false,
    "scrolled": true
   },
   "outputs": [
    {
     "data": {
      "text/plain": [
       "{1: [{30: 90, 31: 91},\n",
       "  {32: 101, 33: 102},\n",
       "  {34: 112, 35: 113},\n",
       "  {36: 123, 37: 124},\n",
       "  {38: 134, 39: 135},\n",
       "  {40: 145, 41: 146},\n",
       "  {42: 156, 43: 157},\n",
       "  {44: 167, 45: 168},\n",
       "  {46: 178, 47: 179}],\n",
       " 2: [{30: 92, 31: 93, 32: 94},\n",
       "  {33: 103, 34: 104, 35: 105},\n",
       "  {36: 114, 37: 115, 38: 116},\n",
       "  {39: 125, 40: 126, 41: 127},\n",
       "  {42: 136, 43: 137, 44: 138},\n",
       "  {45: 147, 46: 148, 47: 149},\n",
       "  {48: 158, 49: 159, 50: 160},\n",
       "  {51: 169, 52: 170, 53: 171},\n",
       "  {54: 180, 55: 181, 56: 182}],\n",
       " 3: [{30: 95, 31: 96, 32: 97, 33: 98},\n",
       "  {34: 106, 35: 107, 36: 108, 37: 109},\n",
       "  {38: 117, 39: 118, 40: 119, 41: 120},\n",
       "  {42: 128, 43: 129, 44: 130, 45: 131},\n",
       "  {46: 139, 47: 140, 48: 141, 49: 142},\n",
       "  {50: 150, 51: 151, 52: 152, 53: 153},\n",
       "  {54: 161, 55: 162, 56: 163, 57: 164},\n",
       "  {58: 172, 59: 173, 60: 174, 61: 175},\n",
       "  {62: 183, 63: 184, 64: 185, 65: 186}]}"
      ]
     },
     "execution_count": 9,
     "metadata": {},
     "output_type": "execute_result"
    }
   ],
   "source": [
    "relabeling"
   ]
  },
  {
   "cell_type": "code",
   "execution_count": 10,
   "metadata": {
    "collapsed": false,
    "scrolled": true
   },
   "outputs": [
    {
     "name": "stdout",
     "output_type": "stream",
     "text": [
      "1\n",
      "2\n",
      "3\n",
      "4\n",
      "5\n",
      "6\n",
      "7\n",
      "8\n"
     ]
    }
   ],
   "source": [
    "c = 1\n",
    "for time in range(1,numberOfSteps-1):\n",
    "    print time\n",
    "    new_community_graph = graph_series[c][time]\n",
    "    relabeled_graph = nx.relabel_nodes(new_community_graph,relabeling[c][time-1])\n",
    "    #print relabeled_graph.edge"
   ]
  },
  {
   "cell_type": "code",
   "execution_count": 11,
   "metadata": {
    "collapsed": false,
    "scrolled": true
   },
   "outputs": [],
   "source": [
    "fullTimeSeriesStack = np.array([timeSeriesOfCommunities[c] for c in range(0,numberOfCommunitiesAndNoise)])\n",
    "fullTimeSeriesStackCum = fullTimeSeriesStack.cumsum(axis=1)\n",
    "\n",
    "fullTimeSeries = fullTimeSeriesStack.sum(axis=0)\n",
    "cumFullTimeSeries = fullTimeSeries.cumsum()"
   ]
  },
  {
   "cell_type": "code",
   "execution_count": 12,
   "metadata": {
    "collapsed": false
   },
   "outputs": [
    {
     "data": {
      "text/plain": [
       "array([  90.,  101.,  112.,  123.,  134.,  145.,  156.,  167.,  178.,  189.])"
      ]
     },
     "execution_count": 12,
     "metadata": {},
     "output_type": "execute_result"
    }
   ],
   "source": [
    "cumFullTimeSeries"
   ]
  },
  {
   "cell_type": "code",
   "execution_count": 13,
   "metadata": {
    "collapsed": false
   },
   "outputs": [
    {
     "data": {
      "text/plain": [
       "array([[  0.,   2.,   2.,   2.,   2.,   2.,   2.,   2.,   2.,   2.],\n",
       "       [ 30.,   2.,   2.,   2.,   2.,   2.,   2.,   2.,   2.,   2.],\n",
       "       [ 30.,   3.,   3.,   3.,   3.,   3.,   3.,   3.,   3.,   3.],\n",
       "       [ 30.,   4.,   4.,   4.,   4.,   4.,   4.,   4.,   4.,   4.]])"
      ]
     },
     "execution_count": 13,
     "metadata": {},
     "output_type": "execute_result"
    }
   ],
   "source": [
    "fullTimeSeriesStack"
   ]
  },
  {
   "cell_type": "code",
   "execution_count": 14,
   "metadata": {
    "collapsed": false,
    "scrolled": true
   },
   "outputs": [
    {
     "name": "stdout",
     "output_type": "stream",
     "text": [
      "time 1\n",
      "community  1\n",
      "totalInitialNumberOfNodes  90\n",
      "upper border  92\n",
      "newNames  [90, 91]\n",
      "#####\n",
      "community  2\n",
      "totalInitialNumberOfNodes  90\n",
      "upper border  95\n",
      "newNames  [92, 93, 94]\n",
      "#####\n",
      "community  3\n",
      "totalInitialNumberOfNodes  90\n",
      "upper border  99\n",
      "newNames  [95, 96, 97, 98]\n",
      "#####\n",
      "\n",
      "\n",
      "time 2\n",
      "community  1\n",
      "totalInitialNumberOfNodes  90\n",
      "upper border  103\n",
      "newNames  [101, 102]\n",
      "#####\n",
      "community  2\n",
      "totalInitialNumberOfNodes  90\n",
      "upper border  106\n",
      "newNames  [103, 104, 105]\n",
      "#####\n",
      "community  3\n",
      "totalInitialNumberOfNodes  90\n",
      "upper border  110\n",
      "newNames  [106, 107, 108, 109]\n",
      "#####\n",
      "\n",
      "\n",
      "time 3\n",
      "community  1\n",
      "totalInitialNumberOfNodes  90\n",
      "upper border  114\n",
      "newNames  [112, 113]\n",
      "#####\n",
      "community  2\n",
      "totalInitialNumberOfNodes  90\n",
      "upper border  117\n",
      "newNames  [114, 115, 116]\n",
      "#####\n",
      "community  3\n",
      "totalInitialNumberOfNodes  90\n",
      "upper border  121\n",
      "newNames  [117, 118, 119, 120]\n",
      "#####\n",
      "\n",
      "\n",
      "time 4\n",
      "community  1\n",
      "totalInitialNumberOfNodes  90\n",
      "upper border  125\n",
      "newNames  [123, 124]\n",
      "#####\n",
      "community  2\n",
      "totalInitialNumberOfNodes  90\n",
      "upper border  128\n",
      "newNames  [125, 126, 127]\n",
      "#####\n",
      "community  3\n",
      "totalInitialNumberOfNodes  90\n",
      "upper border  132\n",
      "newNames  [128, 129, 130, 131]\n",
      "#####\n",
      "\n",
      "\n",
      "time 5\n",
      "community  1\n",
      "totalInitialNumberOfNodes  90\n",
      "upper border  136\n",
      "newNames  [134, 135]\n",
      "#####\n",
      "community  2\n",
      "totalInitialNumberOfNodes  90\n",
      "upper border  139\n",
      "newNames  [136, 137, 138]\n",
      "#####\n",
      "community  3\n",
      "totalInitialNumberOfNodes  90\n",
      "upper border  143\n",
      "newNames  [139, 140, 141, 142]\n",
      "#####\n",
      "\n",
      "\n",
      "time 6\n",
      "community  1\n",
      "totalInitialNumberOfNodes  90\n",
      "upper border  147\n",
      "newNames  [145, 146]\n",
      "#####\n",
      "community  2\n",
      "totalInitialNumberOfNodes  90\n",
      "upper border  150\n",
      "newNames  [147, 148, 149]\n",
      "#####\n",
      "community  3\n",
      "totalInitialNumberOfNodes  90\n",
      "upper border  154\n",
      "newNames  [150, 151, 152, 153]\n",
      "#####\n",
      "\n",
      "\n",
      "time 7\n",
      "community  1\n",
      "totalInitialNumberOfNodes  90\n",
      "upper border  158\n",
      "newNames  [156, 157]\n",
      "#####\n",
      "community  2\n",
      "totalInitialNumberOfNodes  90\n",
      "upper border  161\n",
      "newNames  [158, 159, 160]\n",
      "#####\n",
      "community  3\n",
      "totalInitialNumberOfNodes  90\n",
      "upper border  165\n",
      "newNames  [161, 162, 163, 164]\n",
      "#####\n",
      "\n",
      "\n",
      "time 8\n",
      "community  1\n",
      "totalInitialNumberOfNodes  90\n",
      "upper border  169\n",
      "newNames  [167, 168]\n",
      "#####\n",
      "community  2\n",
      "totalInitialNumberOfNodes  90\n",
      "upper border  172\n",
      "newNames  [169, 170, 171]\n",
      "#####\n",
      "community  3\n",
      "totalInitialNumberOfNodes  90\n",
      "upper border  176\n",
      "newNames  [172, 173, 174, 175]\n",
      "#####\n",
      "\n",
      "\n",
      "time 9\n",
      "community  1\n",
      "totalInitialNumberOfNodes  90\n",
      "upper border  180\n",
      "newNames  [178, 179]\n",
      "#####\n",
      "community  2\n",
      "totalInitialNumberOfNodes  90\n",
      "upper border  183\n",
      "newNames  [180, 181, 182]\n",
      "#####\n",
      "community  3\n",
      "totalInitialNumberOfNodes  90\n",
      "upper border  187\n",
      "newNames  [183, 184, 185, 186]\n",
      "#####\n",
      "\n",
      "\n"
     ]
    }
   ],
   "source": [
    "relabeling = {c:[] for c in range(1,numberOfCommunitiesAndNoise)}\n",
    "totalInitialNumberOfNodes = cumFullTimeSeries[0]\n",
    "for time in range(1,numberOfSteps):\n",
    "    accuPerCommunity = 0\n",
    "    print \"time\",time\n",
    "    lower_border = int(cumFullTimeSeries[time-1])\n",
    "    for c in range(1,numberOfCommunitiesAndNoise):\n",
    "        #take new node created in the individual dynamics\n",
    "        print \"community \",c\n",
    "        newNodesInCommnity = range(int(fullTimeSeriesStackCum[c][time-1]),int(fullTimeSeriesStackCum[c][time])) \n",
    "        numberOfNewNodes = int(fullTimeSeriesStack[c][time])\n",
    "        print \"totalInitialNumberOfNodes \",int(totalInitialNumberOfNodes)\n",
    "        upper_border = lower_border + numberOfNewNodes\n",
    "        newNames = range(lower_border, upper_border)\n",
    "        print \"upper border \",upper_border\n",
    "        print \"newNames \",newNames \n",
    "        print \"#####\"\n",
    "        instantaneous_relabeling = dict(zip(newNodesInCommnity,newNames))\n",
    "        relabeling[c].append(instantaneous_relabeling)\n",
    "        \n",
    "        lower_border += numberOfNewNodes\n",
    "        totalInitialNumberOfNodes += accuPerCommunity \n",
    "    print \"\\n\""
   ]
  },
  {
   "cell_type": "code",
   "execution_count": 15,
   "metadata": {
    "collapsed": false
   },
   "outputs": [
    {
     "data": {
      "text/plain": [
       "{1: [{30: 90, 31: 91},\n",
       "  {32: 101, 33: 102},\n",
       "  {34: 112, 35: 113},\n",
       "  {36: 123, 37: 124},\n",
       "  {38: 134, 39: 135},\n",
       "  {40: 145, 41: 146},\n",
       "  {42: 156, 43: 157},\n",
       "  {44: 167, 45: 168},\n",
       "  {46: 178, 47: 179}],\n",
       " 2: [{30: 92, 31: 93, 32: 94},\n",
       "  {33: 103, 34: 104, 35: 105},\n",
       "  {36: 114, 37: 115, 38: 116},\n",
       "  {39: 125, 40: 126, 41: 127},\n",
       "  {42: 136, 43: 137, 44: 138},\n",
       "  {45: 147, 46: 148, 47: 149},\n",
       "  {48: 158, 49: 159, 50: 160},\n",
       "  {51: 169, 52: 170, 53: 171},\n",
       "  {54: 180, 55: 181, 56: 182}],\n",
       " 3: [{30: 95, 31: 96, 32: 97, 33: 98},\n",
       "  {34: 106, 35: 107, 36: 108, 37: 109},\n",
       "  {38: 117, 39: 118, 40: 119, 41: 120},\n",
       "  {42: 128, 43: 129, 44: 130, 45: 131},\n",
       "  {46: 139, 47: 140, 48: 141, 49: 142},\n",
       "  {50: 150, 51: 151, 52: 152, 53: 153},\n",
       "  {54: 161, 55: 162, 56: 163, 57: 164},\n",
       "  {58: 172, 59: 173, 60: 174, 61: 175},\n",
       "  {62: 183, 63: 184, 64: 185, 65: 186}]}"
      ]
     },
     "execution_count": 15,
     "metadata": {},
     "output_type": "execute_result"
    }
   ],
   "source": [
    "relabeling"
   ]
  },
  {
   "cell_type": "code",
   "execution_count": null,
   "metadata": {
    "collapsed": true
   },
   "outputs": [],
   "source": []
  }
 ],
 "metadata": {
  "kernelspec": {
   "display_name": "Anaconda",
   "language": "python",
   "name": "anaconda"
  },
  "language_info": {
   "codemirror_mode": {
    "name": "ipython",
    "version": 2
   },
   "file_extension": ".py",
   "mimetype": "text/x-python",
   "name": "python",
   "nbconvert_exporter": "python",
   "pygments_lexer": "ipython2",
   "version": "2.7.12"
  }
 },
 "nbformat": 4,
 "nbformat_minor": 0
}
