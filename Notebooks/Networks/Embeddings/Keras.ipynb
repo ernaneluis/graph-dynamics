{
 "cells": [
  {
   "cell_type": "code",
   "execution_count": 9,
   "metadata": {
    "collapsed": true
   },
   "outputs": [],
   "source": [
    "'''Trains a LSTM on the IMDB sentiment classification task.\n",
    "The dataset is actually too small for LSTM to be of any advantage\n",
    "compared to simpler, much faster methods such as TF-IDF + LogReg.\n",
    "Notes:\n",
    "\n",
    "- RNNs are tricky. Choice of batch size is important,\n",
    "choice of loss and optimizer is critical, etc.\n",
    "Some configurations won't converge.\n",
    "\n",
    "- LSTM loss decrease patterns during training can be quite different\n",
    "from what you see with CNNs/MLPs/etc.\n",
    "'''\n",
    "from __future__ import print_function\n",
    "\n",
    "from keras.preprocessing import sequence\n",
    "from keras.models import Sequential\n",
    "from keras.layers import Dense, Embedding\n",
    "from keras.layers import LSTM\n",
    "from keras.datasets import imdb\n",
    "\n",
    "import theano\n",
    "\n",
    "import numpy as np"
   ]
  },
  {
   "cell_type": "code",
   "execution_count": 10,
   "metadata": {},
   "outputs": [
    {
     "data": {
      "text/plain": [
       "'gpu'"
      ]
     },
     "execution_count": 10,
     "metadata": {},
     "output_type": "execute_result"
    }
   ],
   "source": [
    "theano.config.device"
   ]
  },
  {
   "cell_type": "code",
   "execution_count": 3,
   "metadata": {},
   "outputs": [
    {
     "name": "stdout",
     "output_type": "stream",
     "text": [
      "Loading data...\n",
      "25000 train sequences\n",
      "25000 test sequences\n"
     ]
    }
   ],
   "source": [
    "max_features = 20000\n",
    "maxlen = 80  # cut texts after this number of words (among top max_features most common words)\n",
    "batch_size = 32\n",
    "\n",
    "print('Loading data...')\n",
    "(x_train, y_train), (x_test, y_test) = imdb.load_data(num_words=max_features)\n",
    "print(len(x_train), 'train sequences')\n",
    "print(len(x_test), 'test sequences')"
   ]
  },
  {
   "cell_type": "code",
   "execution_count": 4,
   "metadata": {},
   "outputs": [
    {
     "name": "stdout",
     "output_type": "stream",
     "text": [
      "Pad sequences (samples x time)\n",
      "x_train shape: (25000, 80)\n",
      "x_test shape: (25000, 80)\n"
     ]
    }
   ],
   "source": [
    "print('Pad sequences (samples x time)')\n",
    "x_train = sequence.pad_sequences(x_train, maxlen=maxlen)\n",
    "x_test = sequence.pad_sequences(x_test, maxlen=maxlen)\n",
    "print('x_train shape:', x_train.shape)\n",
    "print('x_test shape:', x_test.shape)"
   ]
  },
  {
   "cell_type": "code",
   "execution_count": 5,
   "metadata": {},
   "outputs": [
    {
     "name": "stdout",
     "output_type": "stream",
     "text": [
      "Build model...\n"
     ]
    }
   ],
   "source": [
    "print('Build model...')\n",
    "model = Sequential()\n",
    "model.add(Embedding(max_features, 128))\n",
    "model.add(LSTM(128, dropout=0.2, recurrent_dropout=0.2))\n",
    "model.add(Dense(1, activation='sigmoid'))"
   ]
  },
  {
   "cell_type": "code",
   "execution_count": 13,
   "metadata": {
    "collapsed": true
   },
   "outputs": [],
   "source": [
    "LSTM?"
   ]
  },
  {
   "cell_type": "code",
   "execution_count": 6,
   "metadata": {
    "collapsed": true
   },
   "outputs": [],
   "source": [
    "# try using different optimizers and different optimizer configs\n",
    "model.compile(loss='binary_crossentropy',\n",
    "              optimizer='adam',\n",
    "              metrics=['accuracy'])"
   ]
  },
  {
   "cell_type": "code",
   "execution_count": 7,
   "metadata": {
    "scrolled": true
   },
   "outputs": [
    {
     "name": "stdout",
     "output_type": "stream",
     "text": [
      "Train...\n",
      "Train on 25000 samples, validate on 25000 samples\n",
      "Epoch 1/15\n",
      "25000/25000 [==============================] - 129s - loss: 0.4565 - acc: 0.7805 - val_loss: 0.3686 - val_acc: 0.8376\n",
      "Epoch 2/15\n",
      "25000/25000 [==============================] - 134s - loss: 0.2911 - acc: 0.8808 - val_loss: 0.3866 - val_acc: 0.8292\n",
      "Epoch 3/15\n",
      "25000/25000 [==============================] - 133s - loss: 0.2027 - acc: 0.9220 - val_loss: 0.4239 - val_acc: 0.8324\n",
      "Epoch 4/15\n",
      "25000/25000 [==============================] - 145s - loss: 0.1411 - acc: 0.9482 - val_loss: 0.4840 - val_acc: 0.8279\n",
      "Epoch 5/15\n",
      "25000/25000 [==============================] - 137s - loss: 0.1017 - acc: 0.9630 - val_loss: 0.6192 - val_acc: 0.8214\n",
      "Epoch 6/15\n",
      "25000/25000 [==============================] - 132s - loss: 0.0669 - acc: 0.9771 - val_loss: 0.7079 - val_acc: 0.8144\n",
      "Epoch 7/15\n",
      "25000/25000 [==============================] - 133s - loss: 0.0537 - acc: 0.9812 - val_loss: 0.7098 - val_acc: 0.8179\n",
      "Epoch 8/15\n",
      "25000/25000 [==============================] - 132s - loss: 0.0444 - acc: 0.9856 - val_loss: 0.7901 - val_acc: 0.8141\n",
      "Epoch 9/15\n",
      "25000/25000 [==============================] - 131s - loss: 0.0304 - acc: 0.9902 - val_loss: 0.8923 - val_acc: 0.8130\n",
      "Epoch 10/15\n",
      "25000/25000 [==============================] - 137s - loss: 0.0247 - acc: 0.9924 - val_loss: 0.8535 - val_acc: 0.8155\n",
      "Epoch 11/15\n",
      "25000/25000 [==============================] - 135s - loss: 0.0190 - acc: 0.9938 - val_loss: 1.0211 - val_acc: 0.8121\n",
      "Epoch 12/15\n",
      "25000/25000 [==============================] - 130s - loss: 0.0156 - acc: 0.9952 - val_loss: 1.1173 - val_acc: 0.8124\n",
      "Epoch 13/15\n",
      "25000/25000 [==============================] - 130s - loss: 0.0161 - acc: 0.9946 - val_loss: 1.0340 - val_acc: 0.8114\n",
      "Epoch 14/15\n",
      "25000/25000 [==============================] - 141s - loss: 0.0106 - acc: 0.9968 - val_loss: 1.1142 - val_acc: 0.8163\n",
      "Epoch 15/15\n",
      "25000/25000 [==============================] - 140s - loss: 0.0086 - acc: 0.9971 - val_loss: 1.1720 - val_acc: 0.8151\n",
      "24992/25000 [============================>.] - ETA: 0sTest score: 1.17196948037\n",
      "Test accuracy: 0.81508\n"
     ]
    }
   ],
   "source": [
    "print('Train...')\n",
    "model.fit(x_train, y_train,\n",
    "          batch_size=batch_size,\n",
    "          epochs=15,\n",
    "          validation_data=(x_test, y_test))\n",
    "score, acc = model.evaluate(x_test, y_test,\n",
    "                            batch_size=batch_size)\n",
    "print('Test score:', score)\n",
    "print('Test accuracy:', acc)"
   ]
  },
  {
   "cell_type": "code",
   "execution_count": 8,
   "metadata": {},
   "outputs": [
    {
     "name": "stdout",
     "output_type": "stream",
     "text": [
      "Test score: 1.17196948037\n",
      "Test accuracy: 0.81508\n"
     ]
    }
   ],
   "source": [
    "print('Test score:', score)\n",
    "print('Test accuracy:', acc)"
   ]
  },
  {
   "cell_type": "code",
   "execution_count": null,
   "metadata": {
    "collapsed": true
   },
   "outputs": [],
   "source": []
  }
 ],
 "metadata": {
  "kernelspec": {
   "display_name": "graphs",
   "language": "python",
   "name": "graphs"
  },
  "language_info": {
   "codemirror_mode": {
    "name": "ipython",
    "version": 2
   },
   "file_extension": ".py",
   "mimetype": "text/x-python",
   "name": "python",
   "nbconvert_exporter": "python",
   "pygments_lexer": "ipython2",
   "version": "2.7.6"
  }
 },
 "nbformat": 4,
 "nbformat_minor": 2
}
