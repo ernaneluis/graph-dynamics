{
 "cells": [
  {
   "cell_type": "code",
   "execution_count": 2,
   "metadata": {},
   "outputs": [],
   "source": [
    "import numpy as np\n",
    "from keras.models import Sequential\n",
    "from keras.layers import Dense\n",
    "import keras.backend as K\n",
    "\n"
   ]
  },
  {
   "cell_type": "code",
   "execution_count": 3,
   "metadata": {
    "collapsed": true
   },
   "outputs": [],
   "source": [
    "from keras import engine"
   ]
  },
  {
   "cell_type": "code",
   "execution_count": null,
   "metadata": {
    "collapsed": true
   },
   "outputs": [],
   "source": [
    "engine.Model."
   ]
  },
  {
   "cell_type": "code",
   "execution_count": null,
   "metadata": {
    "collapsed": true
   },
   "outputs": [],
   "source": [
    "xdim = 4\n",
    "ydim = 1\n",
    "gate = Sequential([Dense(2, input_dim=xdim)])\n",
    "mlp1 = Sequential([Dense(1, input_dim=xdim)])\n",
    "mlp2 = Sequential([Dense(1, input_dim=xdim)])\n",
    "\n",
    "\n",
    "def merge_mode(branches):\n",
    "    g, o1, o2 = branches\n",
    "    # I'd have liked to write\n",
    "    # return o1 * K.transpose(g[:, 0]) + o2 * K.transpose(g[:, 1])\n",
    "    # but it doesn't work, and I don't know enough Keras to solve it\n",
    "    return K.transpose(K.transpose(o1) * g[:, 0] + K.transpose(o2) * g[:, 1])\n",
    "\n",
    "\n",
    "model = Sequential()\n",
    "model.add(Merge([gate, mlp1, mlp2], output_shape=(ydim,), mode=merge_mode))\n",
    "model.compile(optimizer='Adam', loss='mean_squared_error')\n",
    "\n",
    "train_size = 19\n",
    "nb_inputs = 3  # one input tensor for each branch (g, o1, o2)\n",
    "x_train = [np.random.random((train_size, xdim)) for _ in range(nb_inputs)]\n",
    "y_train = np.random.random((train_size, ydim))\n",
    "model.fit(x_train, y_train)"
   ]
  }
 ],
 "metadata": {
  "kernelspec": {
   "display_name": "graphs",
   "language": "python",
   "name": "graphs"
  },
  "language_info": {
   "codemirror_mode": {
    "name": "ipython",
    "version": 2
   },
   "file_extension": ".py",
   "mimetype": "text/x-python",
   "name": "python",
   "nbconvert_exporter": "python",
   "pygments_lexer": "ipython2",
   "version": "2.7.6"
  }
 },
 "nbformat": 4,
 "nbformat_minor": 2
}
