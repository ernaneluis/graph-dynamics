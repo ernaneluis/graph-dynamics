{
 "cells": [
  {
   "cell_type": "code",
   "execution_count": 1,
   "metadata": {},
   "outputs": [
    {
     "name": "stderr",
     "output_type": "stream",
     "text": [
      "Using TensorFlow backend.\n"
     ]
    }
   ],
   "source": [
    "import json\n",
    "import copy\n",
    "import numpy as np\n",
    "import networkx as nx\n",
    "import matplotlib.pyplot as plt\n",
    "\n",
    "from gensim.models.word2vec import Word2Vec"
   ]
  },
  {
   "cell_type": "code",
   "execution_count": 2,
   "metadata": {
    "collapsed": true,
    "scrolled": true
   },
   "outputs": [],
   "source": [
    "import sys\n",
    "sys.path.append(\"../../../\")\n",
    "\n",
    "from graph_dynamics.dynamics import Macrostates\n",
    "from graph_dynamics.dynamics import GenerativeDynamics\n",
    "from graph_dynamics.utils import graph_paths_visualization\n",
    "from graph_dynamics.dynamics import GraphsFormatsHandlers\n",
    "from graph_dynamics.networks.datatypes import VanillaGraph\n",
    "from graph_dynamics.networks.communities import CommunityGraph\n",
    "\n",
    "from graph_dynamics.dynamics import datatypes\n",
    "from graph_dynamics.dynamics import MacrostatesHandlers\n",
    "from graph_dynamics.dynamics import Macrostates\n",
    "from graph_dynamics.utils import gd_files_handler\n",
    "from graph_dynamics.embeddings import alignment\n",
    "from graph_dynamics.dynamics import GenerativeDynamicsCommunities\n",
    "from graph_dynamics.networks import communities\n",
    "from graph_dynamics.embeddings import node2vec"
   ]
  },
  {
   "cell_type": "code",
   "execution_count": 3,
   "metadata": {
    "collapsed": true
   },
   "outputs": [],
   "source": [
    "from scipy.linalg import orthogonal_procrustes\n",
    "from scipy.spatial import procrustes"
   ]
  },
  {
   "cell_type": "code",
   "execution_count": 4,
   "metadata": {},
   "outputs": [
    {
     "data": {
      "text/plain": [
       "['advanced_stats',\n",
       " 'pagerank',\n",
       " 'deepwalk_online',\n",
       " 'new_nodes',\n",
       " 'basic_stats',\n",
       " 'degree_nodes',\n",
       " 'node2vec_macrostates',\n",
       " 'bigclam',\n",
       " 'node2vec_online_macrostates',\n",
       " 'degree_centrality']"
      ]
     },
     "execution_count": 4,
     "metadata": {},
     "output_type": "execute_result"
    }
   ],
   "source": [
    "Macrostates.macrostate_function_dictionary.keys()"
   ]
  },
  {
   "cell_type": "code",
   "execution_count": 5,
   "metadata": {
    "collapsed": true
   },
   "outputs": [],
   "source": [
    "simulations_directory = \"/home/cesar/Desktop/GraphsDynamics/Simulations/\"\n",
    "dynamics_identifier = \"Communities\"\n",
    "gd_directory = simulations_directory + dynamics_identifier + \"_gd/\"\n",
    "number_of_steps = 30"
   ]
  },
  {
   "cell_type": "code",
   "execution_count": 6,
   "metadata": {
    "scrolled": true
   },
   "outputs": [
    {
     "name": "stdout",
     "output_type": "stream",
     "text": [
      "Dynamics Communities\n",
      "{u'DynamicsClassParameters': {u'CommunitiesForestFire': {u'0': {u'BackBurnProb': 0.32,\n",
      "                                                                u'BurnExpFireP': False,\n",
      "                                                                u'DecayProb': 1.0,\n",
      "                                                                u'ForwBurnProb': 0.2,\n",
      "                                                                u'OrphanPrb': 0.0,\n",
      "                                                                u'StartNNodes': 1,\n",
      "                                                                u'Take2AmbasPrb': 0.0},\n",
      "                                                         u'1': {u'BackBurnProb': 0.32,\n",
      "                                                                u'BurnExpFireP': False,\n",
      "                                                                u'DecayProb': 1.0,\n",
      "                                                                u'ForwBurnProb': 0.2,\n",
      "                                                                u'OrphanPrb': 0.0,\n",
      "                                                                u'StartNNodes': 1,\n",
      "                                                                u'Take2AmbasPrb': 0.0},\n",
      "                                                         u'2': {u'BackBurnProb': 0.32,\n",
      "                                                                u'BurnExpFireP': False,\n",
      "                                                                u'DecayProb': 1.0,\n",
      "                                                                u'ForwBurnProb': 0.2,\n",
      "                                                                u'OrphanPrb': 0.0,\n",
      "                                                                u'StartNNodes': 1,\n",
      "                                                                u'Take2AmbasPrb': 0.0},\n",
      "                                                         u'3': {u'BackBurnProb': 0.22,\n",
      "                                                                u'BurnExpFireP': False,\n",
      "                                                                u'DecayProb': 1.0,\n",
      "                                                                u'ForwBurnProb': 0.2,\n",
      "                                                                u'OrphanPrb': 0.0,\n",
      "                                                                u'StartNNodes': 1,\n",
      "                                                                u'Take2AmbasPrb': 0.0}},\n",
      "                              u'TimeSeriesOfComunities': [0, 1, 2, 3]},\n",
      " u'datetime_timeseries': False,\n",
      " u'dynamics_identifier': u'Communities',\n",
      " u'graph_class': u'CommunityGraph',\n",
      " u'initial_date': 1,\n",
      " u'macrostates': [[u'basic_stats', []]],\n",
      " u'number_of_steps': 100,\n",
      " u'number_of_steps_in_memory': 1,\n",
      " u'simulations_directory': u'/home/cesar/Desktop/GraphsDynamics/Simulations/',\n",
      " u'verbose': True}\n",
      "Number of state files 100\n",
      "Number of Graphs 100\n",
      "Macros Files\n",
      "{'Communities-macros': {'macros': {u'basic_stats': <type 'dict'>},\n",
      "                        'max_index': 99,\n",
      "                        'min_index': 0,\n",
      "                        'size': 100},\n",
      " 'node2vec': {'macros': {u'node2vec_online_macrostates': <type 'dict'>},\n",
      "              'max_index': 99,\n",
      "              'min_index': 1,\n",
      "              'size': 99}}\n"
     ]
    }
   ],
   "source": [
    "ALL_TIME_INDEXES,DYNAMICS_PARAMETERS,macroNumbers = gd_files_handler.gd_folder_stats(gd_directory,True)"
   ]
  },
  {
   "cell_type": "markdown",
   "metadata": {},
   "source": [
    "# Take The Communities"
   ]
  },
  {
   "cell_type": "code",
   "execution_count": 17,
   "metadata": {
    "collapsed": true,
    "scrolled": true
   },
   "outputs": [],
   "source": [
    "graph_object = datatypes.get_graph_from_dynamics(gd_directory,1)\n",
    "#graph_object.get_graph_state()[\"communities\"]"
   ]
  },
  {
   "cell_type": "code",
   "execution_count": 23,
   "metadata": {
    "scrolled": true
   },
   "outputs": [],
   "source": [
    "#graph_object.get_graph_state()[\"communities\"]"
   ]
  },
  {
   "cell_type": "code",
   "execution_count": 24,
   "metadata": {},
   "outputs": [
    {
     "name": "stdout",
     "output_type": "stream",
     "text": [
      "Walk iteration:\n",
      "1 / 10\n",
      "2 / 10\n",
      "3 / 10\n",
      "4 / 10\n",
      "5 / 10\n",
      "6 / 10\n",
      "7 / 10\n",
      "8 / 10\n",
      "9 / 10\n",
      "10 / 10\n"
     ]
    }
   ],
   "source": [
    "nargs = {\"dimensions\":2,\n",
    "         \"directed\":False,\n",
    "         \"p\":0.001,\n",
    "         \"q\":2,\n",
    "         \"num_walks\":10,\n",
    "         \"walk_length\":80,\n",
    "         \"window_size\":10,\n",
    "         \"workers\":8,\n",
    "         \"iter\":10,\n",
    "         \"weighted\":False,\n",
    "         \"undirected\":True}\n",
    "    \n",
    "node_embeddings = Macrostates.node2vec_macrostates(graph_object,(nargs))"
   ]
  },
  {
   "cell_type": "code",
   "execution_count": 25,
   "metadata": {
    "collapsed": true
   },
   "outputs": [],
   "source": [
    "communities = graph_object.get_graph_state()[\"communities\"]"
   ]
  },
  {
   "cell_type": "code",
   "execution_count": 26,
   "metadata": {},
   "outputs": [
    {
     "data": {
      "image/png": "[encoded data removed]",
      "text/plain": [
       "<matplotlib.figure.Figure at 0x7f48dd3a1990>"
      ]
     },
     "metadata": {},
     "output_type": "display_data"
    }
   ],
   "source": [
    "w_communities = {}\n",
    "for comm, values in communities.iteritems():\n",
    "    w_communities[comm] = np.array([node_embeddings[str(node)] for node in values])\n",
    "for w in w_communities.values():\n",
    "    try:\n",
    "        plt.scatter(w[:,0], w[:,1])\n",
    "    except:\n",
    "        pass\n",
    "plt.show()"
   ]
  }
 ],
 "metadata": {
  "kernelspec": {
   "display_name": "graphs",
   "language": "python",
   "name": "graphs"
  },
  "language_info": {
   "codemirror_mode": {
    "name": "ipython",
    "version": 2
   },
   "file_extension": ".py",
   "mimetype": "text/x-python",
   "name": "python",
   "nbconvert_exporter": "python",
   "pygments_lexer": "ipython2",
   "version": "2.7.6"
  }
 },
 "nbformat": 4,
 "nbformat_minor": 1
}
