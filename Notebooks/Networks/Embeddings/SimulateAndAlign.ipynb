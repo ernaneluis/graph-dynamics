{
 "cells": [
  {
   "cell_type": "code",
   "execution_count": 23,
   "metadata": {
    "collapsed": true
   },
   "outputs": [],
   "source": [
    "import numpy as np\n",
    "import networkx as nx\n",
    "import matplotlib.pyplot as plt"
   ]
  },
  {
   "cell_type": "code",
   "execution_count": 24,
   "metadata": {},
   "outputs": [],
   "source": [
    "from graph_dynamics.dynamics import Macrostates\n",
    "from graph_dynamics.dynamics import GenerativeDynamics\n",
    "from graph_dynamics.utils import graph_paths_visualization\n",
    "from graph_dynamics.dynamics import GraphsFormatsHandlers\n",
    "from graph_dynamics.networks.datatypes import VanillaGraph\n",
    "\n",
    "from graph_dynamics.dynamics import MacrostatesHandlers\n",
    "from graph_dynamics.dynamics import Macrostates\n",
    "from graph_dynamics.utils import gd_files_handler\n",
    "from graph_dynamics.embeddings import alignment"
   ]
  },
  {
   "cell_type": "code",
   "execution_count": 25,
   "metadata": {
    "collapsed": true
   },
   "outputs": [],
   "source": [
    "from scipy.linalg import orthogonal_procrustes\n",
    "from scipy.spatial import procrustes"
   ]
  },
  {
   "cell_type": "code",
   "execution_count": 26,
   "metadata": {},
   "outputs": [
    {
     "data": {
      "text/plain": [
       "['degree_distribution',\n",
       " 'basic_stats',\n",
       " 'pagerank',\n",
       " 'new_nodes',\n",
       " 'bigclam',\n",
       " 'node2vec_macrostates']"
      ]
     },
     "execution_count": 26,
     "metadata": {},
     "output_type": "execute_result"
    }
   ],
   "source": [
    "Macrostates.macrostate_function_dictionary.keys()"
   ]
  },
  {
   "cell_type": "code",
   "execution_count": 29,
   "metadata": {
    "collapsed": true
   },
   "outputs": [],
   "source": [
    "initial_graph = nx.barabasi_albert_graph(20,3)\n",
    "number_of_steps = 30\n",
    "\n",
    "BurnExpFireP = False\n",
    "StartNNodes = 1\n",
    "ForwBurnProb = 0.2\n",
    "BackBurnProb = 0.32\n",
    "DecayProb = 1.0\n",
    "Take2AmbasPrb =  0.\n",
    "OrphanPrb =  0.\n",
    "\n",
    "forestFireParameters = (BurnExpFireP,StartNNodes,ForwBurnProb,BackBurnProb,DecayProb,Take2AmbasPrb,OrphanPrb) \n",
    "timeSeriesOfNodes = np.ones(number_of_steps)*10\n",
    "number_of_steps_in_memory = 5\n",
    "\n",
    "nargs = {\"dimensions\":2,\n",
    "         \"directed\":False,\n",
    "         \"p\":0.001,\n",
    "         \"q\":2,\n",
    "         \"num_walks\":10,\n",
    "         \"walk_length\":80,\n",
    "         \"window_size\":10,\n",
    "         \"workers\":8,\n",
    "         \"iter\":1,\n",
    "         \"weighted\":False,\n",
    "         \"undirected\":True}\n",
    "    \n",
    "gd_directory = \"/home/cesar/Desktop/Doctorado/Projects/Networks/Dynamics/Simulations/\"\n",
    "\n",
    "#gd_directory = \"/home/cesar/Desktop/Simulations/\"\n",
    "DYNAMICS_PARAMETERS = {\"number_of_steps\":number_of_steps,\n",
    "                        \"number_of_steps_in_memory\":number_of_steps_in_memory,\n",
    "                        \"simulations_directory\":gd_directory,\n",
    "                        \"dynamics_identifier\":\"ForestFireEmbeddings2\",\n",
    "                        \"macrostates\":[(\"node2vec_macrostates\",(nargs,))],\n",
    "                        \"graph_class\":\"VanillaGraph\",\n",
    "                        \"datetime_timeseries\":False,\n",
    "                        \"initial_date\":1,\n",
    "                        \"verbose\":True}\n",
    "\n",
    "vanilla_graph = VanillaGraph(\"Vanilla\", \n",
    "                             graph_state={\"None\":None}, \n",
    "                             networkx_graph=initial_graph)"
   ]
  },
  {
   "cell_type": "markdown",
   "metadata": {},
   "source": [
    "# Dynamics"
   ]
  },
  {
   "cell_type": "code",
   "execution_count": 30,
   "metadata": {},
   "outputs": [
    {
     "name": "stdout",
     "output_type": "stream",
     "text": [
      "Dynamics Directory Exists\n",
      "#30 STEPS EVOLUTION STARTED FOR ForestFireEmbeddings2\n",
      "#STARTING EVOLUTION AT STEP 9\n",
      "110\n",
      "initital generate paths  110\n",
      "Walk iteration:\n",
      "1 / 10\n",
      "2 / 10\n",
      "3 / 10\n",
      "4 / 10\n",
      "5 / 10\n",
      "6 / 10\n",
      "7 / 10\n",
      "8 / 10\n",
      "9 / 10\n",
      "10 / 10\n",
      "Walk iteration:\n",
      "1 / 10\n",
      "2 / 10\n",
      "3 / 10\n",
      "4 / 10\n",
      "5 / 10\n",
      "6 / 10\n",
      "7 / 10\n",
      "8 / 10\n",
      "9 / 10\n",
      "10 / 10\n",
      "Walk iteration:\n",
      "1 / 10\n",
      "2 / 10\n",
      "3 / 10\n",
      "4 / 10\n",
      "5 / 10\n",
      "6 / 10\n",
      "7 / 10\n",
      "8 / 10\n",
      "9 / 10\n",
      "10 / 10\n",
      "Walk iteration:\n",
      "1 / 10\n",
      "2 / 10\n",
      "3 / 10\n",
      "4 / 10\n",
      "5 / 10\n",
      "6 / 10\n",
      "7 / 10\n",
      "8 / 10\n",
      "9 / 10\n",
      "10 / 10\n",
      "Walk iteration:\n",
      "1 / 10\n",
      "2 / 10\n",
      "3 / 10\n",
      "4 / 10\n",
      "5 / 10\n",
      "6 / 10\n",
      "7 / 10\n",
      "8 / 10\n",
      "9 / 10\n",
      "10 / 10\n",
      "All graph in memory\n",
      "120\n",
      "130\n",
      "140\n",
      "150\n",
      "160\n",
      "last guy\n",
      "160\n",
      "initital generate paths  160\n",
      "Walk iteration:\n",
      "1 / 10\n",
      "2 / 10\n",
      "3 / 10\n",
      "4 / 10\n",
      "5 / 10\n",
      "6 / 10\n",
      "7 / 10\n",
      "8 / 10\n",
      "9 / 10\n",
      "10 / 10\n",
      "Walk iteration:\n",
      "1 / 10\n",
      "2 / 10\n",
      "3 / 10\n",
      "4 / 10\n",
      "5 / 10\n",
      "6 / 10\n",
      "7 / 10\n",
      "8 / 10\n",
      "9 / 10\n",
      "10 / 10\n",
      "Walk iteration:\n",
      "1 / 10\n",
      "2 / 10\n",
      "3 / 10\n",
      "4 / 10\n",
      "5 / 10\n",
      "6 / 10\n",
      "7 / 10\n",
      "8 / 10\n",
      "9 / 10\n",
      "10 / 10\n",
      "Walk iteration:\n",
      "1 / 10\n",
      "2 / 10\n",
      "3 / 10\n",
      "4 / 10\n",
      "5 / 10\n",
      "6 / 10\n",
      "7 / 10\n",
      "8 / 10\n",
      "9 / 10\n",
      "10 / 10\n",
      "Walk iteration:\n",
      "1 / 10\n",
      "2 / 10\n",
      "3 / 10\n",
      "4 / 10\n",
      "5 / 10\n",
      "6 / 10\n",
      "7 / 10\n",
      "8 / 10\n",
      "9 / 10\n",
      "10 / 10\n",
      "All graph in memory\n",
      "170\n",
      "180\n",
      "190\n",
      "200\n",
      "210\n",
      "last guy\n",
      "210\n",
      "initital generate paths  210\n",
      "Walk iteration:\n",
      "1 / 10\n",
      "2 / 10\n",
      "3 / 10\n",
      "4 / 10\n",
      "5 / 10\n",
      "6 / 10\n",
      "7 / 10\n",
      "8 / 10\n",
      "9 / 10\n",
      "10 / 10\n",
      "Walk iteration:\n",
      "1 / 10\n",
      "2 / 10\n",
      "3 / 10\n",
      "4 / 10\n",
      "5 / 10\n",
      "6 / 10\n",
      "7 / 10\n",
      "8 / 10\n",
      "9 / 10\n",
      "10 / 10\n",
      "Walk iteration:\n",
      "1 / 10\n",
      "2 / 10\n",
      "3 / 10\n",
      "4 / 10\n",
      "5 / 10\n",
      "6 / 10\n",
      "7 / 10\n",
      "8 / 10\n",
      "9 / 10\n",
      "10 / 10\n",
      "Walk iteration:\n",
      "1 / 10\n",
      "2 / 10\n",
      "3 / 10\n",
      "4 / 10\n",
      "5 / 10\n",
      "6 / 10\n",
      "7 / 10\n",
      "8 / 10\n",
      "9 / 10\n",
      "10 / 10\n",
      "Walk iteration:\n",
      "1 / 10\n",
      "2 / 10\n",
      "3 / 10\n",
      "4 / 10\n",
      "5 / 10\n",
      "6 / 10\n",
      "7 / 10\n",
      "8 / 10\n",
      "9 / 10\n",
      "10 / 10\n",
      "All graph in memory\n",
      "220\n",
      "230\n",
      "240\n",
      "250\n",
      "260\n",
      "last guy\n",
      "260\n",
      "initital generate paths  260\n",
      "Walk iteration:\n",
      "1 / 10\n",
      "2 / 10\n",
      "3 / 10\n",
      "4 / 10\n",
      "5 / 10\n",
      "6 / 10\n",
      "7 / 10\n",
      "8 / 10\n",
      "9 / 10\n",
      "10 / 10\n",
      "Walk iteration:\n",
      "1 / 10\n",
      "2 / 10\n",
      "3 / 10\n",
      "4 / 10\n",
      "5 / 10\n",
      "6 / 10\n",
      "7 / 10\n",
      "8 / 10\n",
      "9 / 10\n",
      "10 / 10\n",
      "Walk iteration:\n",
      "1 / 10\n",
      "2 / 10\n",
      "3 / 10\n",
      "4 / 10\n",
      "5 / 10\n",
      "6 / 10\n",
      "7 / 10\n",
      "8 / 10\n",
      "9 / 10\n",
      "10 / 10\n",
      "Walk iteration:\n",
      "1 / 10\n",
      "2 / 10\n",
      "3 / 10\n",
      "4 / 10\n",
      "5 / 10\n",
      "6 / 10\n",
      "7 / 10\n",
      "8 / 10\n",
      "9 / 10\n",
      "10 / 10\n",
      "Walk iteration:\n",
      "1 / 10\n",
      "2 / 10\n",
      "3 / 10\n",
      "4 / 10\n",
      "5 / 10\n",
      "6 / 10\n",
      "7 / 10\n",
      "8 / 10\n",
      "9 / 10\n",
      "10 / 10\n",
      "All graph in memory\n",
      "270\n",
      "280\n",
      "290\n",
      "300\n",
      "310\n",
      "last guy\n",
      "310\n",
      "initital generate paths  310\n",
      "Walk iteration:\n",
      "1 / 10\n",
      "2 / 10\n",
      "3 / 10\n",
      "4 / 10\n",
      "5 / 10\n",
      "6 / 10\n",
      "7 / 10\n",
      "8 / 10\n",
      "9 / 10\n",
      "10 / 10\n",
      "All graph in memory\n",
      "320\n",
      "last guy\n",
      "320\n"
     ]
    }
   ],
   "source": [
    "\n",
    "ForestFireDynamics = GenerativeDynamics.ForestFire(vanilla_graph, \n",
    "                                                   forestFireParameters,\n",
    "                                                   timeSeriesOfNodes,\n",
    "                                                   DYNAMICS_PARAMETERS)        \n",
    "ForestFireDynamics.evolve(30, vanilla_graph)\n",
    "graph_paths = ForestFireDynamics.get_graph_path_window(0, 20)\n"
   ]
  },
  {
   "cell_type": "code",
   "execution_count": 36,
   "metadata": {
    "scrolled": true
   },
   "outputs": [
    {
     "name": "stdout",
     "output_type": "stream",
     "text": [
      "Dynamics ForestFireEmbeddings2\n",
      "{u'DynamicsClassParameters': {u'ForestFire': [False,\n",
      "                                              1,\n",
      "                                              0.2,\n",
      "                                              0.32,\n",
      "                                              1.0,\n",
      "                                              0.0,\n",
      "                                              0.0],\n",
      "                              u'TimeSeriesOfNodes': [10.0,\n",
      "                                                     10.0,\n",
      "                                                     10.0,\n",
      "                                                     10.0,\n",
      "                                                     10.0,\n",
      "                                                     10.0,\n",
      "                                                     10.0,\n",
      "                                                     10.0,\n",
      "                                                     10.0,\n",
      "                                                     10.0,\n",
      "                                                     10.0,\n",
      "                                                     10.0,\n",
      "                                                     10.0,\n",
      "                                                     10.0,\n",
      "                                                     10.0,\n",
      "                                                     10.0,\n",
      "                                                     10.0,\n",
      "                                                     10.0,\n",
      "                                                     10.0,\n",
      "                                                     10.0,\n",
      "                                                     10.0,\n",
      "                                                     10.0,\n",
      "                                                     10.0,\n",
      "                                                     10.0,\n",
      "                                                     10.0,\n",
      "                                                     10.0,\n",
      "                                                     10.0,\n",
      "                                                     10.0,\n",
      "                                                     10.0,\n",
      "                                                     10.0]},\n",
      " u'datetime_timeseries': False,\n",
      " u'dynamics_identifier': u'ForestFireEmbeddings2',\n",
      " u'graph_class': u'VanillaGraph',\n",
      " u'initial_date': 1,\n",
      " u'macrostates': [[u'node2vec_macrostates',\n",
      "                   [{u'dimensions': 2,\n",
      "                     u'directed': False,\n",
      "                     u'iter': 1,\n",
      "                     u'num_walks': 10,\n",
      "                     u'p': 0.001,\n",
      "                     u'q': 2,\n",
      "                     u'undirected': True,\n",
      "                     u'walk_length': 80,\n",
      "                     u'weighted': False,\n",
      "                     u'window_size': 10,\n",
      "                     u'workers': 8}]]],\n",
      " u'number_of_steps': 30,\n",
      " u'number_of_steps_in_memory': 5,\n",
      " u'simulations_directory': u'/home/cesar/Desktop/Doctorado/Projects/Networks/Dynamics/Simulations/',\n",
      " u'verbose': True}\n",
      "Number of state files 30\n",
      "Number of Graphs 30\n",
      "Macros Files\n",
      "{'Can': {'macros': {u'degree_distribution': <type 'dict'>,\n",
      "                    u'pagerank': <type 'dict'>},\n",
      "         'max_index': 29,\n",
      "         'min_index': 0,\n",
      "         'size': 30},\n",
      " 'ForestFireEmbeddings2-macros': {'macros': {u'node2vec_macrostates': <type 'dict'>},\n",
      "                                  'max_index': 29,\n",
      "                                  'min_index': 0,\n",
      "                                  'size': 30},\n",
      " 'newnodes': {'macros': {u'new_nodes': <type 'dict'>},\n",
      "              'max_index': 29,\n",
      "              'min_index': 1,\n",
      "              'size': 29}}\n"
     ]
    }
   ],
   "source": [
    "gd_directory = \"/home/cesar/Desktop/Doctorado/Projects/Networks/Dynamics/Simulations/ForestFireEmbeddings2_gd/\"\n",
    "ALL_TIME_INDEXES,DYNAMICS_PARAMETERS,macroNumbers = gd_files_handler.gd_folder_stats(gd_directory,True)"
   ]
  },
  {
   "cell_type": "code",
   "execution_count": 35,
   "metadata": {
    "scrolled": true
   },
   "outputs": [
    {
     "name": "stdout",
     "output_type": "stream",
     "text": [
      "Evaluating Time 1 for newnodes\n",
      "Evaluating Time 2 for newnodes\n",
      "Evaluating Time 3 for newnodes\n",
      "Evaluating Time 4 for newnodes\n",
      "Evaluating Time 5 for newnodes\n",
      "Evaluating Time 6 for newnodes\n",
      "Evaluating Time 7 for newnodes\n",
      "Evaluating Time 8 for newnodes\n",
      "Evaluating Time 9 for newnodes\n",
      "Evaluating Time 10 for newnodes\n",
      "Evaluating Time 11 for newnodes\n",
      "Evaluating Time 12 for newnodes\n",
      "Evaluating Time 13 for newnodes\n",
      "Evaluating Time 14 for newnodes\n",
      "Evaluating Time 15 for newnodes\n",
      "Evaluating Time 16 for newnodes\n",
      "Evaluating Time 17 for newnodes\n",
      "Evaluating Time 18 for newnodes\n",
      "Evaluating Time 19 for newnodes\n",
      "Evaluating Time 20 for newnodes\n",
      "Evaluating Time 21 for newnodes\n",
      "Evaluating Time 22 for newnodes\n",
      "Evaluating Time 23 for newnodes\n",
      "Evaluating Time 24 for newnodes\n",
      "Evaluating Time 25 for newnodes\n",
      "Evaluating Time 26 for newnodes\n",
      "Evaluating Time 27 for newnodes\n",
      "Evaluating Time 28 for newnodes\n"
     ]
    }
   ],
   "source": [
    "\n",
    "macrostates_run_ideintifier = \"newnodes\" \n",
    "macrostates_names  = [(\"new_nodes\",())]\n",
    "window = 1\n",
    "rolling = True\n",
    "Macrostates.evaluate_vanilla_macrostates_window(gd_directory,\n",
    "                                                macrostates_names, \n",
    "                                                macrostates_run_ideintifier, \n",
    "                                                window, \n",
    "                                                rolling)\n",
    "                                                \n",
    "#Macrostates.evaluate_vanilla_macrostates(gd_directory, \n",
    "#                                         [(\"pagerank\",()),(\"degree_distribution\",())], \n",
    "#                                         \"Can\")"
   ]
  },
  {
   "cell_type": "markdown",
   "metadata": {},
   "source": [
    "# Initial and New Nodes Ordering"
   ]
  },
  {
   "cell_type": "code",
   "execution_count": 39,
   "metadata": {},
   "outputs": [],
   "source": [
    "macro_state_identifier = 'node2vec_macrostates'\n",
    "macrostate_file_indentifier = 'ForestFireEmbeddings2-macros'\n",
    "\n",
    "time_index = 0\n",
    "initial_embeddings = MacrostatesHandlers.time_index_macro(gd_directory,\n",
    "                                                          macro_state_identifier,\n",
    "                                                          macrostate_file_indentifier,\n",
    "                                                          time_index)\n",
    "initial_nodes = initial_embeddings.keys()\n",
    "initial_nodes.sort()"
   ]
  },
  {
   "cell_type": "code",
   "execution_count": 40,
   "metadata": {
    "scrolled": true
   },
   "outputs": [],
   "source": [
    "new_nodes_per_time = alignment.all_new_nodes_per_time(gd_directory,initial_nodes,latest_index=10)"
   ]
  },
  {
   "cell_type": "markdown",
   "metadata": {},
   "source": [
    "# ALIGNMENT "
   ]
  },
  {
   "cell_type": "code",
   "execution_count": 47,
   "metadata": {
    "scrolled": true
   },
   "outputs": [],
   "source": [
    "w_base, w_other = alignment.embedings_in_order(new_nodes_per_time,\n",
    "                                     0,\n",
    "                                     1,\n",
    "                                     gd_directory,\n",
    "                                     macrostate_file_indentifier)\n",
    "\n",
    "w_base, w_other_2 = alignment.embedings_in_order(new_nodes_per_time,\n",
    "                                     0,\n",
    "                                     2,\n",
    "                                     gd_directory,\n",
    "                                     macrostate_file_indentifier)"
   ]
  },
  {
   "cell_type": "code",
   "execution_count": 48,
   "metadata": {},
   "outputs": [],
   "source": [
    "base_embed, w_other = alignment.procrustes_align(w_base,w_other)\n",
    "base_embed, w_other_2 = alignment.procrustes_align(w_base,w_other_2)"
   ]
  },
  {
   "cell_type": "code",
   "execution_count": null,
   "metadata": {
    "collapsed": true
   },
   "outputs": [],
   "source": []
  },
  {
   "cell_type": "code",
   "execution_count": 49,
   "metadata": {},
   "outputs": [
    {
     "data": {
      "image/png": "[encoded data removed]",
      "text/plain": [
       "<matplotlib.figure.Figure at 0x7ff7502d5d90>"
      ]
     },
     "metadata": {},
     "output_type": "display_data"
    }
   ],
   "source": [
    "plt.scatter(w_other[:,0], w_other[:,1],label=\"{0}\".format(\"other\"))\n",
    "plt.scatter(w_other_2[:,0], w_other_2[:,1],label=\"{0}\".format(\"other 2\"))\n",
    "plt.scatter(base_embed[:,0], base_embed[:,1],label=\"{0}\".format(\"base\"))\n",
    "plt.legend(loc=\"best\")\n",
    "plt.show()"
   ]
  },
  {
   "cell_type": "code",
   "execution_count": 31,
   "metadata": {
    "collapsed": true
   },
   "outputs": [],
   "source": [
    "W = []\n",
    "for time_index in range(1,10):\n",
    "    node_embeddings = MacrostatesHandlers.time_index_macro(gd_directory,\n",
    "                                                           macro_state_identifier,\n",
    "                                                           macrostate_file_indentifier,\n",
    "                                                           time_index)\n",
    "    wt = []\n",
    "    for node in initial_nodes:\n",
    "        wt.append(np.array(node_embeddings[node]))\n",
    "    wt = np.array(wt)\n",
    "    W.append(wt)"
   ]
  },
  {
   "cell_type": "code",
   "execution_count": 45,
   "metadata": {
    "collapsed": true
   },
   "outputs": [],
   "source": [
    "Align_W = []\n",
    "for w in W:\n",
    "    Align_W.append(alignment.procrustes_align(w0,w)[1])"
   ]
  },
  {
   "cell_type": "code",
   "execution_count": 46,
   "metadata": {},
   "outputs": [
    {
     "data": {
      "text/plain": [
       "<matplotlib.legend.Legend at 0x7f0fb9d8ef50>"
      ]
     },
     "execution_count": 46,
     "metadata": {},
     "output_type": "execute_result"
    }
   ],
   "source": [
    "for t,w in enumerate(Align_W):\n",
    "    plt.scatter(w[:,0], w[:,1],label=\"{0}\".format(t))\n",
    "plt.legend(loc=\"best\")"
   ]
  },
  {
   "cell_type": "code",
   "execution_count": 47,
   "metadata": {},
   "outputs": [
    {
     "data": {
      "image/png": "[encoded data removed]",
      "text/plain": [
       "<matplotlib.figure.Figure at 0x7f0fb9ca3710>"
      ]
     },
     "metadata": {},
     "output_type": "display_data"
    }
   ],
   "source": [
    "plt.show()"
   ]
  },
  {
   "cell_type": "code",
   "execution_count": null,
   "metadata": {
    "collapsed": true
   },
   "outputs": [],
   "source": []
  }
 ],
 "metadata": {
  "kernelspec": {
   "display_name": "graphs",
   "language": "python",
   "name": "graphs"
  },
  "language_info": {
   "codemirror_mode": {
    "name": "ipython",
    "version": 2
   },
   "file_extension": ".py",
   "mimetype": "text/x-python",
   "name": "python",
   "nbconvert_exporter": "python",
   "pygments_lexer": "ipython2",
   "version": "2.7.6"
  }
 },
 "nbformat": 4,
 "nbformat_minor": 1
}
