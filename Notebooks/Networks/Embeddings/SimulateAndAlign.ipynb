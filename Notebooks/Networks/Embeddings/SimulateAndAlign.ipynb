{
 "cells": [
  {
   "cell_type": "code",
   "execution_count": 1,
   "metadata": {
    "collapsed": true
   },
   "outputs": [],
   "source": [
    "import numpy as np\n",
    "import networkx as nx\n",
    "import matplotlib.pyplot as plt"
   ]
  },
  {
   "cell_type": "code",
   "execution_count": 2,
   "metadata": {},
   "outputs": [
    {
     "name": "stderr",
     "output_type": "stream",
     "text": [
      "Using Theano backend.\n",
      "WARNING (theano.sandbox.cuda): The cuda backend is deprecated and will be removed in the next release (v0.10).  Please switch to the gpuarray backend. You can get more information about how to switch at this URL:\n",
      " https://github.com/Theano/Theano/wiki/Converting-to-the-new-gpu-back-end%28gpuarray%29\n",
      "\n",
      "Using gpu device 0: GeForce GT 720 (CNMeM is disabled, cuDNN not available)\n"
     ]
    }
   ],
   "source": [
    "from graph_dynamics.dynamics import Macrostates\n",
    "from graph_dynamics.dynamics import GenerativeDynamics\n",
    "from graph_dynamics.utils import graph_paths_visualization\n",
    "from graph_dynamics.dynamics import GraphsFormatsHandlers\n",
    "from graph_dynamics.networks.datatypes import VanillaGraph\n",
    "\n",
    "from graph_dynamics.dynamics import MacrostatesHandlers\n",
    "from graph_dynamics.dynamics import Macrostates\n",
    "from graph_dynamics.utils import gd_files_handler\n",
    "from graph_dynamics.embeddings import alignment"
   ]
  },
  {
   "cell_type": "code",
   "execution_count": 3,
   "metadata": {
    "collapsed": true
   },
   "outputs": [],
   "source": [
    "from scipy.linalg import orthogonal_procrustes\n",
    "from scipy.spatial import procrustes"
   ]
  },
  {
   "cell_type": "code",
   "execution_count": 4,
   "metadata": {},
   "outputs": [
    {
     "data": {
      "text/plain": [
       "['degree_distribution',\n",
       " 'basic_stats',\n",
       " 'pagerank',\n",
       " 'new_nodes',\n",
       " 'bigclam',\n",
       " 'node2vec_macrostates']"
      ]
     },
     "execution_count": 4,
     "metadata": {},
     "output_type": "execute_result"
    }
   ],
   "source": [
    "Macrostates.macrostate_function_dictionary.keys()"
   ]
  },
  {
   "cell_type": "code",
   "execution_count": 29,
   "metadata": {
    "collapsed": true
   },
   "outputs": [],
   "source": [
    "initial_graph = nx.barabasi_albert_graph(20,3)\n",
    "number_of_steps = 30\n",
    "\n",
    "BurnExpFireP = False\n",
    "StartNNodes = 1\n",
    "ForwBurnProb = 0.2\n",
    "BackBurnProb = 0.32\n",
    "DecayProb = 1.0\n",
    "Take2AmbasPrb =  0.\n",
    "OrphanPrb =  0.\n",
    "\n",
    "forestFireParameters = (BurnExpFireP,StartNNodes,ForwBurnProb,BackBurnProb,DecayProb,Take2AmbasPrb,OrphanPrb) \n",
    "timeSeriesOfNodes = np.ones(number_of_steps)*10\n",
    "number_of_steps_in_memory = 5\n",
    "\n",
    "nargs = {\"dimensions\":2,\n",
    "         \"directed\":False,\n",
    "         \"p\":0.001,\n",
    "         \"q\":2,\n",
    "         \"num_walks\":10,\n",
    "         \"walk_length\":80,\n",
    "         \"window_size\":10,\n",
    "         \"workers\":8,\n",
    "         \"iter\":1,\n",
    "         \"weighted\":False,\n",
    "         \"undirected\":True}\n",
    "    \n",
    "gd_directory = \"/home/cesar/Desktop/Doctorado/Projects/Networks/Dynamics/Simulations/\"\n",
    "\n",
    "#gd_directory = \"/home/cesar/Desktop/Simulations/\"\n",
    "DYNAMICS_PARAMETERS = {\"number_of_steps\":number_of_steps,\n",
    "                        \"number_of_steps_in_memory\":number_of_steps_in_memory,\n",
    "                        \"simulations_directory\":gd_directory,\n",
    "                        \"dynamics_identifier\":\"ForestFireEmbeddings2\",\n",
    "                        \"macrostates\":[(\"node2vec_macrostates\",(nargs,))],\n",
    "                        \"graph_class\":\"VanillaGraph\",\n",
    "                        \"datetime_timeseries\":False,\n",
    "                        \"initial_date\":1,\n",
    "                        \"verbose\":True}\n",
    "\n",
    "vanilla_graph = VanillaGraph(\"Vanilla\", \n",
    "                             graph_state={\"None\":None}, \n",
    "                             networkx_graph=initial_graph)"
   ]
  },
  {
   "cell_type": "markdown",
   "metadata": {},
   "source": [
    "# Dynamics"
   ]
  },
  {
   "cell_type": "code",
   "execution_count": 30,
   "metadata": {},
   "outputs": [
    {
     "name": "stdout",
     "output_type": "stream",
     "text": [
      "Dynamics Directory Exists\n",
      "#30 STEPS EVOLUTION STARTED FOR ForestFireEmbeddings2\n",
      "#STARTING EVOLUTION AT STEP 9\n",
      "110\n",
      "initital generate paths  110\n",
      "Walk iteration:\n",
      "1 / 10\n",
      "2 / 10\n",
      "3 / 10\n",
      "4 / 10\n",
      "5 / 10\n",
      "6 / 10\n",
      "7 / 10\n",
      "8 / 10\n",
      "9 / 10\n",
      "10 / 10\n",
      "Walk iteration:\n",
      "1 / 10\n",
      "2 / 10\n",
      "3 / 10\n",
      "4 / 10\n",
      "5 / 10\n",
      "6 / 10\n",
      "7 / 10\n",
      "8 / 10\n",
      "9 / 10\n",
      "10 / 10\n",
      "Walk iteration:\n",
      "1 / 10\n",
      "2 / 10\n",
      "3 / 10\n",
      "4 / 10\n",
      "5 / 10\n",
      "6 / 10\n",
      "7 / 10\n",
      "8 / 10\n",
      "9 / 10\n",
      "10 / 10\n",
      "Walk iteration:\n",
      "1 / 10\n",
      "2 / 10\n",
      "3 / 10\n",
      "4 / 10\n",
      "5 / 10\n",
      "6 / 10\n",
      "7 / 10\n",
      "8 / 10\n",
      "9 / 10\n",
      "10 / 10\n",
      "Walk iteration:\n",
      "1 / 10\n",
      "2 / 10\n",
      "3 / 10\n",
      "4 / 10\n",
      "5 / 10\n",
      "6 / 10\n",
      "7 / 10\n",
      "8 / 10\n",
      "9 / 10\n",
      "10 / 10\n",
      "All graph in memory\n",
      "120\n",
      "130\n",
      "140\n",
      "150\n",
      "160\n",
      "last guy\n",
      "160\n",
      "initital generate paths  160\n",
      "Walk iteration:\n",
      "1 / 10\n",
      "2 / 10\n",
      "3 / 10\n",
      "4 / 10\n",
      "5 / 10\n",
      "6 / 10\n",
      "7 / 10\n",
      "8 / 10\n",
      "9 / 10\n",
      "10 / 10\n",
      "Walk iteration:\n",
      "1 / 10\n",
      "2 / 10\n",
      "3 / 10\n",
      "4 / 10\n",
      "5 / 10\n",
      "6 / 10\n",
      "7 / 10\n",
      "8 / 10\n",
      "9 / 10\n",
      "10 / 10\n",
      "Walk iteration:\n",
      "1 / 10\n",
      "2 / 10\n",
      "3 / 10\n",
      "4 / 10\n",
      "5 / 10\n",
      "6 / 10\n",
      "7 / 10\n",
      "8 / 10\n",
      "9 / 10\n",
      "10 / 10\n",
      "Walk iteration:\n",
      "1 / 10\n",
      "2 / 10\n",
      "3 / 10\n",
      "4 / 10\n",
      "5 / 10\n",
      "6 / 10\n",
      "7 / 10\n",
      "8 / 10\n",
      "9 / 10\n",
      "10 / 10\n",
      "Walk iteration:\n",
      "1 / 10\n",
      "2 / 10\n",
      "3 / 10\n",
      "4 / 10\n",
      "5 / 10\n",
      "6 / 10\n",
      "7 / 10\n",
      "8 / 10\n",
      "9 / 10\n",
      "10 / 10\n",
      "All graph in memory\n",
      "170\n",
      "180\n",
      "190\n",
      "200\n",
      "210\n",
      "last guy\n",
      "210\n",
      "initital generate paths  210\n",
      "Walk iteration:\n",
      "1 / 10\n",
      "2 / 10\n",
      "3 / 10\n",
      "4 / 10\n",
      "5 / 10\n",
      "6 / 10\n",
      "7 / 10\n",
      "8 / 10\n",
      "9 / 10\n",
      "10 / 10\n",
      "Walk iteration:\n",
      "1 / 10\n",
      "2 / 10\n",
      "3 / 10\n",
      "4 / 10\n",
      "5 / 10\n",
      "6 / 10\n",
      "7 / 10\n",
      "8 / 10\n",
      "9 / 10\n",
      "10 / 10\n",
      "Walk iteration:\n",
      "1 / 10\n",
      "2 / 10\n",
      "3 / 10\n",
      "4 / 10\n",
      "5 / 10\n",
      "6 / 10\n",
      "7 / 10\n",
      "8 / 10\n",
      "9 / 10\n",
      "10 / 10\n",
      "Walk iteration:\n",
      "1 / 10\n",
      "2 / 10\n",
      "3 / 10\n",
      "4 / 10\n",
      "5 / 10\n",
      "6 / 10\n",
      "7 / 10\n",
      "8 / 10\n",
      "9 / 10\n",
      "10 / 10\n",
      "Walk iteration:\n",
      "1 / 10\n",
      "2 / 10\n",
      "3 / 10\n",
      "4 / 10\n",
      "5 / 10\n",
      "6 / 10\n",
      "7 / 10\n",
      "8 / 10\n",
      "9 / 10\n",
      "10 / 10\n",
      "All graph in memory\n",
      "220\n",
      "230\n",
      "240\n",
      "250\n",
      "260\n",
      "last guy\n",
      "260\n",
      "initital generate paths  260\n",
      "Walk iteration:\n",
      "1 / 10\n",
      "2 / 10\n",
      "3 / 10\n",
      "4 / 10\n",
      "5 / 10\n",
      "6 / 10\n",
      "7 / 10\n",
      "8 / 10\n",
      "9 / 10\n",
      "10 / 10\n",
      "Walk iteration:\n",
      "1 / 10\n",
      "2 / 10\n",
      "3 / 10\n",
      "4 / 10\n",
      "5 / 10\n",
      "6 / 10\n",
      "7 / 10\n",
      "8 / 10\n",
      "9 / 10\n",
      "10 / 10\n",
      "Walk iteration:\n",
      "1 / 10\n",
      "2 / 10\n",
      "3 / 10\n",
      "4 / 10\n",
      "5 / 10\n",
      "6 / 10\n",
      "7 / 10\n",
      "8 / 10\n",
      "9 / 10\n",
      "10 / 10\n",
      "Walk iteration:\n",
      "1 / 10\n",
      "2 / 10\n",
      "3 / 10\n",
      "4 / 10\n",
      "5 / 10\n",
      "6 / 10\n",
      "7 / 10\n",
      "8 / 10\n",
      "9 / 10\n",
      "10 / 10\n",
      "Walk iteration:\n",
      "1 / 10\n",
      "2 / 10\n",
      "3 / 10\n",
      "4 / 10\n",
      "5 / 10\n",
      "6 / 10\n",
      "7 / 10\n",
      "8 / 10\n",
      "9 / 10\n",
      "10 / 10\n",
      "All graph in memory\n",
      "270\n",
      "280\n",
      "290\n",
      "300\n",
      "310\n",
      "last guy\n",
      "310\n",
      "initital generate paths  310\n",
      "Walk iteration:\n",
      "1 / 10\n",
      "2 / 10\n",
      "3 / 10\n",
      "4 / 10\n",
      "5 / 10\n",
      "6 / 10\n",
      "7 / 10\n",
      "8 / 10\n",
      "9 / 10\n",
      "10 / 10\n",
      "All graph in memory\n",
      "320\n",
      "last guy\n",
      "320\n"
     ]
    }
   ],
   "source": [
    "\n",
    "ForestFireDynamics = GenerativeDynamics.ForestFire(vanilla_graph, \n",
    "                                                   forestFireParameters,\n",
    "                                                   timeSeriesOfNodes,\n",
    "                                                   DYNAMICS_PARAMETERS)        \n",
    "ForestFireDynamics.evolve(30, vanilla_graph)\n",
    "graph_paths = ForestFireDynamics.get_graph_path_window(0, 20)\n"
   ]
  },
  {
   "cell_type": "code",
   "execution_count": 62,
   "metadata": {
    "scrolled": true
   },
   "outputs": [
    {
     "name": "stdout",
     "output_type": "stream",
     "text": [
      "Dynamics CommunityForestFire\n",
      "{u'DynamicsClassParameters': {u'CommunitiesForestFire': {u'0': {u'BackBurnProb': 0.32,\n",
      "                                                                u'BurnExpFireP': False,\n",
      "                                                                u'DecayProb': 1.0,\n",
      "                                                                u'ForwBurnProb': 0.2,\n",
      "                                                                u'OrphanPrb': 0.0,\n",
      "                                                                u'StartNNodes': 1,\n",
      "                                                                u'Take2AmbasPrb': 0.0},\n",
      "                                                         u'1': {u'BackBurnProb': 0.32,\n",
      "                                                                u'BurnExpFireP': False,\n",
      "                                                                u'DecayProb': 1.0,\n",
      "                                                                u'ForwBurnProb': 0.2,\n",
      "                                                                u'OrphanPrb': 0.0,\n",
      "                                                                u'StartNNodes': 1,\n",
      "                                                                u'Take2AmbasPrb': 0.0},\n",
      "                                                         u'2': {u'BackBurnProb': 0.32,\n",
      "                                                                u'BurnExpFireP': False,\n",
      "                                                                u'DecayProb': 1.0,\n",
      "                                                                u'ForwBurnProb': 0.2,\n",
      "                                                                u'OrphanPrb': 0.0,\n",
      "                                                                u'StartNNodes': 1,\n",
      "                                                                u'Take2AmbasPrb': 0.0},\n",
      "                                                         u'3': {u'BackBurnProb': 0.52,\n",
      "                                                                u'BurnExpFireP': False,\n",
      "                                                                u'DecayProb': 1.0,\n",
      "                                                                u'ForwBurnProb': 0.5,\n",
      "                                                                u'OrphanPrb': 0.0,\n",
      "                                                                u'StartNNodes': 1,\n",
      "                                                                u'Take2AmbasPrb': 0.0}},\n",
      "                              u'TimeSeriesOfComunities': [0, 1, 2, 3]},\n",
      " u'datetime_timeseries': False,\n",
      " u'dynamics_identifier': u'CommunityForestFire',\n",
      " u'graph_class': u'CommunityGraph',\n",
      " u'initial_date': 1,\n",
      " u'macrostates': [[u'basic_stats', []]],\n",
      " u'number_of_steps': 100,\n",
      " u'number_of_steps_in_memory': 1,\n",
      " u'simulations_directory': u'/home/cesar/Desktop/Doctorado/Projects/Networks/Dynamics/Simulations/',\n",
      " u'verbose': True}\n",
      "Number of state files 50\n",
      "Number of Graphs 50\n",
      "Macros Files\n",
      "{'CommunityForestFire-macros': {'macros': {u'basic_stats': <type 'dict'>},\n",
      "                                'max_index': 49,\n",
      "                                'min_index': 0,\n",
      "                                'size': 50},\n",
      " 'new': {'macros': {u'new_nodes': <type 'dict'>},\n",
      "         'max_index': 49,\n",
      "         'min_index': 1,\n",
      "         'size': 98},\n",
      " 'newnodes': {'macros': {u'new_nodes': <type 'dict'>},\n",
      "              'max_index': 49,\n",
      "              'min_index': 1,\n",
      "              'size': 49},\n",
      " 'node2vec': {'macros': {u'node2vec_macrostates': <type 'dict'>},\n",
      "              'max_index': 49,\n",
      "              'min_index': 0,\n",
      "              'size': 50}}\n"
     ]
    }
   ],
   "source": [
    "gd_directory = \"/home/cesar/Desktop/Doctorado/Projects/Networks/Dynamics/Simulations/CommunityForestFire_gd/\"\n",
    "ALL_TIME_INDEXES,DYNAMICS_PARAMETERS,macroNumbers = gd_files_handler.gd_folder_stats(gd_directory,True)"
   ]
  },
  {
   "cell_type": "code",
   "execution_count": 61,
   "metadata": {
    "scrolled": true
   },
   "outputs": [
    {
     "name": "stdout",
     "output_type": "stream",
     "text": [
      "Evaluating Time 1 for newnodes\n",
      "Evaluating Time 2 for newnodes\n",
      "Evaluating Time 3 for newnodes\n",
      "Evaluating Time 4 for newnodes\n",
      "Evaluating Time 5 for newnodes\n",
      "Evaluating Time 6 for newnodes\n",
      "Evaluating Time 7 for newnodes\n",
      "Evaluating Time 8 for newnodes\n",
      "Evaluating Time 9 for newnodes\n",
      "Evaluating Time 10 for newnodes\n",
      "Evaluating Time 11 for newnodes\n",
      "Evaluating Time 12 for newnodes\n",
      "Evaluating Time 13 for newnodes\n",
      "Evaluating Time 14 for newnodes\n",
      "Evaluating Time 15 for newnodes\n",
      "Evaluating Time 16 for newnodes\n",
      "Evaluating Time 17 for newnodes\n",
      "Evaluating Time 18 for newnodes\n",
      "Evaluating Time 19 for newnodes\n",
      "Evaluating Time 20 for newnodes\n",
      "Evaluating Time 21 for newnodes\n",
      "Evaluating Time 22 for newnodes\n",
      "Evaluating Time 23 for newnodes\n",
      "Evaluating Time 24 for newnodes\n",
      "Evaluating Time 25 for newnodes\n",
      "Evaluating Time 26 for newnodes\n",
      "Evaluating Time 27 for newnodes\n",
      "Evaluating Time 28 for newnodes\n",
      "Evaluating Time 29 for newnodes\n",
      "Evaluating Time 30 for newnodes\n",
      "Evaluating Time 31 for newnodes\n",
      "Evaluating Time 32 for newnodes\n",
      "Evaluating Time 33 for newnodes\n",
      "Evaluating Time 34 for newnodes\n",
      "Evaluating Time 35 for newnodes\n",
      "Evaluating Time 36 for newnodes\n",
      "Evaluating Time 37 for newnodes\n",
      "Evaluating Time 38 for newnodes\n",
      "Evaluating Time 39 for newnodes\n",
      "Evaluating Time 40 for newnodes\n",
      "Evaluating Time 41 for newnodes\n",
      "Evaluating Time 42 for newnodes\n",
      "Evaluating Time 43 for newnodes\n",
      "Evaluating Time 44 for newnodes\n",
      "Evaluating Time 45 for newnodes\n",
      "Evaluating Time 46 for newnodes\n",
      "Evaluating Time 47 for newnodes\n",
      "Evaluating Time 48 for newnodes\n"
     ]
    }
   ],
   "source": [
    "\n",
    "nargs = {\"dimensions\":2,\n",
    "         \"directed\":False,\n",
    "         \"p\":0.001,\n",
    "         \"q\":2,\n",
    "         \"num_walks\":10,\n",
    "         \"walk_length\":80,\n",
    "         \"window_size\":10,\n",
    "         \"workers\":8,\n",
    "         \"iter\":1,\n",
    "         \"weighted\":False,\n",
    "         \"undirected\":True}\n",
    "    \n",
    "macrostates_run_ideintifier = \"node2vec\" \n",
    "macrostates_names  = [(\"node2vec_macrostates\",(nargs,))]\n",
    "window = 1\n",
    "rolling = True\n",
    "Macrostates.evaluate_vanilla_macrostates_window(gd_directory,\n",
    "                                                [(\"new_nodes\",())], \n",
    "                                                \"newnodes\", \n",
    "                                                window, \n",
    "                                                rolling)\n",
    "                                                \n",
    "#Macrostates.evaluate_vanilla_macrostates(gd_directory, \n",
    "#                                         macrostates_names, \n",
    "#                                         macrostates_run_ideintifier)"
   ]
  },
  {
   "cell_type": "markdown",
   "metadata": {},
   "source": [
    "# Initial and New Nodes Ordering"
   ]
  },
  {
   "cell_type": "code",
   "execution_count": 63,
   "metadata": {
    "collapsed": true
   },
   "outputs": [],
   "source": [
    "macro_state_identifier = 'node2vec_macrostates'\n",
    "macrostate_file_indentifier = 'node2vec'\n",
    "\n",
    "time_index = 0\n",
    "initial_embeddings = MacrostatesHandlers.time_index_macro(gd_directory,\n",
    "                                                          macro_state_identifier,\n",
    "                                                          macrostate_file_indentifier,\n",
    "                                                          time_index)\n",
    "initial_nodes = initial_embeddings.keys()\n",
    "initial_nodes.sort()"
   ]
  },
  {
   "cell_type": "code",
   "execution_count": 6,
   "metadata": {
    "scrolled": true
   },
   "outputs": [
    {
     "ename": "NameError",
     "evalue": "name 'gd_directory' is not defined",
     "output_type": "error",
     "traceback": [
      "\u001b[0;31m---------------------------------------------------------------------------\u001b[0m",
      "\u001b[0;31mNameError\u001b[0m                                 Traceback (most recent call last)",
      "\u001b[0;32m<ipython-input-6-d15033b0a1f7>\u001b[0m in \u001b[0;36m<module>\u001b[0;34m()\u001b[0m\n\u001b[0;32m----> 1\u001b[0;31m \u001b[0mnew_nodes_per_time\u001b[0m \u001b[0;34m=\u001b[0m \u001b[0malignment\u001b[0m\u001b[0;34m.\u001b[0m\u001b[0mall_new_nodes_per_time\u001b[0m\u001b[0;34m(\u001b[0m\u001b[0mgd_directory\u001b[0m\u001b[0;34m,\u001b[0m\u001b[0minitial_nodes\u001b[0m\u001b[0;34m,\u001b[0m\u001b[0mlatest_index\u001b[0m\u001b[0;34m=\u001b[0m\u001b[0;36m50\u001b[0m\u001b[0;34m)\u001b[0m\u001b[0;34m\u001b[0m\u001b[0m\n\u001b[0m",
      "\u001b[0;31mNameError\u001b[0m: name 'gd_directory' is not defined"
     ]
    }
   ],
   "source": [
    "new_nodes_per_time = alignment.all_new_nodes_per_time(gd_directory,initial_nodes,latest_index=50)"
   ]
  },
  {
   "cell_type": "markdown",
   "metadata": {},
   "source": [
    "# ALIGNMENT "
   ]
  },
  {
   "cell_type": "code",
   "execution_count": 5,
   "metadata": {},
   "outputs": [
    {
     "ename": "NameError",
     "evalue": "name 'new_nodes_per_time' is not defined",
     "output_type": "error",
     "traceback": [
      "\u001b[0;31m---------------------------------------------------------------------------\u001b[0m",
      "\u001b[0;31mNameError\u001b[0m                                 Traceback (most recent call last)",
      "\u001b[0;32m<ipython-input-5-2fcd5c51abc6>\u001b[0m in \u001b[0;36m<module>\u001b[0;34m()\u001b[0m\n\u001b[0;32m----> 1\u001b[0;31m w_base, w_other = alignment.embedings_in_order(new_nodes_per_time,\n\u001b[0m\u001b[1;32m      2\u001b[0m                                      \u001b[0;36m0\u001b[0m\u001b[0;34m,\u001b[0m\u001b[0;34m\u001b[0m\u001b[0m\n\u001b[1;32m      3\u001b[0m                                      \u001b[0;36m49\u001b[0m\u001b[0;34m,\u001b[0m\u001b[0;34m\u001b[0m\u001b[0m\n\u001b[1;32m      4\u001b[0m                                      \u001b[0mgd_directory\u001b[0m\u001b[0;34m,\u001b[0m\u001b[0;34m\u001b[0m\u001b[0m\n\u001b[1;32m      5\u001b[0m                                      macrostate_file_indentifier)\n",
      "\u001b[0;31mNameError\u001b[0m: name 'new_nodes_per_time' is not defined"
     ]
    }
   ],
   "source": [
    "w_base, w_other = alignment.embedings_in_order(new_nodes_per_time,\n",
    "                                     0,\n",
    "                                     49,\n",
    "                                     gd_directory,\n",
    "                                     macrostate_file_indentifier)\n",
    "\n",
    "w_base, w_other_2 = alignment.embedings_in_order(new_nodes_per_time,\n",
    "                                     0,\n",
    "                                     5,\n",
    "                                     gd_directory,\n",
    "                                     macrostate_file_indentifier)"
   ]
  },
  {
   "cell_type": "code",
   "execution_count": 95,
   "metadata": {
    "collapsed": true
   },
   "outputs": [],
   "source": [
    "base_embed, w_other = alignment.procrustes_align(w_base,w_other)\n",
    "base_embed, w_other_2 = alignment.procrustes_align(w_base,w_other_2)"
   ]
  },
  {
   "cell_type": "code",
   "execution_count": null,
   "metadata": {
    "collapsed": true
   },
   "outputs": [],
   "source": []
  },
  {
   "cell_type": "code",
   "execution_count": 97,
   "metadata": {},
   "outputs": [
    {
     "data": {
      "image/png": "[encoded data removed]",
      "text/plain": [
       "<matplotlib.figure.Figure at 0x7ff6f5999a90>"
      ]
     },
     "metadata": {},
     "output_type": "display_data"
    }
   ],
   "source": [
    "plt.scatter(w_other[:,0], w_other[:,1],label=\"{0}\".format(\"other\"))\n",
    "#plt.scatter(w_other_2[:,0], w_other_2[:,1],label=\"{0}\".format(\"other 2\"))\n",
    "#plt.scatter(base_embed[:,0], base_embed[:,1],label=\"{0}\".format(\"base\"))\n",
    "plt.legend(loc=\"best\")\n",
    "plt.show()"
   ]
  },
  {
   "cell_type": "code",
   "execution_count": 31,
   "metadata": {
    "collapsed": true
   },
   "outputs": [],
   "source": [
    "W = []\n",
    "for time_index in range(1,10):\n",
    "    node_embeddings = MacrostatesHandlers.time_index_macro(gd_directory,\n",
    "                                                           macro_state_identifier,\n",
    "                                                           macrostate_file_indentifier,\n",
    "                                                           time_index)\n",
    "    wt = []\n",
    "    for node in initial_nodes:\n",
    "        wt.append(np.array(node_embeddings[node]))\n",
    "    wt = np.array(wt)\n",
    "    W.append(wt)"
   ]
  },
  {
   "cell_type": "code",
   "execution_count": 45,
   "metadata": {
    "collapsed": true
   },
   "outputs": [],
   "source": [
    "Align_W = []\n",
    "for w in W:\n",
    "    Align_W.append(alignment.procrustes_align(w0,w)[1])"
   ]
  },
  {
   "cell_type": "code",
   "execution_count": 46,
   "metadata": {},
   "outputs": [
    {
     "data": {
      "text/plain": [
       "<matplotlib.legend.Legend at 0x7f0fb9d8ef50>"
      ]
     },
     "execution_count": 46,
     "metadata": {},
     "output_type": "execute_result"
    }
   ],
   "source": [
    "for t,w in enumerate(Align_W):\n",
    "    plt.scatter(w[:,0], w[:,1],label=\"{0}\".format(t))\n",
    "plt.legend(loc=\"best\")"
   ]
  },
  {
   "cell_type": "code",
   "execution_count": 47,
   "metadata": {},
   "outputs": [
    {
     "data": {
      "image/png": "[encoded data removed]",
      "text/plain": [
       "<matplotlib.figure.Figure at 0x7f0fb9ca3710>"
      ]
     },
     "metadata": {},
     "output_type": "display_data"
    }
   ],
   "source": [
    "plt.show()"
   ]
  },
  {
   "cell_type": "code",
   "execution_count": null,
   "metadata": {
    "collapsed": true
   },
   "outputs": [],
   "source": []
  }
 ],
 "metadata": {
  "kernelspec": {
   "display_name": "graphs",
   "language": "python",
   "name": "graphs"
  },
  "language_info": {
   "codemirror_mode": {
    "name": "ipython",
    "version": 2
   },
   "file_extension": ".py",
   "mimetype": "text/x-python",
   "name": "python",
   "nbconvert_exporter": "python",
   "pygments_lexer": "ipython2",
   "version": "2.7.6"
  }
 },
 "nbformat": 4,
 "nbformat_minor": 1
}
