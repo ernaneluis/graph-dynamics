{
 "cells": [
  {
   "cell_type": "code",
   "execution_count": 1,
   "metadata": {
    "collapsed": true
   },
   "outputs": [],
   "source": [
    "import os\n",
    "import sys\n",
    "import cPickle\n",
    "import datetime\n",
    "import matplotlib\n",
    "import numpy as np\n",
    "import pandas as pd\n",
    "import networkx as nx\n",
    "\n",
    "from scipy.stats import binom\n",
    "from matplotlib import pyplot as plt\n",
    "\n",
    "matplotlib.rcParams['ps.useafm'] = True\n",
    "matplotlib.rcParams['pdf.use14corefonts'] = True\n",
    "matplotlib.rcParams['text.usetex'] = True \n",
    "\n",
    "\n",
    "sys.path.append(\"../../../\")\n",
    "%matplotlib inline"
   ]
  },
  {
   "cell_type": "code",
   "execution_count": 2,
   "metadata": {
    "collapsed": false
   },
   "outputs": [],
   "source": [
    "from graph_dynamics.networks.datatypes import CryptocurrencyGraphs\n",
    "from graph_dynamics.dynamics import FromFilesDynamics"
   ]
  },
  {
   "cell_type": "code",
   "execution_count": 3,
   "metadata": {
    "collapsed": true
   },
   "outputs": [],
   "source": [
    "cryptocurrency_networks = \"/home/cesar/Desktop/Doctorado/Projects/Networks/Cryptocurrencies/Results/cryptocurrencies_graphdynamics/\""
   ]
  },
  {
   "cell_type": "code",
   "execution_count": 4,
   "metadata": {
    "collapsed": false,
    "scrolled": true
   },
   "outputs": [],
   "source": [
    "identifier_string = \"Crash Detections (Data up to 24/06/17)\"\n",
    "graph_files_folder = \"/home/cesar/Desktop/Doctorado/Projects/Networks/Cryptocurrencies/Results/cryptocurrencies_graphdynamics/\"\n",
    "data_file_string = 'cryptocurrencies_graphdynamics_snapshot_{0}_data.cpickle3'\n",
    "graph_file_string = 'cryptocurrencies_graphdynamics_snapshot_{0}_graph.txt'\n",
    "time_index = 20"
   ]
  },
  {
   "cell_type": "code",
   "execution_count": 5,
   "metadata": {
    "collapsed": false
   },
   "outputs": [
    {
     "data": {
      "text/plain": [
       "['cryptocurrencies', 'graphdynamics', 'snapshot', '{0}', 'graph.txt']"
      ]
     },
     "execution_count": 5,
     "metadata": {},
     "output_type": "execute_result"
    }
   ],
   "source": [
    "graph_file_string.split(\"_\")"
   ]
  },
  {
   "cell_type": "code",
   "execution_count": 6,
   "metadata": {
    "collapsed": false,
    "scrolled": true
   },
   "outputs": [],
   "source": [
    "CryptocurrencyEcosystem = CryptocurrencyGraphs(identifier_string,\n",
    "                                               graph_files_folder,\n",
    "                                               graph_file_string,\n",
    "                                               data_file_string,\n",
    "                                               23)"
   ]
  },
  {
   "cell_type": "code",
   "execution_count": 7,
   "metadata": {
    "collapsed": false
   },
   "outputs": [],
   "source": [
    "EcosystemDynamics = FromFilesDynamics.CryptoCurrencyEcosystemDynamics(identifier_string,\n",
    "                                                                      graph_files_folder,\n",
    "                                                                      graph_file_string,\n",
    "                                                                      data_file_string)"
   ]
  },
  {
   "cell_type": "code",
   "execution_count": 10,
   "metadata": {
    "collapsed": false
   },
   "outputs": [],
   "source": [
    "crash_dict = CryptocurrencyEcosystem.ecosystem_crash()"
   ]
  },
  {
   "cell_type": "code",
   "execution_count": 11,
   "metadata": {
    "collapsed": false,
    "scrolled": true
   },
   "outputs": [],
   "source": [
    "arrivals = crash_dict.values()"
   ]
  },
  {
   "cell_type": "code",
   "execution_count": 14,
   "metadata": {
    "collapsed": false
   },
   "outputs": [],
   "source": [
    "from ppp.splines import InoueBspline\n",
    "from ppp.interpolation import PoissonProcess"
   ]
  },
  {
   "cell_type": "code",
   "execution_count": 21,
   "metadata": {
    "collapsed": false
   },
   "outputs": [],
   "source": [
    "time_delta = datetime.datetime(2017, 6, 1) - np.asarray(arrivals)"
   ]
  },
  {
   "cell_type": "code",
   "execution_count": 24,
   "metadata": {
    "collapsed": true
   },
   "outputs": [],
   "source": [
    "date0 = min(arrivals)\n",
    "arrivals_points = [(a-date0).total_seconds()/(24.*3600) for a in arrivals]"
   ]
  },
  {
   "cell_type": "code",
   "execution_count": 29,
   "metadata": {
    "collapsed": false
   },
   "outputs": [],
   "source": [
    "splines = InoueBspline(M = 20, X=np.asarray(arrivals_points))\n",
    "model = PoissonProcess(splines)"
   ]
  },
  {
   "cell_type": "code",
   "execution_count": 30,
   "metadata": {
    "collapsed": false
   },
   "outputs": [],
   "source": [
    "model.fit()"
   ]
  },
  {
   "cell_type": "code",
   "execution_count": 31,
   "metadata": {
    "collapsed": false
   },
   "outputs": [
    {
     "data": {
      "image/png": "[encoded data removed]",
      "text/plain": [
       "<matplotlib.figure.Figure at 0x7f4461a32610>"
      ]
     },
     "metadata": {},
     "output_type": "display_data"
    }
   ],
   "source": [
    "model.plot()"
   ]
  },
  {
   "cell_type": "code",
   "execution_count": null,
   "metadata": {
    "collapsed": true
   },
   "outputs": [],
   "source": []
  }
 ],
 "metadata": {
  "kernelspec": {
   "display_name": "Anaconda",
   "language": "python",
   "name": "anaconda"
  },
  "language_info": {
   "codemirror_mode": {
    "name": "ipython",
    "version": 2
   },
   "file_extension": ".py",
   "mimetype": "text/x-python",
   "name": "python",
   "nbconvert_exporter": "python",
   "pygments_lexer": "ipython2",
   "version": "2.7.12"
  }
 },
 "nbformat": 4,
 "nbformat_minor": 0
}
