{
 "cells": [
  {
   "cell_type": "code",
   "execution_count": 10,
   "metadata": {
    "collapsed": true
   },
   "outputs": [],
   "source": [
    "import os\n",
    "import sys\n",
    "import numpy as np\n",
    "import networkx as nx\n",
    "from scipy.stats import gamma\n",
    "from matplotlib import pyplot as plt"
   ]
  },
  {
   "cell_type": "code",
   "execution_count": 15,
   "metadata": {
    "collapsed": true
   },
   "outputs": [],
   "source": [
    "gd_folder = \"/home/cesar/Desktop/Doctorado/Projects/Networks/Dynamics/Simulations/\"\n",
    "identifier_string = \"palla_dynamics_test\"\n",
    "foldername = gd_folder + identifier_string + \"_gd/\""
   ]
  },
  {
   "cell_type": "code",
   "execution_count": 17,
   "metadata": {
    "collapsed": false
   },
   "outputs": [
    {
     "data": {
      "text/plain": [
       "['dynamics', 'identifier', 'gGD', '1000', '.gd']"
      ]
     },
     "execution_count": 17,
     "metadata": {},
     "output_type": "execute_result"
    }
   ],
   "source": [
    "\"dynamics_identifier_gGD_1000_.gd\".split(\"_\")"
   ]
  },
  {
   "cell_type": "code",
   "execution_count": 38,
   "metadata": {
    "collapsed": false
   },
   "outputs": [
    {
     "name": "stdout",
     "output_type": "stream",
     "text": [
      "\n"
     ]
    },
    {
     "data": {
      "text/plain": [
       "array([20, 20, 20, 20, 20, 20,  3])"
      ]
     },
     "execution_count": 38,
     "metadata": {},
     "output_type": "execute_result"
    }
   ],
   "source": [
    "N = 123\n",
    "steps_in_memory = 20\n",
    "\n",
    "A = np.concatenate([np.repeat(steps_in_memory,N / steps_in_memory),np.array([N % steps_in_memory])])\n",
    "\n",
    "print \n",
    "\n",
    "edge_list = [(2,3),(5,7)]\n",
    "A "
   ]
  },
  {
   "cell_type": "code",
   "execution_count": 28,
   "metadata": {
    "collapsed": false
   },
   "outputs": [
    {
     "data": {
      "text/plain": [
       "'(2, 3)'"
      ]
     },
     "execution_count": 28,
     "metadata": {},
     "output_type": "execute_result"
    }
   ],
   "source": [
    "str(edge_list[0])"
   ]
  },
  {
   "cell_type": "code",
   "execution_count": 31,
   "metadata": {
    "collapsed": false
   },
   "outputs": [
    {
     "data": {
      "text/plain": [
       "'2 3\\n5 7'"
      ]
     },
     "execution_count": 31,
     "metadata": {},
     "output_type": "execute_result"
    }
   ],
   "source": [
    "\"\\n\".join([\"{0} {1}\".format(a[0],a[1]) for a in edge_list])"
   ]
  },
  {
   "cell_type": "code",
   "execution_count": 16,
   "metadata": {
    "collapsed": true
   },
   "outputs": [],
   "source": [
    "if not os.path.exists(foldername):\n",
    "    os.makedirs(foldername)"
   ]
  },
  {
   "cell_type": "markdown",
   "metadata": {},
   "source": [
    "# Some Basics Graphs Stuff"
   ]
  },
  {
   "cell_type": "code",
   "execution_count": 39,
   "metadata": {
    "collapsed": true
   },
   "outputs": [],
   "source": [
    "graph = nx.Graph()"
   ]
  },
  {
   "cell_type": "code",
   "execution_count": 40,
   "metadata": {
    "collapsed": true
   },
   "outputs": [],
   "source": [
    "graph.add_edge(1,2,weight=2)\n",
    "w = graph.edge[1][2][\"weight\"]\n",
    "graph.add_edge(1,2,weight=w+1)"
   ]
  },
  {
   "cell_type": "code",
   "execution_count": 46,
   "metadata": {
    "collapsed": true
   },
   "outputs": [],
   "source": [
    "mydir = \"/home/cesar/Desktop/Doctorado/Projects/Networks/Dynamics/Simulations/palla_dynamics_test_gd/\""
   ]
  },
  {
   "cell_type": "code",
   "execution_count": 48,
   "metadata": {
    "collapsed": false
   },
   "outputs": [],
   "source": [
    "nx.write_edgelist(graph,mydir+\"test.gd\")"
   ]
  },
  {
   "cell_type": "code",
   "execution_count": 18,
   "metadata": {
    "collapsed": false
   },
   "outputs": [
    {
     "data": {
      "text/plain": [
       "0.2501848628887975"
      ]
     },
     "execution_count": 18,
     "metadata": {},
     "output_type": "execute_result"
    }
   ],
   "source": [
    "gamma.rvs(1.,0.2)"
   ]
  },
  {
   "cell_type": "code",
   "execution_count": 6,
   "metadata": {
    "collapsed": false
   },
   "outputs": [
    {
     "data": {
      "text/plain": [
       "True"
      ]
     },
     "execution_count": 6,
     "metadata": {},
     "output_type": "execute_result"
    }
   ],
   "source": [
    "A = {1:3}\n",
    "1 in A"
   ]
  },
  {
   "cell_type": "code",
   "execution_count": 7,
   "metadata": {
    "collapsed": false
   },
   "outputs": [
    {
     "data": {
      "text/plain": [
       "[1]"
      ]
     },
     "execution_count": 7,
     "metadata": {},
     "output_type": "execute_result"
    }
   ],
   "source": [
    "A.keys()"
   ]
  },
  {
   "cell_type": "code",
   "execution_count": 16,
   "metadata": {
    "collapsed": false
   },
   "outputs": [
    {
     "data": {
      "text/plain": [
       "{1: {2: {'weight': 3}}, 2: {1: {'weight': 3}}}"
      ]
     },
     "execution_count": 16,
     "metadata": {},
     "output_type": "execute_result"
    }
   ],
   "source": [
    "graph.edge"
   ]
  },
  {
   "cell_type": "code",
   "execution_count": 9,
   "metadata": {
    "collapsed": false
   },
   "outputs": [],
   "source": [
    "A = np.ones((5,5))*0.2"
   ]
  },
  {
   "cell_type": "code",
   "execution_count": 10,
   "metadata": {
    "collapsed": true
   },
   "outputs": [],
   "source": [
    "from scipy.stats import bernoulli"
   ]
  },
  {
   "cell_type": "code",
   "execution_count": 15,
   "metadata": {
    "collapsed": false
   },
   "outputs": [],
   "source": [
    "B = bernoulli.rvs(A)"
   ]
  },
  {
   "cell_type": "code",
   "execution_count": 12,
   "metadata": {
    "collapsed": false
   },
   "outputs": [
    {
     "data": {
      "text/plain": [
       "array([ 0.2,  0.2,  0.2,  0.2,  0.2])"
      ]
     },
     "execution_count": 12,
     "metadata": {},
     "output_type": "execute_result"
    }
   ],
   "source": [
    "A.diagonal()"
   ]
  },
  {
   "cell_type": "code",
   "execution_count": 16,
   "metadata": {
    "collapsed": true
   },
   "outputs": [],
   "source": [
    "A = B.diagonal()"
   ]
  },
  {
   "cell_type": "code",
   "execution_count": 23,
   "metadata": {
    "collapsed": false
   },
   "outputs": [],
   "source": [
    "A[np.diag_indices(A.shape[0])] = B.diagonal()"
   ]
  },
  {
   "cell_type": "code",
   "execution_count": 25,
   "metadata": {
    "collapsed": false
   },
   "outputs": [
    {
     "data": {
      "text/plain": [
       "array([[ 0. ,  0.2,  0.2,  0.2,  0.2],\n",
       "       [ 0.2,  0. ,  0.2,  0.2,  0.2],\n",
       "       [ 0.2,  0.2,  0. ,  0.2,  0.2],\n",
       "       [ 0.2,  0.2,  0.2,  0. ,  0.2],\n",
       "       [ 0.2,  0.2,  0.2,  0.2,  1. ]])"
      ]
     },
     "execution_count": 25,
     "metadata": {},
     "output_type": "execute_result"
    }
   ],
   "source": [
    "A"
   ]
  },
  {
   "cell_type": "code",
   "execution_count": 2,
   "metadata": {
    "collapsed": true
   },
   "outputs": [],
   "source": [
    "bara = nx.barabasi_albert_graph(100,4)"
   ]
  },
  {
   "cell_type": "code",
   "execution_count": 32,
   "metadata": {
    "collapsed": false,
    "scrolled": true
   },
   "outputs": [
    {
     "data": {
      "text/plain": [
       "{0: 11,\n",
       " 1: 23,\n",
       " 2: 16,\n",
       " 3: 11,\n",
       " 4: 37,\n",
       " 5: 20,\n",
       " 6: 32,\n",
       " 7: 16,\n",
       " 8: 15,\n",
       " 9: 18,\n",
       " 10: 15,\n",
       " 11: 21,\n",
       " 12: 22,\n",
       " 13: 19,\n",
       " 14: 6,\n",
       " 15: 9,\n",
       " 16: 7,\n",
       " 17: 11,\n",
       " 18: 10,\n",
       " 19: 8,\n",
       " 20: 13,\n",
       " 21: 9,\n",
       " 22: 14,\n",
       " 23: 9,\n",
       " 24: 5,\n",
       " 25: 9,\n",
       " 26: 7,\n",
       " 27: 5,\n",
       " 28: 5,\n",
       " 29: 5,\n",
       " 30: 7,\n",
       " 31: 10,\n",
       " 32: 4,\n",
       " 33: 5,\n",
       " 34: 9,\n",
       " 35: 10,\n",
       " 36: 6,\n",
       " 37: 9,\n",
       " 38: 8,\n",
       " 39: 6,\n",
       " 40: 11,\n",
       " 41: 8,\n",
       " 42: 5,\n",
       " 43: 4,\n",
       " 44: 5,\n",
       " 45: 5,\n",
       " 46: 4,\n",
       " 47: 5,\n",
       " 48: 5,\n",
       " 49: 5,\n",
       " 50: 7,\n",
       " 51: 6,\n",
       " 52: 5,\n",
       " 53: 5,\n",
       " 54: 4,\n",
       " 55: 4,\n",
       " 56: 5,\n",
       " 57: 5,\n",
       " 58: 5,\n",
       " 59: 4,\n",
       " 60: 4,\n",
       " 61: 4,\n",
       " 62: 5,\n",
       " 63: 7,\n",
       " 64: 4,\n",
       " 65: 5,\n",
       " 66: 4,\n",
       " 67: 7,\n",
       " 68: 4,\n",
       " 69: 5,\n",
       " 70: 6,\n",
       " 71: 6,\n",
       " 72: 5,\n",
       " 73: 5,\n",
       " 74: 6,\n",
       " 75: 4,\n",
       " 76: 4,\n",
       " 77: 5,\n",
       " 78: 4,\n",
       " 79: 4,\n",
       " 80: 5,\n",
       " 81: 4,\n",
       " 82: 4,\n",
       " 83: 4,\n",
       " 84: 4,\n",
       " 85: 4,\n",
       " 86: 4,\n",
       " 87: 4,\n",
       " 88: 4,\n",
       " 89: 4,\n",
       " 90: 4,\n",
       " 91: 4,\n",
       " 92: 4,\n",
       " 93: 4,\n",
       " 94: 4,\n",
       " 95: 4,\n",
       " 96: 4,\n",
       " 97: 4,\n",
       " 98: 4,\n",
       " 99: 4}"
      ]
     },
     "execution_count": 32,
     "metadata": {},
     "output_type": "execute_result"
    }
   ],
   "source": [
    "bara.degree()"
   ]
  },
  {
   "cell_type": "code",
   "execution_count": null,
   "metadata": {
    "collapsed": true
   },
   "outputs": [],
   "source": []
  }
 ],
 "metadata": {
  "kernelspec": {
   "display_name": "Python 2",
   "language": "python",
   "name": "python2"
  },
  "language_info": {
   "codemirror_mode": {
    "name": "ipython",
    "version": 2
   },
   "file_extension": ".py",
   "mimetype": "text/x-python",
   "name": "python",
   "nbconvert_exporter": "python",
   "pygments_lexer": "ipython2",
   "version": "2.7.6"
  }
 },
 "nbformat": 4,
 "nbformat_minor": 0
}
