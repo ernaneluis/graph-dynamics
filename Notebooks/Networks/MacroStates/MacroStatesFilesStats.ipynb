{
 "cells": [
  {
   "cell_type": "code",
   "execution_count": 1,
   "metadata": {
    "collapsed": false
   },
   "outputs": [],
   "source": [
    "import os\n",
    "import sys\n",
    "import graph_dynamics as gd"
   ]
  },
  {
   "cell_type": "code",
   "execution_count": 2,
   "metadata": {
    "collapsed": true
   },
   "outputs": [],
   "source": [
    "gd_directory = \"/home/cesar/Desktop/Doctorado/Projects/Networks/Dynamics/Simulations/palladynamic-embeddings_gd/\"\n",
    "#gd_directory = \"/home/cesar/Desktop/Doctorado/Projects/Networks/Dynamics/Simulations/Empy-States_gd/\""
   ]
  },
  {
   "cell_type": "code",
   "execution_count": 3,
   "metadata": {
    "collapsed": false,
    "scrolled": false
   },
   "outputs": [
    {
     "name": "stdout",
     "output_type": "stream",
     "text": [
      "Dynamics palladynamic-embeddings\n",
      "Number of state files 100\n",
      "Number of Graphs 100\n",
      "Macros  {'palladynamic-embeddings-macros': {'macros': {u'basic_stats': <type 'dict'>, u'pagerank': <type 'dict'>, u'node2vec_macrostates': <type 'dict'>}, 'max_index': 99, 'min_index': 0, 'size': 100}}\n"
     ]
    }
   ],
   "source": [
    "macros = gd.utils.gd_files_handler.gd_folder_stats(gd_directory)"
   ]
  }
 ],
 "metadata": {
  "kernelspec": {
   "display_name": "Anaconda",
   "language": "python",
   "name": "anaconda"
  },
  "language_info": {
   "codemirror_mode": {
    "name": "ipython",
    "version": 2
   },
   "file_extension": ".py",
   "mimetype": "text/x-python",
   "name": "python",
   "nbconvert_exporter": "python",
   "pygments_lexer": "ipython2",
   "version": "2.7.12"
  }
 },
 "nbformat": 4,
 "nbformat_minor": 0
}
