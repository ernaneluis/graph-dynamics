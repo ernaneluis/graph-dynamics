{
 "cells": [
  {
   "cell_type": "markdown",
   "metadata": {},
   "source": [
    "# Tag2Hierarchy\n",
    "\n",
    "Tag2Hierarchy is a simple python library which is able to generate trees or hierarchical structures from a \n",
    "set of n-tuples. "
   ]
  },
  {
   "cell_type": "code",
   "execution_count": 1,
   "metadata": {
    "collapsed": false
   },
   "outputs": [],
   "source": [
    "import sys\n",
    "import json\n",
    "\n",
    "from tag2hierarchy.hierarchy import HTMLPLOT\n",
    "from tag2hierarchy.hierarchy import tree2Dict\n",
    "from tag2hierarchy.hierarchy import treeHandlers"
   ]
  },
  {
   "cell_type": "code",
   "execution_count": 2,
   "metadata": {
    "collapsed": true
   },
   "outputs": [],
   "source": [
    "dictTree = json.load(open(\"./myTree.json\"))"
   ]
  },
  {
   "cell_type": "code",
   "execution_count": 3,
   "metadata": {
    "collapsed": false,
    "scrolled": false
   },
   "outputs": [
    {
     "data": {
      "text/plain": [
       "{u'children': [{u'children': [{u'children': [{u'children': None,\n",
       "       u'name': u'Q'},\n",
       "      {u'children': [{u'children': None, u'name': u'S'},\n",
       "        {u'children': [{u'children': None, u'name': u'U'},\n",
       "          {u'children': None, u'name': u'V'}],\n",
       "         u'name': u'T'}],\n",
       "       u'name': u'R'}],\n",
       "     u'name': u'E'},\n",
       "    {u'children': None, u'name': u'F'},\n",
       "    {u'children': [{u'children': None, u'name': u'O'},\n",
       "      {u'children': None, u'name': u'P'}],\n",
       "     u'name': u'G'}],\n",
       "   u'name': u'B'},\n",
       "  {u'children': [{u'children': [{u'children': None, u'name': u'M'},\n",
       "      {u'children': None, u'name': u'N'}],\n",
       "     u'name': u'H'},\n",
       "    {u'children': [{u'children': None, u'name': u'K'},\n",
       "      {u'children': None, u'name': u'L'}],\n",
       "     u'name': u'I'},\n",
       "    {u'children': None, u'name': u'J'}],\n",
       "   u'name': u'C'},\n",
       "  {u'children': None, u'name': u'D'}],\n",
       " u'name': u'A'}"
      ]
     },
     "execution_count": 3,
     "metadata": {},
     "output_type": "execute_result"
    }
   ],
   "source": [
    "dictTree"
   ]
  },
  {
   "cell_type": "code",
   "execution_count": 5,
   "metadata": {
    "collapsed": false,
    "scrolled": true
   },
   "outputs": [],
   "source": [
    "# We create an objectTree, this is a list of trees from \n",
    "\n",
    "objectTree = tree2Dict.fromDictTreeToObjectTree([dictTree])\n",
    "\n",
    "# We can generate a plot for the tree with \n",
    "\n",
    "HTMLPLOT.vizualizeObjectTree(\"./\", objectTree, plotName='fromNotebook', dynamic=False)"
   ]
  },
  {
   "cell_type": "code",
   "execution_count": null,
   "metadata": {
    "collapsed": true
   },
   "outputs": [],
   "source": []
  },
  {
   "cell_type": "markdown",
   "metadata": {},
   "source": [
    "# Obtaining Tree Structure"
   ]
  },
  {
   "cell_type": "code",
   "execution_count": 13,
   "metadata": {
    "collapsed": false
   },
   "outputs": [
    {
     "data": {
      "text/plain": [
       "{u'A': [u'A'],\n",
       " u'B': [u'A', u'B'],\n",
       " u'C': [u'A', u'C'],\n",
       " u'D': [u'A', u'D'],\n",
       " u'E': [u'A', u'B', u'E'],\n",
       " u'F': [u'A', u'B', u'F'],\n",
       " u'G': [u'A', u'B', u'G'],\n",
       " u'H': [u'A', u'C', u'H'],\n",
       " u'I': [u'A', u'C', u'I'],\n",
       " u'J': [u'A', u'C', u'J'],\n",
       " u'K': [u'A', u'C', u'I', u'K'],\n",
       " u'L': [u'A', u'C', u'I', u'L'],\n",
       " u'M': [u'A', u'C', u'H', u'M'],\n",
       " u'N': [u'A', u'C', u'H', u'N'],\n",
       " u'O': [u'A', u'B', u'G', u'O'],\n",
       " u'P': [u'A', u'B', u'G', u'P'],\n",
       " u'Q': [u'A', u'B', u'E', u'Q'],\n",
       " u'R': [u'A', u'B', u'E', u'R'],\n",
       " u'S': [u'A', u'B', u'E', u'R', u'S'],\n",
       " u'T': [u'A', u'B', u'E', u'R', u'T'],\n",
       " u'U': [u'A', u'B', u'E', u'R', u'T', u'U'],\n",
       " u'V': [u'A', u'B', u'E', u'R', u'T', u'V']}"
      ]
     },
     "execution_count": 13,
     "metadata": {},
     "output_type": "execute_result"
    }
   ],
   "source": [
    "actual = treeHandlers.nodeNames(objectTree)\n",
    "treeHandlers.setBranch(objectTree)\n",
    "#Obtain a Branch for a particular node\n",
    "branchesActual = {}\n",
    "for n in treeHandlers.transverseTree(objectTree):\n",
    "    branchesActual[n.name] = n.myBranch\n",
    "\n",
    "branchesActual"
   ]
  },
  {
   "cell_type": "code",
   "execution_count": 31,
   "metadata": {
    "collapsed": true
   },
   "outputs": [],
   "source": [
    "descendants = treeHandlers.obtainDescendantsFromNode(objectTree,\"B\")\n",
    "nodesPerLevel = treeHandlers.obtainNodesPerLevel(objectTree)\n",
    "nodesAtMyLevel = treeHandlers.obtainsNodesAtMyLevel(objectTree,\"F\",nodesPerLevel=None)\n",
    "descendantsPerLevel = treeHandlers.obtainDescendantsPerLevel(objectTree,\"A\")\n",
    "leaves =  treeHandlers.obtainLeavesFromNode(objectTree,\"A\")  \n",
    "nonLeaves =  treeHandlers.obtainNonLeaves(objectTree)"
   ]
  },
  {
   "cell_type": "code",
   "execution_count": 32,
   "metadata": {
    "collapsed": false
   },
   "outputs": [
    {
     "data": {
      "text/plain": [
       "{u'E', u'F', u'G', u'O', u'P', u'Q', u'R', u'S', u'T', u'U', u'V'}"
      ]
     },
     "execution_count": 32,
     "metadata": {},
     "output_type": "execute_result"
    }
   ],
   "source": [
    "descendantsActual"
   ]
  },
  {
   "cell_type": "code",
   "execution_count": 33,
   "metadata": {
    "collapsed": false
   },
   "outputs": [
    {
     "data": {
      "text/plain": [
       "{0: [u'A'],\n",
       " 1: [u'B', u'C', u'D'],\n",
       " 2: [u'E', u'F', u'G', u'H', u'I', u'J'],\n",
       " 3: [u'Q', u'R', u'O', u'P', u'M', u'N', u'K', u'L'],\n",
       " 4: [u'S', u'T'],\n",
       " 5: [u'U', u'V']}"
      ]
     },
     "execution_count": 33,
     "metadata": {},
     "output_type": "execute_result"
    }
   ],
   "source": [
    "nodesPerLevel"
   ]
  },
  {
   "cell_type": "code",
   "execution_count": 34,
   "metadata": {
    "collapsed": false
   },
   "outputs": [
    {
     "data": {
      "text/plain": [
       "[u'E', u'G', u'H', u'I', u'J']"
      ]
     },
     "execution_count": 34,
     "metadata": {},
     "output_type": "execute_result"
    }
   ],
   "source": [
    "nodesAtMyLevel"
   ]
  },
  {
   "cell_type": "code",
   "execution_count": 35,
   "metadata": {
    "collapsed": false
   },
   "outputs": [
    {
     "data": {
      "text/plain": [
       "{0: [u'A'],\n",
       " 1: [u'B', u'C', u'D'],\n",
       " 2: [u'E', u'F', u'G', u'H', u'I', u'J'],\n",
       " 3: [u'Q', u'R', u'O', u'P', u'M', u'N', u'K', u'L'],\n",
       " 4: [u'S', u'T'],\n",
       " 5: [u'U', u'V']}"
      ]
     },
     "execution_count": 35,
     "metadata": {},
     "output_type": "execute_result"
    }
   ],
   "source": [
    "descendantsPerLevel"
   ]
  },
  {
   "cell_type": "code",
   "execution_count": 36,
   "metadata": {
    "collapsed": false
   },
   "outputs": [
    {
     "data": {
      "text/plain": [
       "[u'Q', u'S', u'U', u'V', u'F', u'O', u'P', u'M', u'N', u'K', u'L', u'J', u'D']"
      ]
     },
     "execution_count": 36,
     "metadata": {},
     "output_type": "execute_result"
    }
   ],
   "source": [
    "leaves"
   ]
  },
  {
   "cell_type": "code",
   "execution_count": 37,
   "metadata": {
    "collapsed": false
   },
   "outputs": [
    {
     "data": {
      "text/plain": [
       "[u'A', u'B', u'E', u'R', u'T', u'G', u'C', u'H', u'I']"
      ]
     },
     "execution_count": 37,
     "metadata": {},
     "output_type": "execute_result"
    }
   ],
   "source": [
    "nonLeaves"
   ]
  }
 ],
 "metadata": {
  "kernelspec": {
   "display_name": "Python 2",
   "language": "python",
   "name": "python2"
  },
  "language_info": {
   "codemirror_mode": {
    "name": "ipython",
    "version": 2
   },
   "file_extension": ".py",
   "mimetype": "text/x-python",
   "name": "python",
   "nbconvert_exporter": "python",
   "pygments_lexer": "ipython2",
   "version": "2.7.12"
  }
 },
 "nbformat": 4,
 "nbformat_minor": 0
}
