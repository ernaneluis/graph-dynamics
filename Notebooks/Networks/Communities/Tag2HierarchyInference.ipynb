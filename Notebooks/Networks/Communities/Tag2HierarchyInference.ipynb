{
 "cells": [
  {
   "cell_type": "code",
   "execution_count": 9,
   "metadata": {
    "collapsed": true
   },
   "outputs": [],
   "source": [
    "import sys\n",
    "import json\n",
    "import os\n",
    "sys.path.append(\"../\")\n",
    "\n",
    "from tag2hierarchy.hierarchy import HTMLPLOT\n",
    "from tag2hierarchy.hierarchy import tree2Dict\n",
    "from tag2hierarchy.hierarchy import treeHandlers\n",
    "\n",
    "from tag2hierarchy.inference import training"
   ]
  },
  {
   "cell_type": "code",
   "execution_count": 4,
   "metadata": {
    "collapsed": false
   },
   "outputs": [
    {
     "data": {
      "text/plain": [
       "['moreTuples.json',\n",
       " 'myTree.json',\n",
       " 'biology_tags.txt',\n",
       " 'myTree2.json',\n",
       " 'molreTuples.json']"
      ]
     },
     "execution_count": 4,
     "metadata": {},
     "output_type": "execute_result"
    }
   ],
   "source": [
    "os.listdir(\"../data\")"
   ]
  },
  {
   "cell_type": "code",
   "execution_count": 7,
   "metadata": {
    "collapsed": true
   },
   "outputs": [],
   "source": [
    "TagTuples = [a.split() for a in open(\"../data/biology_tags.txt\",\"r\").read().split(\"\\n\")]"
   ]
  },
  {
   "cell_type": "code",
   "execution_count": 8,
   "metadata": {
    "collapsed": false
   },
   "outputs": [
    {
     "data": {
      "text/plain": [
       "[['ribosome', 'binding-sites', 'translation', 'synthetic-biology'],\n",
       " ['rna', 'biochemistry'],\n",
       " ['immunology', 'cell-biology', 'hematology'],\n",
       " ['cell-culture'],\n",
       " ['splicing', 'mrna', 'spliceosome', 'introns', 'exons'],\n",
       " ['dna', 'biochemistry', 'molecular-biology'],\n",
       " ['neuroscience', 'synapses'],\n",
       " ['plasmids'],\n",
       " ['molecular-genetics', 'gene-expression', 'experimental-design'],\n",
       " ['evolution', 'mitochondria', 'chloroplasts']]"
      ]
     },
     "execution_count": 8,
     "metadata": {},
     "output_type": "execute_result"
    }
   ],
   "source": [
    "TagTuples[:10]"
   ]
  },
  {
   "cell_type": "code",
   "execution_count": 10,
   "metadata": {
    "collapsed": true
   },
   "outputs": [],
   "source": [
    "allTrees,homeless, parentToDescendantStats, bestParentToDescendantStats = training.obtainTreeNoise2(TagTuples, 0.2)"
   ]
  },
  {
   "cell_type": "code",
   "execution_count": 14,
   "metadata": {
    "collapsed": false
   },
   "outputs": [],
   "source": [
    "HTMLPLOT.vizualizeObjectTree(\"../visualization/\",allTrees, \"stackExchangeBiology\")"
   ]
  },
  {
   "cell_type": "code",
   "execution_count": null,
   "metadata": {
    "collapsed": true
   },
   "outputs": [],
   "source": []
  }
 ],
 "metadata": {
  "kernelspec": {
   "display_name": "Python 2",
   "language": "python",
   "name": "python2"
  },
  "language_info": {
   "codemirror_mode": {
    "name": "ipython",
    "version": 2
   },
   "file_extension": ".py",
   "mimetype": "text/x-python",
   "name": "python",
   "nbconvert_exporter": "python",
   "pygments_lexer": "ipython2",
   "version": "2.7.6"
  }
 },
 "nbformat": 4,
 "nbformat_minor": 0
}
