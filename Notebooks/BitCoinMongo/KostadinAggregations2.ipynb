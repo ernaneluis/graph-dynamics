{
 "cells": [
  {
   "cell_type": "markdown",
   "metadata": {},
   "source": [
    "<h1 align='center'>BitCoin Data Transformation Internal</h1>"
   ]
  },
  {
   "cell_type": "code",
   "execution_count": 1,
   "metadata": {
    "collapsed": true
   },
   "outputs": [],
   "source": [
    "import pymongo\n",
    "from pymongo import MongoClient\n",
    "import matplotlib.pyplot as plt\n",
    "\n",
    "client = MongoClient(\"129.26.78.40:27017\")\n",
    "db = client['BitCoin']"
   ]
  },
  {
   "cell_type": "code",
   "execution_count": 3,
   "metadata": {
    "scrolled": true
   },
   "outputs": [
    {
     "data": {
      "text/plain": [
       "{u'_id': {u'reciever': u'112BDjNgWGwRyH1yr9W2jwQ96KQvZUPrQ2',\n",
       "  u'sender': u'19Cu4qFyu5CE2hNRBpPrir6w5svYNA7tFZ',\n",
       "  u'time': 1485103761,\n",
       "  u'tx_hash': u'00000000000000000000cb4dad1c3b1076a9a71e5f21196e2908f4a50ac3ddad'},\n",
       " u'amount': 571538,\n",
       " u'tx_time': datetime.datetime(2017, 1, 22, 16, 49, 21)}"
      ]
     },
     "execution_count": 3,
     "metadata": {},
     "output_type": "execute_result"
    }
   ],
   "source": [
    "db['blocks_2_aggregation'].find_one()"
   ]
  },
  {
   "cell_type": "code",
   "execution_count": 7,
   "metadata": {},
   "outputs": [
    {
     "name": "stdout",
     "output_type": "stream",
     "text": [
      "{u'amount': 180000, u'_id': {u'tx_hash': u'000000000000000001417e1d867a8e5c51284c1896c2f3474a3df6062a13ba2f', u'time': 1485999334, u'sender': u'1JugUq597mSdE2a4nVNTVuhMwHYKjCCxpz', u'reciever': u'1H1HjD8qUbENzXcWF9SFut6g66pqYH4M9f'}, u'tx_time': datetime.datetime(2017, 2, 2, 1, 35, 34)}\n"
     ]
    }
   ],
   "source": [
    "for a in db['blocks_2_aggregation'].find().sort([('tx_time',-1)]).limit(1):\n",
    "    print a"
   ]
  },
  {
   "cell_type": "code",
   "execution_count": 8,
   "metadata": {},
   "outputs": [
    {
     "name": "stdout",
     "output_type": "stream",
     "text": [
      "{u'amount': 150000, u'_id': {u'tx_hash': u'00000000000000000341301ddd43d60a708cc920312942220e1b4f2b9a9131ed', u'time': 1484711444, u'sender': u'1KfKNpxtUc77FkFg5fCZPQSsXUdSdLv2np', u'reciever': u'1L39j9Eot75v6ngVTwDpztT64hSJy3V1W8'}, u'tx_time': datetime.datetime(2017, 1, 18, 3, 50, 44)}\n"
     ]
    }
   ],
   "source": [
    "for a in db['blocks_2_aggregation'].find().sort([('tx_time',1)]).limit(1):\n",
    "    print a"
   ]
  },
  {
   "cell_type": "markdown",
   "metadata": {},
   "source": [
    "## Aggregate the BitCoin amount per transaction per address"
   ]
  },
  {
   "cell_type": "code",
   "execution_count": null,
   "metadata": {
    "collapsed": true
   },
   "outputs": [],
   "source": [
    "for i in range(1, 17):\n",
    "    db[\"blocks_{0}\".format(i)].aggregate([{\"$project\":\n",
    "                                      {\"block_index\":\"$block_index\",\n",
    "                                       \"_id\":0,\n",
    "                                       \"height\":\"$block_height\",\n",
    "                                       \"relayed_by\":\"$relayed_by\",\n",
    "                                       \"hash\": \"$hash\",\n",
    "                                       \"tx\":\"$tx\"}},\n",
    "                                 {\"$unwind\":\"$tx\"},\n",
    "                                 {\"$project\":\n",
    "                                         {\"inputs\":\"$tx.inputs\",\n",
    "                                          \"out\":\"$tx.out\",\n",
    "                                          \"time\":\"$tx.time\",\n",
    "                                          \"hash\": \"$hash\",\n",
    "                                          \"_id\":0\n",
    "                                         }},\n",
    "                                 {\"$unwind\":\"$inputs\"},\n",
    "                                 {\"$project\":\n",
    "                                            {\"time\":\"$time\",\n",
    "                                             \"hash\": \"$hash\",\n",
    "                                             \"address_source\":\"$inputs.prev_out.addr\",\n",
    "                                             \"amount\":\"$inputs.prev_out.value\",\n",
    "                                             \"out\":\"$out\"}},\n",
    "                                 {\"$unwind\":\"$out\"},                             \n",
    "                                 {\"$group\": \n",
    "                                          {\n",
    "                                            \"_id\": {\"tx_hash\": \"$hash\", \"sender\":\"$address_source\", \"time\": \"$time\", \"reciever\":\"$out.addr\", \"tag\":\"$out.addr_tag_link\"},                                                                                     \n",
    "                                                \"amount\":{ \"$sum\": \"$out.value\"}                                   \n",
    "                                                \n",
    "                                            }\n",
    "                                 },\n",
    "                                {\"$match\": { \"amount\": {\"$gt\": 0}}},                                \n",
    "                                {\"$out\":\"blocks_{0}_aggregation\".format(i)}],allowDiskUse=True)"
   ]
  },
  {
   "cell_type": "markdown",
   "metadata": {},
   "source": [
    "## Collect all aggrefation into one collection"
   ]
  },
  {
   "cell_type": "code",
   "execution_count": null,
   "metadata": {
    "collapsed": true
   },
   "outputs": [],
   "source": [
    "for i in range(1, 13):\n",
    "    collection = \"blocks_{0}_aggregation\".format(i)\n",
    "    data = db[collection].find({})\n",
    "    db[\"blocks_aggregation\"].insert_many(data)"
   ]
  },
  {
   "cell_type": "markdown",
   "metadata": {},
   "source": [
    "## Group Data Hourly"
   ]
  },
  {
   "cell_type": "code",
   "execution_count": 90,
   "metadata": {
    "collapsed": true
   },
   "outputs": [
    {
     "ename": "OperationFailure",
     "evalue": "insert for $out failed: { connectionId: 183, err: \"BSONObj size: 19116450 (0x123B1A2) is invalid. Size must be between 0 and 16793600(16MB) First element: _id: { week: 4, hour: 20, month: 1, second: 28...\", code: 10334, n: 0, ok: 1.0 }",
     "output_type": "error",
     "traceback": [
      "\u001b[0;31m---------------------------------------------------------------------------\u001b[0m",
      "\u001b[0;31mOperationFailure\u001b[0m                          Traceback (most recent call last)",
      "\u001b[0;32m<ipython-input-90-909bae044a1e>\u001b[0m in \u001b[0;36m<module>\u001b[0;34m()\u001b[0m\n\u001b[1;32m     19\u001b[0m                                  }},\n\u001b[1;32m     20\u001b[0m \u001b[0;34m\u001b[0m\u001b[0m\n\u001b[0;32m---> 21\u001b[0;31m                                  {\"$out\":\"blocks_{0}_aggregation_hourly\".format(i)}],allowDiskUse=True)\n\u001b[0m",
      "\u001b[0;32m/home/kcvejoski/anaconda2/lib/python2.7/site-packages/pymongo/collection.pyc\u001b[0m in \u001b[0;36maggregate\u001b[0;34m(self, pipeline, **kwargs)\u001b[0m\n\u001b[1;32m   1864\u001b[0m                     result = self._command(sock_info, cmd, slave_ok,\n\u001b[1;32m   1865\u001b[0m                                            \u001b[0mparse_write_concern_error\u001b[0m\u001b[0;34m=\u001b[0m\u001b[0mTrue\u001b[0m\u001b[0;34m,\u001b[0m\u001b[0;34m\u001b[0m\u001b[0m\n\u001b[0;32m-> 1866\u001b[0;31m                                            collation=collation)\n\u001b[0m\u001b[1;32m   1867\u001b[0m                 \u001b[0;32melse\u001b[0m\u001b[0;34m:\u001b[0m\u001b[0;34m\u001b[0m\u001b[0m\n\u001b[1;32m   1868\u001b[0m                     result = self._command(sock_info, cmd, slave_ok,\n",
      "\u001b[0;32m/home/kcvejoski/anaconda2/lib/python2.7/site-packages/pymongo/collection.pyc\u001b[0m in \u001b[0;36m_command\u001b[0;34m(self, sock_info, command, slave_ok, read_preference, codec_options, check, allowable_errors, read_concern, write_concern, parse_write_concern_error, collation)\u001b[0m\n\u001b[1;32m    230\u001b[0m             \u001b[0mwrite_concern\u001b[0m\u001b[0;34m=\u001b[0m\u001b[0mwrite_concern\u001b[0m\u001b[0;34m,\u001b[0m\u001b[0;34m\u001b[0m\u001b[0m\n\u001b[1;32m    231\u001b[0m             \u001b[0mparse_write_concern_error\u001b[0m\u001b[0;34m=\u001b[0m\u001b[0mparse_write_concern_error\u001b[0m\u001b[0;34m,\u001b[0m\u001b[0;34m\u001b[0m\u001b[0m\n\u001b[0;32m--> 232\u001b[0;31m             collation=collation)\n\u001b[0m\u001b[1;32m    233\u001b[0m \u001b[0;34m\u001b[0m\u001b[0m\n\u001b[1;32m    234\u001b[0m     \u001b[0;32mdef\u001b[0m \u001b[0m__create\u001b[0m\u001b[0;34m(\u001b[0m\u001b[0mself\u001b[0m\u001b[0;34m,\u001b[0m \u001b[0moptions\u001b[0m\u001b[0;34m,\u001b[0m \u001b[0mcollation\u001b[0m\u001b[0;34m)\u001b[0m\u001b[0;34m:\u001b[0m\u001b[0;34m\u001b[0m\u001b[0m\n",
      "\u001b[0;32m/home/kcvejoski/anaconda2/lib/python2.7/site-packages/pymongo/pool.pyc\u001b[0m in \u001b[0;36mcommand\u001b[0;34m(self, dbname, spec, slave_ok, read_preference, codec_options, check, allowable_errors, check_keys, read_concern, write_concern, parse_write_concern_error, collation)\u001b[0m\n\u001b[1;32m    417\u001b[0m                            \u001b[0mread_concern\u001b[0m\u001b[0;34m,\u001b[0m\u001b[0;34m\u001b[0m\u001b[0m\n\u001b[1;32m    418\u001b[0m                            \u001b[0mparse_write_concern_error\u001b[0m\u001b[0;34m=\u001b[0m\u001b[0mparse_write_concern_error\u001b[0m\u001b[0;34m,\u001b[0m\u001b[0;34m\u001b[0m\u001b[0m\n\u001b[0;32m--> 419\u001b[0;31m                            collation=collation)\n\u001b[0m\u001b[1;32m    420\u001b[0m         \u001b[0;32mexcept\u001b[0m \u001b[0mOperationFailure\u001b[0m\u001b[0;34m:\u001b[0m\u001b[0;34m\u001b[0m\u001b[0m\n\u001b[1;32m    421\u001b[0m             \u001b[0;32mraise\u001b[0m\u001b[0;34m\u001b[0m\u001b[0m\n",
      "\u001b[0;32m/home/kcvejoski/anaconda2/lib/python2.7/site-packages/pymongo/network.pyc\u001b[0m in \u001b[0;36mcommand\u001b[0;34m(sock, dbname, spec, slave_ok, is_mongos, read_preference, codec_options, check, allowable_errors, address, check_keys, listeners, max_bson_size, read_concern, parse_write_concern_error, collation)\u001b[0m\n\u001b[1;32m    114\u001b[0m             helpers._check_command_response(\n\u001b[1;32m    115\u001b[0m                 \u001b[0mresponse_doc\u001b[0m\u001b[0;34m,\u001b[0m \u001b[0mNone\u001b[0m\u001b[0;34m,\u001b[0m \u001b[0mallowable_errors\u001b[0m\u001b[0;34m,\u001b[0m\u001b[0;34m\u001b[0m\u001b[0m\n\u001b[0;32m--> 116\u001b[0;31m                 parse_write_concern_error=parse_write_concern_error)\n\u001b[0m\u001b[1;32m    117\u001b[0m     \u001b[0;32mexcept\u001b[0m \u001b[0mException\u001b[0m \u001b[0;32mas\u001b[0m \u001b[0mexc\u001b[0m\u001b[0;34m:\u001b[0m\u001b[0;34m\u001b[0m\u001b[0m\n\u001b[1;32m    118\u001b[0m         \u001b[0;32mif\u001b[0m \u001b[0mpublish\u001b[0m\u001b[0;34m:\u001b[0m\u001b[0;34m\u001b[0m\u001b[0m\n",
      "\u001b[0;32m/home/kcvejoski/anaconda2/lib/python2.7/site-packages/pymongo/helpers.pyc\u001b[0m in \u001b[0;36m_check_command_response\u001b[0;34m(response, msg, allowable_errors, parse_write_concern_error)\u001b[0m\n\u001b[1;32m    208\u001b[0m \u001b[0;34m\u001b[0m\u001b[0m\n\u001b[1;32m    209\u001b[0m             \u001b[0mmsg\u001b[0m \u001b[0;34m=\u001b[0m \u001b[0mmsg\u001b[0m \u001b[0;32mor\u001b[0m \u001b[0;34m\"%s\"\u001b[0m\u001b[0;34m\u001b[0m\u001b[0m\n\u001b[0;32m--> 210\u001b[0;31m             \u001b[0;32mraise\u001b[0m \u001b[0mOperationFailure\u001b[0m\u001b[0;34m(\u001b[0m\u001b[0mmsg\u001b[0m \u001b[0;34m%\u001b[0m \u001b[0merrmsg\u001b[0m\u001b[0;34m,\u001b[0m \u001b[0mcode\u001b[0m\u001b[0;34m,\u001b[0m \u001b[0mresponse\u001b[0m\u001b[0;34m)\u001b[0m\u001b[0;34m\u001b[0m\u001b[0m\n\u001b[0m\u001b[1;32m    211\u001b[0m \u001b[0;34m\u001b[0m\u001b[0m\n\u001b[1;32m    212\u001b[0m \u001b[0;34m\u001b[0m\u001b[0m\n",
      "\u001b[0;31mOperationFailure\u001b[0m: insert for $out failed: { connectionId: 183, err: \"BSONObj size: 19116450 (0x123B1A2) is invalid. Size must be between 0 and 16793600(16MB) First element: _id: { week: 4, hour: 20, month: 1, second: 28...\", code: 10334, n: 0, ok: 1.0 }"
     ]
    }
   ],
   "source": [
    "for i in range(1, 13):\n",
    "    db[\"blocks_{0}_aggregation\".format(i)].aggregate([\n",
    "                                 {\"$group\": {\n",
    "                                     \"_id\": {\"year\": {\"$year\": \"$tx_time\" }, \n",
    "                                             \"month\": {\"$month\": \"$tx_time\"}, \n",
    "                                             \"week\": {\"$week\": \"$tx_time\"}, \n",
    "                                             \"day\": {\"$dayOfMonth\": \"$tx_time\"}, \n",
    "                                             \"hour\": {\"$hour\": \"$tx_time\"},\n",
    "                                             \"minutes\": {\"$minute\":\"$tx_time\"},\n",
    "                                             \"second\": {\"$second\":\"$tx_time\"}},\n",
    "                                     \"txs\": {\"$addToSet\": {\n",
    "                                            \"h\":\"$_id.tx_hash\",\n",
    "                                            \"s\": \"$_id.sender\",\n",
    "                                            \"r\": \"$_id.reciever\",\n",
    "                                            \"a\": \"$amount\",                                          \n",
    "                                            \"t\": \"$tx_time\"\n",
    "                                     }}\n",
    "                                 }},\n",
    "                                \n",
    "                                 {\"$out\":\"blocks_{0}_aggregation_hourly\".format(i)}],allowDiskUse=True)"
   ]
  },
  {
   "cell_type": "markdown",
   "metadata": {},
   "source": [
    "## Split the senders weekly"
   ]
  },
  {
   "cell_type": "code",
   "execution_count": null,
   "metadata": {
    "collapsed": true
   },
   "outputs": [],
   "source": [
    "db[\"blocks_aggregation\"].aggregate([ {\"$match\": { \"_id.time\": {\"$gt\": mktime(datetime(2017, 1, 14).timetuple()), \"$lte\": mktime(datetime(2017, 1, 21).timetuple())}}},\n",
    "                    {\"$group\": { \n",
    "                                 \"_id\": \"$_id.sender\", \n",
    "                                  \"tx\": {\"$addToSet\": {\"hash\":\"$_id.tx_hash\",\n",
    "                                                       \"receiver\": \"$_id.reciever\",\n",
    "                                                       \"time\": \"$_id.time\",\n",
    "                                                       \"amount\": \"$amount\"}\n",
    "                                        },\n",
    "                                   \"ntx\": {\"$sum\": 1}\n",
    "                                            }\n",
    "                                },\n",
    "                              {\"$out\":\"senders_week_3\"}\n",
    "                             ],\n",
    "                        allowDiskUse=True)"
   ]
  },
  {
   "cell_type": "code",
   "execution_count": null,
   "metadata": {
    "collapsed": true
   },
   "outputs": [],
   "source": [
    "print a"
   ]
  },
  {
   "cell_type": "code",
   "execution_count": null,
   "metadata": {
    "collapsed": true
   },
   "outputs": [],
   "source": []
  }
 ],
 "metadata": {
  "kernelspec": {
   "display_name": "Python 2",
   "language": "python",
   "name": "python2"
  },
  "language_info": {
   "codemirror_mode": {
    "name": "ipython",
    "version": 2
   },
   "file_extension": ".py",
   "mimetype": "text/x-python",
   "name": "python",
   "nbconvert_exporter": "python",
   "pygments_lexer": "ipython2",
   "version": "2.7.12"
  }
 },
 "nbformat": 4,
 "nbformat_minor": 2
}
