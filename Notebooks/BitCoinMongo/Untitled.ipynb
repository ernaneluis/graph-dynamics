{
 "cells": [
  {
   "cell_type": "code",
   "execution_count": null,
   "metadata": {},
   "outputs": [],
   "source": [
    "import pymongo\n",
    "from pymongo import MongoClient\n",
    "import matplotlib.pyplot as plt\n",
    "import numpy as np\n",
    "import logging\n",
    "\n",
    "from ppp.splines import InoueBspline\n",
    "from ppp.interpolation import PoissonProcess\n",
    "\n",
    "client = MongoClient(\"129.26.78.40:27017\")\n",
    "db = client['BitCoin']\n",
    "logging.basicConfig(level=logging.INFO)"
   ]
  },
  {
   "cell_type": "code",
   "execution_count": null,
   "metadata": {},
   "outputs": [],
   "source": [
    "r = db['senders_2017_week_2'].aggregate([\n",
    "                                        {\"$match\": {\"ntx\": {\"$gte\": 10}}},\n",
    "                                        {\"$unwind\": \"$tx\"},\n",
    "                                        {\"$group\": {\n",
    "                                            \"_id\": {\"s\": \"$_id\", \"ts\": \"$tx.ts\" },                                        \n",
    "                                        }},\n",
    "                                        {\"$group\": {\n",
    "                                            \"_id\": \"$_id.s\",\n",
    "                                            \"txs\": {\"$addToSet\": \"$_id.ts\"},\n",
    "                                            \"ntx\": {\"$sum\": 1}\n",
    "                                        }},\n",
    "                                        {\"$match\": {\"ntx\": {\"$gte\": 10}}}\n",
    "                                    ],\n",
    "                            allowDiskUse=True)"
   ]
  },
  {
<<<<<<< HEAD
   "cell_type": "code",
   "execution_count": null,
   "metadata": {},
   "outputs": [],
   "source": [
    "r.next()"
   ]
  },
  {
   "cell_type": "code",
   "execution_count": null,
   "metadata": {
    "collapsed": true
   },
   "outputs": [],
   "source": [
    "senders = []\n",
    "for d in r:\n",
    "    #print d[\"_id\"]\n",
    "    txs = (np.asarray(d['txs'])  - 1483228800) / (24.*3600)\n",
    "    senders.append(txs)\n",
    "    "
   ]
  },
  {
   "cell_type": "code",
   "execution_count": null,
   "metadata": {},
   "outputs": [],
   "source": [
    "len(senders)"
   ]
  },
  {
   "cell_type": "code",
   "execution_count": null,
   "metadata": {},
   "outputs": [],
   "source": [
    "senders[0]"
   ]
  },
  {
   "cell_type": "code",
   "execution_count": null,
   "metadata": {},
   "outputs": [],
   "source": [
    "model =  PoissonProcess(\"a\", InoueBspline(M=7, min_arrival=0., max_arrival=7.,arrivals=senders[13002] % 7 ))\n",
    "    \n",
    "        \n",
    "model.fit(20, .0001)\n"
=======
   "cell_type": "code",
   "execution_count": 24,
   "metadata": {},
   "outputs": [],
   "source": [
    "r = db['senders_2017_week_1'].find({}).limit(100)"
>>>>>>> 7bf18aaad0da832c4a001f101a67429949875d3d
   ]
  },
  {
   "cell_type": "code",
<<<<<<< HEAD
   "execution_count": null,
   "metadata": {},
   "outputs": [],
   "source": [
    "model.plot()\n",
    "plt.show()"
   ]
  },
  {
   "cell_type": "code",
   "execution_count": null,
   "metadata": {},
   "outputs": [],
   "source": [
    "arrivals"
   ]
  },
  {
   "cell_type": "code",
   "execution_count": null,
   "metadata": {},
   "outputs": [],
   "source": [
    "a = db['senders_2017_week_1'].aggregate([\n",
    "                                        {\"$match\": {\"ntx\": {\"$gte\": 5}}},\n",
    "                                        {\"$unwind\": \"$tx\"},\n",
    "                                        {\"$group\": {\n",
    "                                            \"_id\": {\"s\": \"$_id\", \"ts\": \"$tx.ts\", \"t\": \"$tx.t\"}\n",
    "                                        }}\n",
    "                                    ], allowDiskUse=True)"
   ]
  },
  {
   "cell_type": "code",
   "execution_count": null,
   "metadata": {
    "scrolled": true
   },
   "outputs": [],
   "source": [
    "a.next()"
   ]
  },
  {
   "cell_type": "code",
   "execution_count": 1,
   "metadata": {
    "collapsed": true
   },
   "outputs": [],
   "source": [
    "import pymongo\n",
    "from pymongo import MongoClient\n",
    "import matplotlib.pyplot as plt\n",
    "import numpy as np\n",
    "import logging\n",
    "\n",
    "client = MongoClient(\"129.26.78.40:27017\")\n",
    "client.database_names()\n",
    "db = client[\"BitCoin\"]\n"
   ]
  },
  {
   "cell_type": "code",
   "execution_count": 2,
   "metadata": {
    "collapsed": true
   },
   "outputs": [],
   "source": [
    "data = []\n",
    "addresses = db['senders_2017_week_1'].aggregate([\n",
    "                                        {\"$match\": {\"ntx\": {\"$gte\": 10}}},\n",
    "                                        {\"$unwind\": \"$tx\"},\n",
    "                                        {\"$group\": {\n",
    "                                            \"_id\": {\"s\": \"$_id\", \"ts\": \"$tx.ts\" },\n",
    "                                        }},\n",
    "                                        {\"$group\": {\n",
    "                                            \"_id\": \"$_id.s\",\n",
    "                                            \"txs\": {\"$addToSet\": \"$_id.ts\"},\n",
    "                                            \"ntx\": {\"$sum\": 1}\n",
    "                                        }},\n",
    "                                        {\"$match\": {\"ntx\": {\"$gte\": 10}}}\n",
    "                                    ],\n",
    "                            allowDiskUse=True)\n",
    "for address in addresses:\n",
    "    txs = (np.asarray(address['txs'])  - 1483228800) / (24.*3600)\n",
    "    data.append((address[\"_id\"], txs % 7))\n"
   ]
  },
  {
   "cell_type": "code",
   "execution_count": 4,
   "metadata": {},
   "outputs": [
    {
     "data": {
      "text/plain": [
       "7185"
      ]
     },
     "execution_count": 4,
     "metadata": {},
     "output_type": "execute_result"
    }
   ],
   "source": [
    "len(data)"
=======
   "execution_count": 26,
   "metadata": {},
   "outputs": [
    {
     "data": {
      "text/plain": [
       "{u'_id': u'1111DAYXhoxZx2tsRnzimfozo783x1yC2',\n",
       " u'ntx': 18,\n",
       " u'tx': [{u'a': 28750000000L,\n",
       "   u'h': u'000000000000000000d30bdcd45a54ff7e9c610bb65539179e342e53cc7577d4',\n",
       "   u'r': u'13nSg2sQ4J8b7AMyMNMSbZJ2BoxocE1KXg',\n",
       "   u't': datetime.datetime(2017, 1, 5, 19, 42, 29),\n",
       "   u'ts': 1483645349},\n",
       "  {u'a': 56000000000L,\n",
       "   u'h': u'000000000000000000d30bdcd45a54ff7e9c610bb65539179e342e53cc7577d4',\n",
       "   u'r': u'13nSg2sQ4J8b7AMyMNMSbZJ2BoxocE1KXg',\n",
       "   u't': datetime.datetime(2017, 1, 5, 19, 39, 7),\n",
       "   u'ts': 1483645147},\n",
       "  {u'a': 222479376,\n",
       "   u'h': u'000000000000000000d30bdcd45a54ff7e9c610bb65539179e342e53cc7577d4',\n",
       "   u'r': u'1111DAYXhoxZx2tsRnzimfozo783x1yC2',\n",
       "   u't': datetime.datetime(2017, 1, 5, 19, 39, 7),\n",
       "   u'ts': 1483645147},\n",
       "  {u'a': 26000000000L,\n",
       "   u'h': u'000000000000000000d30bdcd45a54ff7e9c610bb65539179e342e53cc7577d4',\n",
       "   u'r': u'13nSg2sQ4J8b7AMyMNMSbZJ2BoxocE1KXg',\n",
       "   u't': datetime.datetime(2017, 1, 5, 19, 46, 1),\n",
       "   u'ts': 1483645561},\n",
       "  {u'a': 6999699,\n",
       "   u'h': u'0000000000000000021c11ae8b091c3742b0a326ef6dead74dc2b5e5109b6b82',\n",
       "   u'r': u'1DiQ8byppe4wEpR5UFbaqNBgEVvwEepUot',\n",
       "   u't': datetime.datetime(2017, 1, 4, 17, 52, 45),\n",
       "   u'ts': 1483552365},\n",
       "  {u'a': 32175965,\n",
       "   u'h': u'000000000000000000d30bdcd45a54ff7e9c610bb65539179e342e53cc7577d4',\n",
       "   u'r': u'1111DAYXhoxZx2tsRnzimfozo783x1yC2',\n",
       "   u't': datetime.datetime(2017, 1, 5, 19, 42, 29),\n",
       "   u'ts': 1483645349},\n",
       "  {u'a': 7338471,\n",
       "   u'h': u'0000000000000000021c11ae8b091c3742b0a326ef6dead74dc2b5e5109b6b82',\n",
       "   u'r': u'1111DAYXhoxZx2tsRnzimfozo783x1yC2',\n",
       "   u't': datetime.datetime(2017, 1, 4, 17, 51, 50),\n",
       "   u'ts': 1483552310},\n",
       "  {u'a': 2417947,\n",
       "   u'h': u'0000000000000000021c11ae8b091c3742b0a326ef6dead74dc2b5e5109b6b82',\n",
       "   u'r': u'1111DAYXhoxZx2tsRnzimfozo783x1yC2',\n",
       "   u't': datetime.datetime(2017, 1, 4, 17, 53, 30),\n",
       "   u'ts': 1483552410},\n",
       "  {u'a': 6598829,\n",
       "   u'h': u'000000000000000001020e6d1877869fbdc3b0d27b9161c38df670314b0c798a',\n",
       "   u'r': u'1111DAYXhoxZx2tsRnzimfozo783x1yC2',\n",
       "   u't': datetime.datetime(2017, 1, 4, 17, 51, 9),\n",
       "   u'ts': 1483552269},\n",
       "  {u'a': 5864327,\n",
       "   u'h': u'0000000000000000021c11ae8b091c3742b0a326ef6dead74dc2b5e5109b6b82',\n",
       "   u'r': u'1111DAYXhoxZx2tsRnzimfozo783x1yC2',\n",
       "   u't': datetime.datetime(2017, 1, 4, 17, 54, 11),\n",
       "   u'ts': 1483552451},\n",
       "  {u'a': 151763328,\n",
       "   u'h': u'000000000000000001020e6d1877869fbdc3b0d27b9161c38df670314b0c798a',\n",
       "   u'r': u'1111DAYXhoxZx2tsRnzimfozo783x1yC2',\n",
       "   u't': datetime.datetime(2017, 1, 4, 17, 50, 37),\n",
       "   u'ts': 1483552237},\n",
       "  {u'a': 1407589,\n",
       "   u'h': u'0000000000000000021c11ae8b091c3742b0a326ef6dead74dc2b5e5109b6b82',\n",
       "   u'r': u'1NvdMVjPgaTmVReM4ToaEbK3ZU7f2CAbfz',\n",
       "   u't': datetime.datetime(2017, 1, 4, 17, 54, 11),\n",
       "   u'ts': 1483552451},\n",
       "  {u'a': 1674193,\n",
       "   u'h': u'000000000000000001020e6d1877869fbdc3b0d27b9161c38df670314b0c798a',\n",
       "   u'r': u'15r373iMuyEyd7432CpAsMb98x9EYUaoh4',\n",
       "   u't': datetime.datetime(2017, 1, 4, 17, 51, 9),\n",
       "   u'ts': 1483552269},\n",
       "  {u'a': 61702854,\n",
       "   u'h': u'0000000000000000021c11ae8b091c3742b0a326ef6dead74dc2b5e5109b6b82',\n",
       "   u'r': u'1Denb6XpMLkLx36hPXGet2TUaiC9qmpQv',\n",
       "   u't': datetime.datetime(2017, 1, 4, 17, 51, 50),\n",
       "   u'ts': 1483552310},\n",
       "  {u'a': 907256,\n",
       "   u'h': u'0000000000000000021c11ae8b091c3742b0a326ef6dead74dc2b5e5109b6b82',\n",
       "   u'r': u'1111DAYXhoxZx2tsRnzimfozo783x1yC2',\n",
       "   u't': datetime.datetime(2017, 1, 4, 17, 52, 45),\n",
       "   u'ts': 1483552365},\n",
       "  {u'a': 1475864,\n",
       "   u'h': u'000000000000000000d30bdcd45a54ff7e9c610bb65539179e342e53cc7577d4',\n",
       "   u'r': u'1111DAYXhoxZx2tsRnzimfozo783x1yC2',\n",
       "   u't': datetime.datetime(2017, 1, 5, 19, 46, 1),\n",
       "   u'ts': 1483645561},\n",
       "  {u'a': 4855075,\n",
       "   u'h': u'0000000000000000021c11ae8b091c3742b0a326ef6dead74dc2b5e5109b6b82',\n",
       "   u'r': u'1BeP8KBB5N9BM1pjYjbf2178WNtYSv22oy',\n",
       "   u't': datetime.datetime(2017, 1, 4, 17, 53, 30),\n",
       "   u'ts': 1483552410},\n",
       "  {u'a': 10114808823L,\n",
       "   u'h': u'000000000000000001020e6d1877869fbdc3b0d27b9161c38df670314b0c798a',\n",
       "   u'r': u'1LF83okPh17mXRg6wQxcNFVve1emm6mqi5',\n",
       "   u't': datetime.datetime(2017, 1, 4, 17, 50, 37),\n",
       "   u'ts': 1483552237}]}"
      ]
     },
     "execution_count": 26,
     "metadata": {},
     "output_type": "execute_result"
    }
   ],
   "source": [
    "r.next()"
>>>>>>> 7bf18aaad0da832c4a001f101a67429949875d3d
   ]
  },
  {
   "cell_type": "code",
   "execution_count": null,
   "metadata": {
    "collapsed": true
   },
   "outputs": [],
   "source": []
  }
 ],
 "metadata": {
  "kernelspec": {
   "display_name": "tensorflow",
   "language": "python",
   "name": "tensorflow"
  },
  "language_info": {
   "codemirror_mode": {
    "name": "ipython",
    "version": 2
   },
   "file_extension": ".py",
   "mimetype": "text/x-python",
   "name": "python",
   "nbconvert_exporter": "python",
   "pygments_lexer": "ipython2",
   "version": "2.7.12"
  }
 },
 "nbformat": 4,
 "nbformat_minor": 2
}
