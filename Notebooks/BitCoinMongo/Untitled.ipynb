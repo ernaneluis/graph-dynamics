{
 "cells": [
  {
   "cell_type": "code",
   "execution_count": 1,
   "metadata": {
    "collapsed": true
   },
   "outputs": [],
   "source": [
    "import pymongo\n",
    "from pymongo import MongoClient\n",
    "import matplotlib.pyplot as plt\n",
    "\n",
    "client = MongoClient(\"129.26.78.40:27017\")\n",
    "db = client['BitCoin']"
   ]
  },
  {
   "cell_type": "code",
   "execution_count": 24,
   "metadata": {},
   "outputs": [],
   "source": [
    "r = db['senders_2017_week_1'].find({}).limit(100)"
   ]
  },
  {
   "cell_type": "code",
   "execution_count": 26,
   "metadata": {},
   "outputs": [
    {
     "data": {
      "text/plain": [
       "{u'_id': u'1111DAYXhoxZx2tsRnzimfozo783x1yC2',\n",
       " u'ntx': 18,\n",
       " u'tx': [{u'a': 28750000000L,\n",
       "   u'h': u'000000000000000000d30bdcd45a54ff7e9c610bb65539179e342e53cc7577d4',\n",
       "   u'r': u'13nSg2sQ4J8b7AMyMNMSbZJ2BoxocE1KXg',\n",
       "   u't': datetime.datetime(2017, 1, 5, 19, 42, 29),\n",
       "   u'ts': 1483645349},\n",
       "  {u'a': 56000000000L,\n",
       "   u'h': u'000000000000000000d30bdcd45a54ff7e9c610bb65539179e342e53cc7577d4',\n",
       "   u'r': u'13nSg2sQ4J8b7AMyMNMSbZJ2BoxocE1KXg',\n",
       "   u't': datetime.datetime(2017, 1, 5, 19, 39, 7),\n",
       "   u'ts': 1483645147},\n",
       "  {u'a': 222479376,\n",
       "   u'h': u'000000000000000000d30bdcd45a54ff7e9c610bb65539179e342e53cc7577d4',\n",
       "   u'r': u'1111DAYXhoxZx2tsRnzimfozo783x1yC2',\n",
       "   u't': datetime.datetime(2017, 1, 5, 19, 39, 7),\n",
       "   u'ts': 1483645147},\n",
       "  {u'a': 26000000000L,\n",
       "   u'h': u'000000000000000000d30bdcd45a54ff7e9c610bb65539179e342e53cc7577d4',\n",
       "   u'r': u'13nSg2sQ4J8b7AMyMNMSbZJ2BoxocE1KXg',\n",
       "   u't': datetime.datetime(2017, 1, 5, 19, 46, 1),\n",
       "   u'ts': 1483645561},\n",
       "  {u'a': 6999699,\n",
       "   u'h': u'0000000000000000021c11ae8b091c3742b0a326ef6dead74dc2b5e5109b6b82',\n",
       "   u'r': u'1DiQ8byppe4wEpR5UFbaqNBgEVvwEepUot',\n",
       "   u't': datetime.datetime(2017, 1, 4, 17, 52, 45),\n",
       "   u'ts': 1483552365},\n",
       "  {u'a': 32175965,\n",
       "   u'h': u'000000000000000000d30bdcd45a54ff7e9c610bb65539179e342e53cc7577d4',\n",
       "   u'r': u'1111DAYXhoxZx2tsRnzimfozo783x1yC2',\n",
       "   u't': datetime.datetime(2017, 1, 5, 19, 42, 29),\n",
       "   u'ts': 1483645349},\n",
       "  {u'a': 7338471,\n",
       "   u'h': u'0000000000000000021c11ae8b091c3742b0a326ef6dead74dc2b5e5109b6b82',\n",
       "   u'r': u'1111DAYXhoxZx2tsRnzimfozo783x1yC2',\n",
       "   u't': datetime.datetime(2017, 1, 4, 17, 51, 50),\n",
       "   u'ts': 1483552310},\n",
       "  {u'a': 2417947,\n",
       "   u'h': u'0000000000000000021c11ae8b091c3742b0a326ef6dead74dc2b5e5109b6b82',\n",
       "   u'r': u'1111DAYXhoxZx2tsRnzimfozo783x1yC2',\n",
       "   u't': datetime.datetime(2017, 1, 4, 17, 53, 30),\n",
       "   u'ts': 1483552410},\n",
       "  {u'a': 6598829,\n",
       "   u'h': u'000000000000000001020e6d1877869fbdc3b0d27b9161c38df670314b0c798a',\n",
       "   u'r': u'1111DAYXhoxZx2tsRnzimfozo783x1yC2',\n",
       "   u't': datetime.datetime(2017, 1, 4, 17, 51, 9),\n",
       "   u'ts': 1483552269},\n",
       "  {u'a': 5864327,\n",
       "   u'h': u'0000000000000000021c11ae8b091c3742b0a326ef6dead74dc2b5e5109b6b82',\n",
       "   u'r': u'1111DAYXhoxZx2tsRnzimfozo783x1yC2',\n",
       "   u't': datetime.datetime(2017, 1, 4, 17, 54, 11),\n",
       "   u'ts': 1483552451},\n",
       "  {u'a': 151763328,\n",
       "   u'h': u'000000000000000001020e6d1877869fbdc3b0d27b9161c38df670314b0c798a',\n",
       "   u'r': u'1111DAYXhoxZx2tsRnzimfozo783x1yC2',\n",
       "   u't': datetime.datetime(2017, 1, 4, 17, 50, 37),\n",
       "   u'ts': 1483552237},\n",
       "  {u'a': 1407589,\n",
       "   u'h': u'0000000000000000021c11ae8b091c3742b0a326ef6dead74dc2b5e5109b6b82',\n",
       "   u'r': u'1NvdMVjPgaTmVReM4ToaEbK3ZU7f2CAbfz',\n",
       "   u't': datetime.datetime(2017, 1, 4, 17, 54, 11),\n",
       "   u'ts': 1483552451},\n",
       "  {u'a': 1674193,\n",
       "   u'h': u'000000000000000001020e6d1877869fbdc3b0d27b9161c38df670314b0c798a',\n",
       "   u'r': u'15r373iMuyEyd7432CpAsMb98x9EYUaoh4',\n",
       "   u't': datetime.datetime(2017, 1, 4, 17, 51, 9),\n",
       "   u'ts': 1483552269},\n",
       "  {u'a': 61702854,\n",
       "   u'h': u'0000000000000000021c11ae8b091c3742b0a326ef6dead74dc2b5e5109b6b82',\n",
       "   u'r': u'1Denb6XpMLkLx36hPXGet2TUaiC9qmpQv',\n",
       "   u't': datetime.datetime(2017, 1, 4, 17, 51, 50),\n",
       "   u'ts': 1483552310},\n",
       "  {u'a': 907256,\n",
       "   u'h': u'0000000000000000021c11ae8b091c3742b0a326ef6dead74dc2b5e5109b6b82',\n",
       "   u'r': u'1111DAYXhoxZx2tsRnzimfozo783x1yC2',\n",
       "   u't': datetime.datetime(2017, 1, 4, 17, 52, 45),\n",
       "   u'ts': 1483552365},\n",
       "  {u'a': 1475864,\n",
       "   u'h': u'000000000000000000d30bdcd45a54ff7e9c610bb65539179e342e53cc7577d4',\n",
       "   u'r': u'1111DAYXhoxZx2tsRnzimfozo783x1yC2',\n",
       "   u't': datetime.datetime(2017, 1, 5, 19, 46, 1),\n",
       "   u'ts': 1483645561},\n",
       "  {u'a': 4855075,\n",
       "   u'h': u'0000000000000000021c11ae8b091c3742b0a326ef6dead74dc2b5e5109b6b82',\n",
       "   u'r': u'1BeP8KBB5N9BM1pjYjbf2178WNtYSv22oy',\n",
       "   u't': datetime.datetime(2017, 1, 4, 17, 53, 30),\n",
       "   u'ts': 1483552410},\n",
       "  {u'a': 10114808823L,\n",
       "   u'h': u'000000000000000001020e6d1877869fbdc3b0d27b9161c38df670314b0c798a',\n",
       "   u'r': u'1LF83okPh17mXRg6wQxcNFVve1emm6mqi5',\n",
       "   u't': datetime.datetime(2017, 1, 4, 17, 50, 37),\n",
       "   u'ts': 1483552237}]}"
      ]
     },
     "execution_count": 26,
     "metadata": {},
     "output_type": "execute_result"
    }
   ],
   "source": [
    "r.next()"
   ]
  },
  {
   "cell_type": "code",
   "execution_count": null,
   "metadata": {
    "collapsed": true
   },
   "outputs": [],
   "source": []
  }
 ],
 "metadata": {
  "kernelspec": {
   "display_name": "tensorflow",
   "language": "python",
   "name": "tensorflow"
  },
  "language_info": {
   "codemirror_mode": {
    "name": "ipython",
    "version": 2
   },
   "file_extension": ".py",
   "mimetype": "text/x-python",
   "name": "python",
   "nbconvert_exporter": "python",
   "pygments_lexer": "ipython2",
   "version": "2.7.12"
  }
 },
 "nbformat": 4,
 "nbformat_minor": 2
}
