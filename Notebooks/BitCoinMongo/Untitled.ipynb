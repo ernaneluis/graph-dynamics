{
 "cells": [
  {
   "cell_type": "code",
   "execution_count": null,
   "metadata": {},
   "outputs": [],
   "source": [
    "import pymongo\n",
    "from pymongo import MongoClient\n",
    "import matplotlib.pyplot as plt\n",
    "import numpy as np\n",
    "import logging\n",
    "\n",
    "from ppp.splines import InoueBspline\n",
    "from ppp.interpolation import PoissonProcess\n",
    "\n",
    "client = MongoClient(\"129.26.78.40:27017\")\n",
    "db = client['BitCoin']\n",
    "logging.basicConfig(level=logging.INFO)"
   ]
  },
  {
   "cell_type": "code",
   "execution_count": null,
   "metadata": {},
   "outputs": [],
   "source": [
    "r = db['senders_2017_week_2'].aggregate([\n",
    "                                        {\"$match\": {\"ntx\": {\"$gte\": 10}}},\n",
    "                                        {\"$unwind\": \"$tx\"},\n",
    "                                        {\"$group\": {\n",
    "                                            \"_id\": {\"s\": \"$_id\", \"ts\": \"$tx.ts\" },                                        \n",
    "                                        }},\n",
    "                                        {\"$group\": {\n",
    "                                            \"_id\": \"$_id.s\",\n",
    "                                            \"txs\": {\"$addToSet\": \"$_id.ts\"},\n",
    "                                            \"ntx\": {\"$sum\": 1}\n",
    "                                        }},\n",
    "                                        {\"$match\": {\"ntx\": {\"$gte\": 10}}}\n",
    "                                    ],\n",
    "                            allowDiskUse=True)"
   ]
  },
  {
   "cell_type": "code",
   "execution_count": null,
   "metadata": {},
   "outputs": [],
   "source": [
    "r.next()"
   ]
  },
  {
   "cell_type": "code",
   "execution_count": null,
   "metadata": {
    "collapsed": true
   },
   "outputs": [],
   "source": [
    "senders = []\n",
    "for d in r:\n",
    "    #print d[\"_id\"]\n",
    "    txs = (np.asarray(d['txs'])  - 1483228800) / (24.*3600)\n",
    "    senders.append(txs)\n",
    "    "
   ]
  },
  {
   "cell_type": "code",
   "execution_count": null,
   "metadata": {},
   "outputs": [],
   "source": [
    "len(senders)"
   ]
  },
  {
   "cell_type": "code",
   "execution_count": null,
   "metadata": {},
   "outputs": [],
   "source": [
    "senders[0]"
   ]
  },
  {
   "cell_type": "code",
   "execution_count": null,
   "metadata": {},
   "outputs": [],
   "source": [
    "model =  PoissonProcess(\"a\", InoueBspline(M=7, min_arrival=0., max_arrival=7.,arrivals=senders[13002] % 7 ))\n",
    "    \n",
    "        \n",
    "model.fit(20, .0001)\n"
   ]
  },
  {
   "cell_type": "code",
   "execution_count": null,
   "metadata": {},
   "outputs": [],
   "source": [
    "model.plot()\n",
    "plt.show()"
   ]
  },
  {
   "cell_type": "code",
   "execution_count": null,
   "metadata": {},
   "outputs": [],
   "source": [
    "arrivals"
   ]
  },
  {
   "cell_type": "code",
   "execution_count": null,
   "metadata": {},
   "outputs": [],
   "source": [
    "a = db['senders_2017_week_1'].aggregate([\n",
    "                                        {\"$match\": {\"ntx\": {\"$gte\": 5}}},\n",
    "                                        {\"$unwind\": \"$tx\"},\n",
    "                                        {\"$group\": {\n",
    "                                            \"_id\": {\"s\": \"$_id\", \"ts\": \"$tx.ts\", \"t\": \"$tx.t\"}\n",
    "                                        }}\n",
    "                                    ], allowDiskUse=True)"
   ]
  },
  {
   "cell_type": "code",
   "execution_count": null,
   "metadata": {
    "scrolled": true
   },
   "outputs": [],
   "source": [
    "a.next()"
   ]
  },
  {
   "cell_type": "code",
   "execution_count": 1,
   "metadata": {
    "collapsed": true
   },
   "outputs": [],
   "source": [
    "import pymongo\n",
    "from pymongo import MongoClient\n",
    "import matplotlib.pyplot as plt\n",
    "import numpy as np\n",
    "import logging\n",
    "\n",
    "client = MongoClient(\"129.26.78.40:27017\")\n",
    "client.database_names()\n",
    "db = client[\"BitCoin\"]\n"
   ]
  },
  {
   "cell_type": "code",
   "execution_count": 2,
   "metadata": {
    "collapsed": true
   },
   "outputs": [],
   "source": [
    "data = []\n",
    "addresses = db['senders_2017_week_1'].aggregate([\n",
    "                                        {\"$match\": {\"ntx\": {\"$gte\": 10}}},\n",
    "                                        {\"$unwind\": \"$tx\"},\n",
    "                                        {\"$group\": {\n",
    "                                            \"_id\": {\"s\": \"$_id\", \"ts\": \"$tx.ts\" },\n",
    "                                        }},\n",
    "                                        {\"$group\": {\n",
    "                                            \"_id\": \"$_id.s\",\n",
    "                                            \"txs\": {\"$addToSet\": \"$_id.ts\"},\n",
    "                                            \"ntx\": {\"$sum\": 1}\n",
    "                                        }},\n",
    "                                        {\"$match\": {\"ntx\": {\"$gte\": 10}}}\n",
    "                                    ],\n",
    "                            allowDiskUse=True)\n",
    "for address in addresses:\n",
    "    txs = (np.asarray(address['txs'])  - 1483228800) / (24.*3600)\n",
    "    data.append((address[\"_id\"], txs % 7))\n"
   ]
  },
  {
   "cell_type": "code",
   "execution_count": 4,
   "metadata": {},
   "outputs": [
    {
     "data": {
      "text/plain": [
       "7185"
      ]
     },
     "execution_count": 4,
     "metadata": {},
     "output_type": "execute_result"
    }
   ],
   "source": [
    "len(data)"
   ]
  },
  {
   "cell_type": "code",
   "execution_count": null,
   "metadata": {
    "collapsed": true
   },
   "outputs": [],
   "source": []
  }
 ],
 "metadata": {
  "kernelspec": {
   "display_name": "Python 2",
   "language": "python",
   "name": "python2"
  },
  "language_info": {
   "codemirror_mode": {
    "name": "ipython",
    "version": 2
   },
   "file_extension": ".py",
   "mimetype": "text/x-python",
   "name": "python",
   "nbconvert_exporter": "python",
   "pygments_lexer": "ipython2",
   "version": "2.7.13"
  }
 },
 "nbformat": 4,
 "nbformat_minor": 2
}
