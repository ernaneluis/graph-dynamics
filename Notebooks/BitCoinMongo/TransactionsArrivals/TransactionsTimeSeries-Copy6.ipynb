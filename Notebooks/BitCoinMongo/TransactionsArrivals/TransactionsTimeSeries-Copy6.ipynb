{
 "cells": [
  {
   "cell_type": "markdown",
   "metadata": {},
   "source": [
    "<h1 align='center'>BitCoin Data Transformation Internal</h1>"
   ]
  },
  {
   "cell_type": "code",
   "execution_count": 1,
   "metadata": {
    "collapsed": true
   },
   "outputs": [],
   "source": [
    "import pymongo\n",
    "from pymongo import MongoClient\n",
    "import matplotlib.pyplot as plt\n",
    "\n",
    "client = MongoClient(\"129.26.78.40:27017\")\n",
    "db = client['BitCoin']"
   ]
  },
  {
   "cell_type": "code",
   "execution_count": 6,
   "metadata": {
    "collapsed": false
   },
   "outputs": [
    {
     "data": {
      "text/plain": [
       "<pymongo.command_cursor.CommandCursor at 0x7fd20a548f10>"
      ]
     },
     "execution_count": 6,
     "metadata": {},
     "output_type": "execute_result"
    }
   ],
   "source": [
    "collection_number = 10\n",
    "db['blocks_{0}_aggregation'.format(collection_number)].aggregate([{\"$project\":\n",
    "                                                                      {\"tx_time\":\"$tx_time\"}},                      \n",
    "                                     {\"$group\": \n",
    "                                              {\n",
    "                                                \"_id\": {\"year\":{\"$year\":\"$tx_time\"},\n",
    "                                                        \"month\":{\"$month\":\"$tx_time\"},\n",
    "                                                        \"day\": {\"$dayOfMonth\":\"$tx_time\"}, \n",
    "                                                        \"hour\":{\"$hour\":\"$tx_time\"}},\n",
    "                                                \"count\":{ \"$sum\": 1}\n",
    "                                                }\n",
    "                                     },\n",
    "                                     {\"$out\":\"dates_aggregation_hours_{0}\".format(collection_number)}],allowDiskUse=True)\n",
    "\n",
    "db['blocks_{0}_aggregation'.format(collection_number)].aggregate([{\"$project\":\n",
    "                                                                      {\"tx_time\":\"$tx_time\"}},                      \n",
    "                                     {\"$group\": \n",
    "                                              {\n",
    "                                                \"_id\": {\"year\":{\"$year\":\"$tx_time\"},\n",
    "                                                        \"month\":{\"$month\":\"$tx_time\"},\n",
    "                                                        \"day\": {\"$dayOfMonth\":\"$tx_time\"}, \n",
    "                                                        \"hour\":{\"$hour\":\"$tx_time\"},\n",
    "                                                        \"minute\":{\"$minute\": \"$tx_time\" }},\n",
    "                                                \"count\":{ \"$sum\": 1}\n",
    "                                                }\n",
    "                                     },\n",
    "                                     {\"$out\":\"dates_aggregation_minutes_{0}\".format(collection_number)}],allowDiskUse=True)"
   ]
  },
  {
   "cell_type": "code",
   "execution_count": 3,
   "metadata": {
    "collapsed": false
   },
   "outputs": [
    {
     "data": {
      "text/plain": [
       "22782"
      ]
     },
     "execution_count": 3,
     "metadata": {},
     "output_type": "execute_result"
    }
   ],
   "source": [
    "db[\"dates_aggregation_minutes_8\"].count()"
   ]
  },
  {
   "cell_type": "code",
   "execution_count": 8,
   "metadata": {
    "collapsed": false
   },
   "outputs": [],
   "source": [
    "A = [a for a in db.collection_names() if \"minutes\" in a]"
   ]
  },
  {
   "cell_type": "code",
   "execution_count": 9,
   "metadata": {
    "collapsed": false
   },
   "outputs": [
    {
     "data": {
      "text/plain": [
       "[u'dates_aggregation_minutes_1',\n",
       " u'dates_aggregation_minutes_10',\n",
       " u'dates_aggregation_minutes_11',\n",
       " u'dates_aggregation_minutes_12',\n",
       " u'dates_aggregation_minutes_13',\n",
       " u'dates_aggregation_minutes_14',\n",
       " u'dates_aggregation_minutes_15',\n",
       " u'dates_aggregation_minutes_16',\n",
       " u'dates_aggregation_minutes_2',\n",
       " u'dates_aggregation_minutes_3',\n",
       " u'dates_aggregation_minutes_4',\n",
       " u'dates_aggregation_minutes_5',\n",
       " u'dates_aggregation_minutes_6',\n",
       " u'dates_aggregation_minutes_7',\n",
       " u'dates_aggregation_minutes_8',\n",
       " u'dates_aggregation_minutes_9']"
      ]
     },
     "execution_count": 9,
     "metadata": {},
     "output_type": "execute_result"
    }
   ],
   "source": [
    "A.sort()\n",
    "A"
   ]
  },
  {
   "cell_type": "code",
   "execution_count": 10,
   "metadata": {
    "collapsed": false
   },
   "outputs": [
    {
     "data": {
      "text/plain": [
       "259200"
      ]
     },
     "execution_count": 10,
     "metadata": {},
     "output_type": "execute_result"
    }
   ],
   "source": [
    "datetime()"
   ]
  },
  {
   "cell_type": "code",
   "execution_count": null,
   "metadata": {
    "collapsed": true
   },
   "outputs": [],
   "source": []
  }
 ],
 "metadata": {
  "kernelspec": {
   "display_name": "Python 2",
   "language": "python",
   "name": "python2"
  },
  "language_info": {
   "codemirror_mode": {
    "name": "ipython",
    "version": 2
   },
   "file_extension": ".py",
   "mimetype": "text/x-python",
   "name": "python",
   "nbconvert_exporter": "python",
   "pygments_lexer": "ipython2",
   "version": "2.7.6"
  }
 },
 "nbformat": 4,
 "nbformat_minor": 2
}
