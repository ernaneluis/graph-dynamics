{
 "cells": [
  {
   "cell_type": "markdown",
   "metadata": {},
   "source": [
    "<h1 align='center'>BitCoin Data Transformation Internal</h1>"
   ]
  },
  {
   "cell_type": "code",
   "execution_count": 1,
   "metadata": {
    "collapsed": true
   },
   "outputs": [],
   "source": [
    "import pymongo\n",
    "from pymongo import MongoClient\n",
    "import matplotlib.pyplot as plt\n",
    "\n",
    "client = MongoClient(\"129.26.78.40:27017\")\n",
    "db = client['BitCoin']"
   ]
  },
  {
   "cell_type": "code",
   "execution_count": 2,
   "metadata": {
    "collapsed": false
   },
   "outputs": [
    {
     "data": {
      "text/plain": [
       "<pymongo.command_cursor.CommandCursor at 0x7fae14c46050>"
      ]
     },
     "execution_count": 2,
     "metadata": {},
     "output_type": "execute_result"
    }
   ],
   "source": [
    "collection_number = 4\n",
    "db['blocks_{0}_aggregation'.format(collection_number)].aggregate([{\"$project\":\n",
    "                                                                      {\"tx_time\":\"$tx_time\"}},                      \n",
    "                                     {\"$group\": \n",
    "                                              {\n",
    "                                                \"_id\": {\"year\":{\"$year\":\"$tx_time\"},\n",
    "                                                        \"month\":{\"$month\":\"$tx_time\"},\n",
    "                                                        \"day\": {\"$dayOfMonth\":\"$tx_time\"}, \n",
    "                                                        \"hour\":{\"$hour\":\"$tx_time\"}},\n",
    "                                                \"count\":{ \"$sum\": 1}\n",
    "                                                }\n",
    "                                     },\n",
    "                                     {\"$out\":\"dates_aggregation_hours_{0}\".format(collection_number)}],allowDiskUse=True)\n",
    "\n",
    "db['blocks_{0}_aggregation'.format(collection_number)].aggregate([{\"$project\":\n",
    "                                                                      {\"tx_time\":\"$tx_time\"}},                      \n",
    "                                     {\"$group\": \n",
    "                                              {\n",
    "                                                \"_id\": {\"year\":{\"$year\":\"$tx_time\"},\n",
    "                                                        \"month\":{\"$month\":\"$tx_time\"},\n",
    "                                                        \"day\": {\"$dayOfMonth\":\"$tx_time\"}, \n",
    "                                                        \"hour\":{\"$hour\":\"$tx_time\"},\n",
    "                                                        \"minute\":{\"$minute\": \"$tx_time\" }},\n",
    "                                                \"count\":{ \"$sum\": 1}\n",
    "                                                }\n",
    "                                     },\n",
    "                                     {\"$out\":\"dates_aggregation_minutes_{0}\".format(collection_number)}],allowDiskUse=True)"
   ]
  },
  {
   "cell_type": "code",
   "execution_count": 28,
   "metadata": {
    "collapsed": false
   },
   "outputs": [
    {
     "data": {
      "text/plain": [
       "21769"
      ]
     },
     "execution_count": 28,
     "metadata": {},
     "output_type": "execute_result"
    }
   ],
   "source": [
    "db[\"dates_aggregation_minutes_1\"].count()"
   ]
  },
  {
   "cell_type": "code",
   "execution_count": null,
   "metadata": {
    "collapsed": true
   },
   "outputs": [],
   "source": []
  }
 ],
 "metadata": {
  "kernelspec": {
   "display_name": "Python 2",
   "language": "python",
   "name": "python2"
  },
  "language_info": {
   "codemirror_mode": {
    "name": "ipython",
    "version": 2
   },
   "file_extension": ".py",
   "mimetype": "text/x-python",
   "name": "python",
   "nbconvert_exporter": "python",
   "pygments_lexer": "ipython2",
   "version": "2.7.6"
  }
 },
 "nbformat": 4,
 "nbformat_minor": 2
}
