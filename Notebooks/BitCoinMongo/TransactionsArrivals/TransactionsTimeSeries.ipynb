{
 "cells": [
  {
   "cell_type": "markdown",
   "metadata": {},
   "source": [
    "<h1 align='center'>BitCoin Data Transformation Internal</h1>"
   ]
  },
  {
   "cell_type": "code",
   "execution_count": 1,
   "metadata": {
    "collapsed": true
   },
   "outputs": [],
   "source": [
    "import pymongo\n",
    "from pymongo import MongoClient\n",
    "import matplotlib.pyplot as plt\n",
    "\n",
    "client = MongoClient(\"129.26.78.40:27017\")\n",
    "db = client['BitCoin']"
   ]
  },
  {
   "cell_type": "code",
   "execution_count": 31,
   "metadata": {
    "collapsed": false
   },
   "outputs": [
    {
     "data": {
      "text/plain": [
       "<pymongo.command_cursor.CommandCursor at 0x7efc5c847250>"
      ]
     },
     "execution_count": 31,
     "metadata": {},
     "output_type": "execute_result"
    }
   ],
   "source": [
    "collection_number = 11\n",
    "db['blocks_{0}_aggregation'.format(collection_number)].aggregate([{\"$project\":\n",
    "                                                                      {\"tx_time\":\"$tx_time\"}},                      \n",
    "                                     {\"$group\": \n",
    "                                              {\n",
    "                                                \"_id\": {\"year\":{\"$year\":\"$tx_time\"},\n",
    "                                                        \"month\":{\"$month\":\"$tx_time\"},\n",
    "                                                        \"day\": {\"$dayOfMonth\":\"$tx_time\"}, \n",
    "                                                        \"hour\":{\"$hour\":\"$tx_time\"}},\n",
    "                                                \"count\":{ \"$sum\": 1}\n",
    "                                                }\n",
    "                                     },\n",
    "                                     {\"$out\":\"dates_aggregation_hours_{0}\".format(collection_number)}],allowDiskUse=True)\n",
    "\n",
    "db['blocks_{0}_aggregation'.format(collection_number)].aggregate([{\"$project\":\n",
    "                                                                      {\"tx_time\":\"$tx_time\"}},                      \n",
    "                                     {\"$group\": \n",
    "                                              {\n",
    "                                                \"_id\": {\"year\":{\"$year\":\"$tx_time\"},\n",
    "                                                        \"month\":{\"$month\":\"$tx_time\"},\n",
    "                                                        \"day\": {\"$dayOfMonth\":\"$tx_time\"}, \n",
    "                                                        \"hour\":{\"$hour\":\"$tx_time\"},\n",
    "                                                        \"minute\":{\"$minute\": \"$tx_time\" }},\n",
    "                                                \"count\":{ \"$sum\": 1}\n",
    "                                                }\n",
    "                                     },\n",
    "                                     {\"$out\":\"dates_aggregation_minutes_{0}\".format(collection_number)}],allowDiskUse=True)"
   ]
  },
  {
   "cell_type": "code",
   "execution_count": 44,
   "metadata": {
    "collapsed": false
   },
   "outputs": [],
   "source": []
  },
  {
   "cell_type": "code",
   "execution_count": 45,
   "metadata": {
    "collapsed": true
   },
   "outputs": [],
   "source": [
    "import pandas as pd\n",
    "from datetime import datetime"
   ]
  },
  {
   "cell_type": "code",
   "execution_count": 49,
   "metadata": {
    "collapsed": false,
    "scrolled": true
   },
   "outputs": [],
   "source": [
    "HOUR_TIME_SERIES = {}\n",
    "for col_index in range(1,17):\n",
    "    for A in db[\"dates_aggregation_hours_{0}\".format(col_index)].find():\n",
    "        date_time = datetime(A[\"_id\"][\"year\"],A[\"_id\"][\"month\"],A[\"_id\"][\"day\"],A[\"_id\"][\"hour\"])\n",
    "        try:\n",
    "            HOUR_TIME_SERIES[date_time] += A[\"count\"]\n",
    "        except:\n",
    "            HOUR_TIME_SERIES[date_time] = A[\"count\"]"
   ]
  },
  {
   "cell_type": "code",
   "execution_count": 54,
   "metadata": {
    "collapsed": true
   },
   "outputs": [],
   "source": [
    "MINUTE_TIME_SERIES = {}\n",
    "for col_index in range(1,17):\n",
    "    for A in db[\"dates_aggregation_minutes_{0}\".format(col_index)].find():\n",
    "        date_time = datetime(A[\"_id\"][\"year\"],\n",
    "                             A[\"_id\"][\"month\"],\n",
    "                             A[\"_id\"][\"day\"],\n",
    "                             A[\"_id\"][\"hour\"],\n",
    "                             A[\"_id\"][\"minute\"])\n",
    "        try:\n",
    "            MINUTE_TIME_SERIES[date_time] += A[\"count\"]\n",
    "        except:\n",
    "            MINUTE_TIME_SERIES[date_time] = A[\"count\"]"
   ]
  },
  {
   "cell_type": "code",
   "execution_count": 52,
   "metadata": {
    "collapsed": true
   },
   "outputs": [],
   "source": [
    "%matplotlib inline "
   ]
  },
  {
   "cell_type": "code",
   "execution_count": 60,
   "metadata": {
    "collapsed": false,
    "scrolled": true
   },
   "outputs": [
    {
     "name": "stderr",
     "output_type": "stream",
     "text": [
      "/usr/local/lib/python2.7/dist-packages/ipykernel/__main__.py:1: FutureWarning: TimeSeries is deprecated. Please use Series\n",
      "  if __name__ == '__main__':\n"
     ]
    }
   ],
   "source": [
    "pandas_hours = pd.TimeSeries(HOUR_TIME_SERIES)"
   ]
  },
  {
   "cell_type": "code",
   "execution_count": 61,
   "metadata": {
    "collapsed": true
   },
   "outputs": [],
   "source": [
    "pandas_hours.to_csv(\"/home/cesar/Desktop/hours.csv\")"
   ]
  },
  {
   "cell_type": "code",
   "execution_count": 62,
   "metadata": {
    "collapsed": false
   },
   "outputs": [
    {
     "name": "stderr",
     "output_type": "stream",
     "text": [
      "/usr/local/lib/python2.7/dist-packages/ipykernel/__main__.py:1: FutureWarning: TimeSeries is deprecated. Please use Series\n",
      "  if __name__ == '__main__':\n"
     ]
    },
    {
     "data": {
      "text/plain": [
       "<matplotlib.axes._subplots.AxesSubplot at 0x7efc717d9c90>"
      ]
     },
     "execution_count": 62,
     "metadata": {},
     "output_type": "execute_result"
    },
    {
     "data": {
      "image/png": "[encoded data removed]",
      "text/plain": [
       "<matplotlib.figure.Figure at 0x7efc55241a90>"
      ]
     },
     "metadata": {},
     "output_type": "display_data"
    }
   ],
   "source": [
    "pandas_minutes = pd.TimeSeries(MINUTE_TIME_SERIES)\n",
    "pandas_minutes.to_csv(\"/home/cesar/Desktop/minutes.csv\")\n",
    "pandas_minutes.plot()"
   ]
  },
  {
   "cell_type": "code",
   "execution_count": null,
   "metadata": {
    "collapsed": true
   },
   "outputs": [],
   "source": []
  }
 ],
 "metadata": {
  "kernelspec": {
   "display_name": "Python 2",
   "language": "python",
   "name": "python2"
  },
  "language_info": {
   "codemirror_mode": {
    "name": "ipython",
    "version": 2
   },
   "file_extension": ".py",
   "mimetype": "text/x-python",
   "name": "python",
   "nbconvert_exporter": "python",
   "pygments_lexer": "ipython2",
   "version": "2.7.6"
  }
 },
 "nbformat": 4,
 "nbformat_minor": 2
}
