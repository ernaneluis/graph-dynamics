{
 "cells": [
  {
   "cell_type": "markdown",
   "metadata": {},
   "source": [
    "<h1 align='center'>BitCoin Data Transformation Internal</h1>"
   ]
  },
  {
   "cell_type": "code",
   "execution_count": 1,
   "metadata": {
    "collapsed": true
   },
   "outputs": [],
   "source": [
    "import pymongo\n",
    "from pymongo import MongoClient\n",
    "import matplotlib.pyplot as plt\n",
    "import csv\n",
    "\n",
    "client = MongoClient(\"129.26.78.40:27017\")\n",
    "db = client['BitCoin']"
   ]
  },
  {
   "cell_type": "markdown",
   "metadata": {},
   "source": [
    "## Aggregate the BitCoin amount per transaction per address"
   ]
  },
  {
   "cell_type": "code",
   "execution_count": 2,
   "metadata": {
    "scrolled": true
   },
   "outputs": [
    {
     "ename": "SyntaxError",
     "evalue": "invalid syntax (<ipython-input-2-0a1f21a34173>, line 1)",
     "output_type": "error",
     "traceback": [
      "\u001b[0;36m  File \u001b[0;32m\"<ipython-input-2-0a1f21a34173>\"\u001b[0;36m, line \u001b[0;32m1\u001b[0m\n\u001b[0;31m    -\u001b[0m\n\u001b[0m     ^\u001b[0m\n\u001b[0;31mSyntaxError\u001b[0m\u001b[0;31m:\u001b[0m invalid syntax\n"
     ]
    }
   ],
   "source": [
    "for i in range(1, 20):\n",
    "    print \"blocks aggregate \" + str(i)\n",
    "    db[\"blocks_{0}\".format(i)].aggregate([\n",
    "                                {\"$unwind\":\"$tx\"},\n",
    "                                 {\"$project\":\n",
    "                                         {\"inputs\":\"$tx.inputs\",\n",
    "                                          \"out\":\"$tx.out\",\n",
    "                                          \"tx_time\":\"$tx.time\",\n",
    "                                          \"tx_hash\": \"$tx.hash\",\n",
    "                                          \"bl_time\": \"$time\",\n",
    "                                          \"_id\":0\n",
    "                                         }},\n",
    "                                 {\"$unwind\":\"$inputs\"},\n",
    "                                 {\"$project\":\n",
    "                                            {\"bl_time\": 1,\n",
    "                                             \"tx_time\":\"$tx_time\",\n",
    "                                             \"tx_hash\": \"$tx_hash\",\n",
    "                                             \"address_source\":\"$inputs.prev_out.addr\",\n",
    "                                             \"amount\":\"$inputs.prev_out.value\",\n",
    "                                             \"out\":\"$out\"}},\n",
    "                                 {\"$unwind\":\"$out\"},\n",
    "                                 {\"$group\":\n",
    "                                          {\n",
    "                                            \"_id\": {\"tx_hash\": \"$tx_hash\", \"sender\":\"$address_source\", \"bl_time\": \"$bl_time\", \"tx_time\": \"$tx_time\", \"reciever\":\"$out.addr\"},\n",
    "                                                \"amount\":{ \"$sum\": \"$out.value\"}\n",
    "\n",
    "                                            }\n",
    "                                 },\n",
    "                                {\"$match\": { \"amount\": {\"$gt\": 0}}},\n",
    "                                {\"$out\":\"blocks_{0}_aggregation\".format(i)}],allowDiskUse=True)\n"
   ]
  },
  {
   "cell_type": "markdown",
   "metadata": {},
   "source": [
    "## Collect all aggrefation into one collection"
   ]
  },
  {
   "cell_type": "code",
   "execution_count": null,
   "metadata": {
    "collapsed": true
   },
   "outputs": [],
   "source": [
    "for i in range(1, 20):\n",
    "    collection = \"blocks_{0}_aggregation\".format(i)\n",
    "    data = db[collection].find({})\n",
    "    db[\"blocks_aggregation\"].insert_many(data)\n",
    "db[\"blocks_aggregation\"].create_index([(\"tx_time\",1)])"
   ]
  },
  {
   "cell_type": "markdown",
   "metadata": {},
   "source": [
    "## Create Separate Collection for 2017"
   ]
  },
  {
   "cell_type": "code",
   "execution_count": null,
   "metadata": {
    "collapsed": true
   },
   "outputs": [],
   "source": [
    "db[\"blocks_aggregation\"].aggregate([ {\"$match\": { \"tx_time\": {\"$gte\": datetime.datetime(2017, 1, 1)}}}, \n",
    "                                     {\"$project\": {\n",
    "                                            \"_id\": 1,\n",
    "                                            \"amount\": 1,\n",
    "                                            \"tx_time\": 1,\n",
    "                                            \"week\": {\"$week\": \"$tx_time\"}\n",
    "                                        }\n",
    "                                     },\n",
    "                                      {\"$out\":\"blocks_aggregation_2017\"}])\n",
    "db[\"blocks_aggregation_2017\"].create_index([(\"tx_time\",1)])"
   ]
  },
  {
   "cell_type": "markdown",
   "metadata": {},
   "source": [
    "## Split the senders weekly"
   ]
  },
  {
   "cell_type": "code",
   "execution_count": null,
   "metadata": {
    "collapsed": true
   },
   "outputs": [],
   "source": [
    "for week in range(1, 33):\n",
    "    db[\"blocks_aggregation_2017\"].aggregate([ {\"$match\": { \"week\": week}},\n",
    "                        {\"$group\": { \n",
    "                                     \"_id\": \"$_id.sender\", \n",
    "                                      \"tx\": {\"$addToSet\": {\"h\":\"$_id.tx_hash\",\n",
    "                                                           \"r\": \"$_id.reciever\",\n",
    "                                                           \"ts\": \"$_id.time\",\n",
    "                                                           \"t\": \"$tx_time\",\n",
    "                                                           \"a\": \"$amount\"}\n",
    "                                            },\n",
    "                                       \"ntx\": {\"$sum\": 1}\n",
    "                                                }\n",
    "                                    },\n",
    "                                 {\"$out\":\"senders_2017_week_{0}\".format(week)}\n",
    "                                 ],\n",
    "                            allowDiskUse=True)\n",
    "    db[\"senders_2017_week_{0}\".format(week)].create_index([(\"tx.ts\",1)])"
   ]
  },
  {
   "cell_type": "markdown",
   "metadata": {},
   "source": [
    "## Time Series for # of Transactions per Second"
   ]
  },
  {
   "cell_type": "code",
   "execution_count": null,
   "metadata": {
    "collapsed": true
   },
   "outputs": [],
   "source": []
  },
  {
   "cell_type": "markdown",
   "metadata": {},
   "source": [
    "## Time Series for # of Edges per Second"
   ]
  },
  {
   "cell_type": "code",
   "execution_count": 225,
   "metadata": {
    "collapsed": true
   },
   "outputs": [],
   "source": [
    "a = db[\"blocks_aggregation_2017\"].aggregate([#{\"$limit\": 10000},\n",
    "                                             {\"$group\": {\n",
    "                                                 \"_id\": {\"tx_time\": \"$tx_time\", \"time\": \"$_id.time\"}\n",
    "                                                     }\n",
    "                                             },\n",
    "                                            {\"$group\": {\n",
    "                                                        \"_id\": {\n",
    "                                                                    \"month\": {\"$month\": \"$_id.tx_time\"}, \n",
    "                                                                    \"week\": {\"$week\": \"$_id.tx_time\"}, \n",
    "                                                                    \"day\": {\"$dayOfYear\": \"$_id.tx_time\"}, \n",
    "                                                                    \"hour\": {\"$hour\": \"$_id.tx_time\"},\n",
    "                                                                    \"minutes\": {\"$minute\":\"$_id.tx_time\"},\n",
    "#                                                                     \"second\": {\"$second\":\"$_id.tx_time\"},\n",
    "                                                                  \n",
    "                                                                },\n",
    "                                                        \"txs\":{\"$addToSet\": \"$_id.time\"},\n",
    "                                                        \"number\": {\"$sum\": 1}\n",
    "                                                        }\n",
    "                                             },\n",
    "                                             {\"$project\": {\n",
    "                                                     \"_id\": 0,\n",
    "                                                     \"date\": \"$_id.date\",\n",
    "                                                     \"number\": 1,\n",
    "                                                     \"month\": \"$_id.month\",\n",
    "                                                     \"week\": \"$_id.week\",\n",
    "                                                     \"day\": \"$_id.day\",\n",
    "                                                     \"hour\": \"$_id.hour\",\n",
    "                                                     \"minutes\": \"$_id.minutes\",\n",
    "                                                     \"second\": \"$_id.second\",\n",
    "                                                     \"txs\": \"$txs\"\n",
    "                                                 }\n",
    "                                             },\n",
    "                                            {\"$out\":\"number_of_edges_per_second_2017\"}\n",
    "                                        ], allowDiskUse=True)"
   ]
  },
  {
   "cell_type": "code",
   "execution_count": 223,
   "metadata": {},
   "outputs": [
    {
     "data": {
      "text/plain": [
       "{u'day': 3,\n",
       " u'hour': 16,\n",
       " u'minutes': 41,\n",
       " u'month': 1,\n",
       " u'number': 2,\n",
       " u'txs': [1483461698, 1483461697],\n",
       " u'week': 1}"
      ]
     },
     "execution_count": 223,
     "metadata": {},
     "output_type": "execute_result"
    }
   ],
   "source": [
    "a.next()"
   ]
  },
  {
   "cell_type": "markdown",
   "metadata": {},
   "source": [
    "## Data for Ernane"
   ]
  },
  {
   "cell_type": "code",
   "execution_count": 151,
   "metadata": {
    "collapsed": true
   },
   "outputs": [],
   "source": [
    "def query_edges_per_day(week, day_of_year):\n",
    "    cursor = db[\"senders_2017_week_{0}\".format(week)].aggregate([\n",
    "                                            {\"$unwind\": \"$tx\"},\n",
    "                                            {\"$project\": {\n",
    "                                                  \"_id\": 0,\n",
    "                                                    \"s\": \"$_id\",\n",
    "                                                    \"r\": \"$tx.r\",\n",
    "                                                    \"a\": \"$tx.a\",\n",
    "                                                    \"ts\": \"$tx.ts\",\n",
    "                                                    \"day\": {\"$dayOfYear\": \"$tx.t\"}\n",
    "                                                }\n",
    "                                            },\n",
    "                                            {\"$match\": { \"day\" : day_of_year}},\n",
    "                                            {\"$sort\": {\"ts\": 1}},\n",
    "\n",
    "    ],   allowDiskUse=True)\n",
    "    return cursor"
   ]
  },
  {
   "cell_type": "code",
   "execution_count": 155,
   "metadata": {
    "collapsed": true
   },
   "outputs": [],
   "source": [
    "def export_cursor_to_csv(cursor, file_name, fields):\n",
    "    with open(file_name, 'w') as outfile:        \n",
    "        writer = csv.DictWriter(outfile, fieldnames=fields, delimiter='\\t')\n",
    "        writer.writeheader()\n",
    "        for x in cursor:\n",
    "            writer.writerow(x)"
   ]
  },
  {
   "cell_type": "code",
   "execution_count": 156,
   "metadata": {
    "collapsed": true
   },
   "outputs": [
    {
     "ename": "KeyboardInterrupt",
     "evalue": "",
     "output_type": "error",
     "traceback": [
      "\u001b[0;31m---------------------------------------------------------------------------\u001b[0m",
      "\u001b[0;31mKeyboardInterrupt\u001b[0m                         Traceback (most recent call last)",
      "\u001b[0;32m<ipython-input-156-44e4ca44e02e>\u001b[0m in \u001b[0;36m<module>\u001b[0;34m()\u001b[0m\n\u001b[1;32m      3\u001b[0m     \u001b[0;32mfor\u001b[0m \u001b[0mday_of_week\u001b[0m \u001b[0;32min\u001b[0m \u001b[0mrange\u001b[0m\u001b[0;34m(\u001b[0m\u001b[0;36m1\u001b[0m\u001b[0;34m,\u001b[0m \u001b[0;36m8\u001b[0m\u001b[0;34m)\u001b[0m\u001b[0;34m:\u001b[0m\u001b[0;34m\u001b[0m\u001b[0m\n\u001b[1;32m      4\u001b[0m         \u001b[0mday_of_year\u001b[0m \u001b[0;34m=\u001b[0m \u001b[0mday_of_week\u001b[0m \u001b[0;34m+\u001b[0m \u001b[0;34m(\u001b[0m\u001b[0;34m(\u001b[0m\u001b[0mweek\u001b[0m \u001b[0;34m-\u001b[0m \u001b[0;36m1\u001b[0m\u001b[0;34m)\u001b[0m \u001b[0;34m*\u001b[0m \u001b[0;36m7\u001b[0m\u001b[0;34m)\u001b[0m\u001b[0;34m\u001b[0m\u001b[0m\n\u001b[0;32m----> 5\u001b[0;31m         \u001b[0mcursor\u001b[0m \u001b[0;34m=\u001b[0m \u001b[0mquery_edges_per_day\u001b[0m\u001b[0;34m(\u001b[0m\u001b[0mweek\u001b[0m\u001b[0;34m,\u001b[0m \u001b[0mday_of_year\u001b[0m\u001b[0;34m)\u001b[0m\u001b[0;34m\u001b[0m\u001b[0m\n\u001b[0m\u001b[1;32m      6\u001b[0m         \u001b[0mexport_cursor_to_csv\u001b[0m\u001b[0;34m(\u001b[0m\u001b[0mcursor\u001b[0m\u001b[0;34m,\u001b[0m \u001b[0;34m'ernane_2017_day_{0}.csv'\u001b[0m\u001b[0;34m.\u001b[0m\u001b[0mformat\u001b[0m\u001b[0;34m(\u001b[0m\u001b[0mday_of_year\u001b[0m\u001b[0;34m)\u001b[0m\u001b[0;34m,\u001b[0m \u001b[0mfields\u001b[0m\u001b[0;34m)\u001b[0m\u001b[0;34m\u001b[0m\u001b[0m\n",
      "\u001b[0;32m<ipython-input-151-955bbcfdf5ba>\u001b[0m in \u001b[0;36mquery_edges_per_day\u001b[0;34m(week, day_of_year)\u001b[0m\n\u001b[1;32m     14\u001b[0m                                             \u001b[0;34m{\u001b[0m\u001b[0;34m\"$sort\"\u001b[0m\u001b[0;34m:\u001b[0m \u001b[0;34m{\u001b[0m\u001b[0;34m\"ts\"\u001b[0m\u001b[0;34m:\u001b[0m \u001b[0;36m1\u001b[0m\u001b[0;34m}\u001b[0m\u001b[0;34m}\u001b[0m\u001b[0;34m,\u001b[0m\u001b[0;34m\u001b[0m\u001b[0m\n\u001b[1;32m     15\u001b[0m \u001b[0;34m\u001b[0m\u001b[0m\n\u001b[0;32m---> 16\u001b[0;31m     ],   allowDiskUse=True)\n\u001b[0m\u001b[1;32m     17\u001b[0m     \u001b[0;32mreturn\u001b[0m \u001b[0mcursor\u001b[0m\u001b[0;34m\u001b[0m\u001b[0m\n",
      "\u001b[0;32m/home/kcvejoski/anaconda2/lib/python2.7/site-packages/pymongo/collection.pyc\u001b[0m in \u001b[0;36maggregate\u001b[0;34m(self, pipeline, **kwargs)\u001b[0m\n\u001b[1;32m   1868\u001b[0m                     result = self._command(sock_info, cmd, slave_ok,\n\u001b[1;32m   1869\u001b[0m                                            \u001b[0mread_concern\u001b[0m\u001b[0;34m=\u001b[0m\u001b[0mself\u001b[0m\u001b[0;34m.\u001b[0m\u001b[0mread_concern\u001b[0m\u001b[0;34m,\u001b[0m\u001b[0;34m\u001b[0m\u001b[0m\n\u001b[0;32m-> 1870\u001b[0;31m                                            collation=collation)\n\u001b[0m\u001b[1;32m   1871\u001b[0m             \u001b[0;32melse\u001b[0m\u001b[0;34m:\u001b[0m\u001b[0;34m\u001b[0m\u001b[0m\n\u001b[1;32m   1872\u001b[0m                 result = self._command(sock_info, cmd, slave_ok,\n",
      "\u001b[0;32m/home/kcvejoski/anaconda2/lib/python2.7/site-packages/pymongo/collection.pyc\u001b[0m in \u001b[0;36m_command\u001b[0;34m(self, sock_info, command, slave_ok, read_preference, codec_options, check, allowable_errors, read_concern, write_concern, parse_write_concern_error, collation)\u001b[0m\n\u001b[1;32m    230\u001b[0m             \u001b[0mwrite_concern\u001b[0m\u001b[0;34m=\u001b[0m\u001b[0mwrite_concern\u001b[0m\u001b[0;34m,\u001b[0m\u001b[0;34m\u001b[0m\u001b[0m\n\u001b[1;32m    231\u001b[0m             \u001b[0mparse_write_concern_error\u001b[0m\u001b[0;34m=\u001b[0m\u001b[0mparse_write_concern_error\u001b[0m\u001b[0;34m,\u001b[0m\u001b[0;34m\u001b[0m\u001b[0m\n\u001b[0;32m--> 232\u001b[0;31m             collation=collation)\n\u001b[0m\u001b[1;32m    233\u001b[0m \u001b[0;34m\u001b[0m\u001b[0m\n\u001b[1;32m    234\u001b[0m     \u001b[0;32mdef\u001b[0m \u001b[0m__create\u001b[0m\u001b[0;34m(\u001b[0m\u001b[0mself\u001b[0m\u001b[0;34m,\u001b[0m \u001b[0moptions\u001b[0m\u001b[0;34m,\u001b[0m \u001b[0mcollation\u001b[0m\u001b[0;34m)\u001b[0m\u001b[0;34m:\u001b[0m\u001b[0;34m\u001b[0m\u001b[0m\n",
      "\u001b[0;32m/home/kcvejoski/anaconda2/lib/python2.7/site-packages/pymongo/pool.pyc\u001b[0m in \u001b[0;36mcommand\u001b[0;34m(self, dbname, spec, slave_ok, read_preference, codec_options, check, allowable_errors, check_keys, read_concern, write_concern, parse_write_concern_error, collation)\u001b[0m\n\u001b[1;32m    422\u001b[0m         \u001b[0;31m# Catch socket.error, KeyboardInterrupt, etc. and close ourselves.\u001b[0m\u001b[0;34m\u001b[0m\u001b[0;34m\u001b[0m\u001b[0m\n\u001b[1;32m    423\u001b[0m         \u001b[0;32mexcept\u001b[0m \u001b[0mBaseException\u001b[0m \u001b[0;32mas\u001b[0m \u001b[0merror\u001b[0m\u001b[0;34m:\u001b[0m\u001b[0;34m\u001b[0m\u001b[0m\n\u001b[0;32m--> 424\u001b[0;31m             \u001b[0mself\u001b[0m\u001b[0;34m.\u001b[0m\u001b[0m_raise_connection_failure\u001b[0m\u001b[0;34m(\u001b[0m\u001b[0merror\u001b[0m\u001b[0;34m)\u001b[0m\u001b[0;34m\u001b[0m\u001b[0m\n\u001b[0m\u001b[1;32m    425\u001b[0m \u001b[0;34m\u001b[0m\u001b[0m\n\u001b[1;32m    426\u001b[0m     \u001b[0;32mdef\u001b[0m \u001b[0msend_message\u001b[0m\u001b[0;34m(\u001b[0m\u001b[0mself\u001b[0m\u001b[0;34m,\u001b[0m \u001b[0mmessage\u001b[0m\u001b[0;34m,\u001b[0m \u001b[0mmax_doc_size\u001b[0m\u001b[0;34m)\u001b[0m\u001b[0;34m:\u001b[0m\u001b[0;34m\u001b[0m\u001b[0m\n",
      "\u001b[0;32m/home/kcvejoski/anaconda2/lib/python2.7/site-packages/pymongo/pool.pyc\u001b[0m in \u001b[0;36m_raise_connection_failure\u001b[0;34m(self, error)\u001b[0m\n\u001b[1;32m    550\u001b[0m             \u001b[0m_raise_connection_failure\u001b[0m\u001b[0;34m(\u001b[0m\u001b[0mself\u001b[0m\u001b[0;34m.\u001b[0m\u001b[0maddress\u001b[0m\u001b[0;34m,\u001b[0m \u001b[0merror\u001b[0m\u001b[0;34m)\u001b[0m\u001b[0;34m\u001b[0m\u001b[0m\n\u001b[1;32m    551\u001b[0m         \u001b[0;32melse\u001b[0m\u001b[0;34m:\u001b[0m\u001b[0;34m\u001b[0m\u001b[0m\n\u001b[0;32m--> 552\u001b[0;31m             \u001b[0;32mraise\u001b[0m \u001b[0merror\u001b[0m\u001b[0;34m\u001b[0m\u001b[0m\n\u001b[0m\u001b[1;32m    553\u001b[0m \u001b[0;34m\u001b[0m\u001b[0m\n\u001b[1;32m    554\u001b[0m     \u001b[0;32mdef\u001b[0m \u001b[0m__eq__\u001b[0m\u001b[0;34m(\u001b[0m\u001b[0mself\u001b[0m\u001b[0;34m,\u001b[0m \u001b[0mother\u001b[0m\u001b[0;34m)\u001b[0m\u001b[0;34m:\u001b[0m\u001b[0;34m\u001b[0m\u001b[0m\n",
      "\u001b[0;31mKeyboardInterrupt\u001b[0m: "
     ]
    }
   ],
   "source": [
    "fields = ['s', 'r', 'a', 'ts', 'day']\n",
    "for week in range(1, 33):\n",
    "    for day_of_week in range(1, 8):\n",
    "        day_of_year = day_of_week + ((week - 1) * 7)\n",
    "        cursor = query_edges_per_day(week, day_of_year)\n",
    "        export_cursor_to_csv(cursor, 'ernane_2017_day_{0}.csv'.format(day_of_year), fields)"
   ]
  },
  {
   "cell_type": "code",
   "execution_count": 16,
   "metadata": {},
   "outputs": [
    {
     "ename": "StopIteration",
     "evalue": "",
     "output_type": "error",
     "traceback": [
      "\u001b[0;31m---------------------------------------------------------------------------\u001b[0m",
      "\u001b[0;31mStopIteration\u001b[0m                             Traceback (most recent call last)",
      "\u001b[0;32m<ipython-input-16-3244caacd29b>\u001b[0m in \u001b[0;36m<module>\u001b[0;34m()\u001b[0m\n\u001b[1;32m     12\u001b[0m                                             \u001b[0;34m{\u001b[0m\u001b[0;34m\"$match\"\u001b[0m\u001b[0;34m:\u001b[0m \u001b[0;34m{\u001b[0m\u001b[0;34m\"ntx\"\u001b[0m\u001b[0;34m:\u001b[0m \u001b[0;34m{\u001b[0m\u001b[0;34m\"$gte\"\u001b[0m\u001b[0;34m:\u001b[0m \u001b[0;36m10\u001b[0m\u001b[0;34m}\u001b[0m\u001b[0;34m}\u001b[0m\u001b[0;34m}\u001b[0m\u001b[0;34m\u001b[0m\u001b[0m\n\u001b[1;32m     13\u001b[0m                                         ],\n\u001b[0;32m---> 14\u001b[0;31m                                 allowDiskUse=True).next()\n\u001b[0m",
      "\u001b[0;32m/home/kcvejoski/anaconda2/lib/python2.7/site-packages/pymongo/command_cursor.pyc\u001b[0m in \u001b[0;36mnext\u001b[0;34m(self)\u001b[0m\n\u001b[1;32m    235\u001b[0m             \u001b[0;32mreturn\u001b[0m \u001b[0mcoll\u001b[0m\u001b[0;34m.\u001b[0m\u001b[0mdatabase\u001b[0m\u001b[0;34m.\u001b[0m\u001b[0m_fix_outgoing\u001b[0m\u001b[0;34m(\u001b[0m\u001b[0mself\u001b[0m\u001b[0;34m.\u001b[0m\u001b[0m__data\u001b[0m\u001b[0;34m.\u001b[0m\u001b[0mpopleft\u001b[0m\u001b[0;34m(\u001b[0m\u001b[0;34m)\u001b[0m\u001b[0;34m,\u001b[0m \u001b[0mcoll\u001b[0m\u001b[0;34m)\u001b[0m\u001b[0;34m\u001b[0m\u001b[0m\n\u001b[1;32m    236\u001b[0m         \u001b[0;32melse\u001b[0m\u001b[0;34m:\u001b[0m\u001b[0;34m\u001b[0m\u001b[0m\n\u001b[0;32m--> 237\u001b[0;31m             \u001b[0;32mraise\u001b[0m \u001b[0mStopIteration\u001b[0m\u001b[0;34m\u001b[0m\u001b[0m\n\u001b[0m\u001b[1;32m    238\u001b[0m \u001b[0;34m\u001b[0m\u001b[0m\n\u001b[1;32m    239\u001b[0m     \u001b[0m__next__\u001b[0m \u001b[0;34m=\u001b[0m \u001b[0mnext\u001b[0m\u001b[0;34m\u001b[0m\u001b[0m\n",
      "\u001b[0;31mStopIteration\u001b[0m: "
     ]
    }
   ],
   "source": [
    "db['senders_2017_week_11'].aggregate([#{\"$match\": {\"_id\": \"1dice8EMZmqKvrGE4Qc9bUFf9PX3xaYDp\"}},\n",
    "                                            {\"$match\": {\"ntx\": {\"$gte\": 10}}},\n",
    "                                            {\"$unwind\": \"$tx\"},\n",
    "                                            {\"$group\": {\n",
    "                                                \"_id\": {\"s\": \"$_id\", \"ts\": \"$tx.ts\" },\n",
    "                                            }},\n",
    "                                            {\"$group\": {\n",
    "                                                \"_id\": \"$_id.s\",\n",
    "                                                \"txs\": {\"$addToSet\": \"$_id.ts\"},\n",
    "                                                \"ntx\": {\"$sum\": 1}\n",
    "                                            }},\n",
    "                                            {\"$match\": {\"ntx\": {\"$gte\": 10}}}\n",
    "                                        ],\n",
    "                                allowDiskUse=True).next()"
   ]
  },
  {
   "cell_type": "code",
   "execution_count": null,
   "metadata": {
    "collapsed": true
   },
   "outputs": [],
   "source": [
    "db[\"number_of_edges_per_second_2017\"].create_index([(\"day\",1)])"
   ]
  },
  {
   "cell_type": "code",
   "execution_count": 3,
   "metadata": {},
   "outputs": [
    {
     "data": {
      "text/plain": [
       "{u'_id': ObjectId('59bff47348ec0fd6e85070f8'),\n",
       " u'day': 3,\n",
       " u'hour': 17,\n",
       " u'minutes': 0,\n",
       " u'month': 1,\n",
       " u'number': 3,\n",
       " u'txs': [1483462806, 1483462855, 1483462817],\n",
       " u'week': 1}"
      ]
     },
     "execution_count": 3,
     "metadata": {},
     "output_type": "execute_result"
    }
   ],
   "source": [
    "db[u'number_of_edges_per_second_2017'].find({}).limit(1).next()"
   ]
  },
  {
   "cell_type": "code",
   "execution_count": null,
   "metadata": {
    "collapsed": true
   },
   "outputs": [],
   "source": []
  }
 ],
 "metadata": {
  "kernelspec": {
   "display_name": "Python 2",
   "language": "python",
   "name": "python2"
  },
  "language_info": {
   "codemirror_mode": {
    "name": "ipython",
    "version": 2
   },
   "file_extension": ".py",
   "mimetype": "text/x-python",
   "name": "python",
   "nbconvert_exporter": "python",
   "pygments_lexer": "ipython2",
   "version": "2.7.13"
  }
 },
 "nbformat": 4,
 "nbformat_minor": 2
}
