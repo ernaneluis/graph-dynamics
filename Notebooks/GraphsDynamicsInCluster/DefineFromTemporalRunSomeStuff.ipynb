{
 "cells": [
  {
   "cell_type": "code",
   "execution_count": 1,
   "metadata": {
    "collapsed": true
   },
   "outputs": [],
   "source": [
    "import sys\n",
    "import json\n",
    "import unittest\n",
    "import numpy as np\n",
    "import matplotlib.pyplot as plt\n",
    "\n",
    "\n",
    "from graph_dynamics.utils.gd_files_handler import gd_folder_stats\n",
    "from graph_dynamics.dynamics import GraphsFormatsHandlers"
   ]
  },
  {
   "cell_type": "code",
   "execution_count": 2,
   "metadata": {
    "collapsed": true
   },
   "outputs": [],
   "source": [
    "directory = \"/home/cesar/Data/Dynamics/EmpiricalData/\"\n",
    "temporalFileName = 'Temporal-Cit-HepTh.txt'\n",
    "dynamics_identifier = 'Cit-HepTh'\n",
    "gd_folder = \"/home/cesar/Data/Dynamics/Simulations/Cit-HepTh_gd/\""
   ]
  },
  {
   "cell_type": "code",
   "execution_count": 3,
   "metadata": {},
   "outputs": [
    {
     "data": {
      "text/plain": [
       "'\\nGraphsFormatsHandlers.seriesFromTemporalGraph(gd_folder,\\n                                               dynamics_identifier,\\n                                               directory+temporalFileName,\\n                                               cumulative=True,\\n                                               stepsInGraph=7,\\n                                               parseunix=False)\\n'"
      ]
     },
     "execution_count": 3,
     "metadata": {},
     "output_type": "execute_result"
    }
   ],
   "source": [
    "\"\"\"\n",
    "GraphsFormatsHandlers.seriesFromTemporalGraph(gd_folder,\n",
    "                                               dynamics_identifier,\n",
    "                                               directory+temporalFileName,\n",
    "                                               cumulative=True,\n",
    "                                               stepsInGraph=7,\n",
    "                                               parseunix=False)\n",
    "\"\"\""
   ]
  },
  {
   "cell_type": "code",
   "execution_count": 12,
   "metadata": {
    "collapsed": true
   },
   "outputs": [],
   "source": [
    "directory = \"/home/cesar/Data/Dynamics/EmpiricalData/\"\n",
    "temporalFileName = 'sx-mathoverflow.txt'\n",
    "dynamics_identifier = 'mathoverflow'\n",
    "gd_folder = \"/home/cesar/Data/Dynamics/Simulations/mathoverflow_gd/\""
   ]
  },
  {
   "cell_type": "code",
   "execution_count": 13,
   "metadata": {},
   "outputs": [
    {
     "name": "stdout",
     "output_type": "stream",
     "text": [
      "Max Edge Day:  2016-03-06 12:05:55\n",
      "Min Edge Day:  2009-09-29 04:56:28\n",
      "Total Day Difference:  2350\n"
     ]
    }
   ],
   "source": [
    "\n",
    "GraphsFormatsHandlers.seriesFromTemporalGraph(gd_folder,\n",
    "                                               dynamics_identifier,\n",
    "                                               directory+temporalFileName,\n",
    "                                               cumulative=True,\n",
    "                                               stepsInGraph=\"months\",\n",
    "                                               parseunix=True)\n",
    "\n"
   ]
  },
  {
   "cell_type": "code",
   "execution_count": 6,
   "metadata": {
    "collapsed": true
   },
   "outputs": [],
   "source": [
    "from graph_dynamics.dynamics import PittWalker\n",
    "from graph_dynamics.random_measures import process\n",
    "from graph_dynamics.utils import graph_paths_visualization\n",
    "from graph_dynamics.networks.datatypes import CaronFoxGraphs\n",
    "from graph_dynamics.utils import gd_files_handler\n",
    "from graph_dynamics.dynamics import MacrostatesHandlers\n",
    "from graph_dynamics.dynamics import Macrostates\n",
    "\n",
    "from matplotlib import pyplot as plt"
   ]
  },
  {
   "cell_type": "code",
   "execution_count": 14,
   "metadata": {
    "collapsed": true
   },
   "outputs": [],
   "source": [
    "gd_directory = \"/home/cesar/Data/Dynamics/Simulations/mathoverflow_gd/\""
   ]
  },
  {
   "cell_type": "code",
   "execution_count": 15,
   "metadata": {},
   "outputs": [
    {
     "name": "stdout",
     "output_type": "stream",
     "text": [
      "Dynamics mathoverflow\n",
      "{u'DynamicsClassParameters': {u'DefinedFromTemporalGraph': True,\n",
      "                              u'stepsInGraph': u'months'},\n",
      " u'datetime_timeseries': True,\n",
      " u'dynamics_identifier': u'mathoverflow',\n",
      " u'graph_class': u'VanillaGraph',\n",
      " u'initial_date': 1254365788.0,\n",
      " u'macrostates': {u'null': None},\n",
      " u'number_of_steps': 78,\n",
      " u'number_of_steps_in_memory': 1,\n",
      " u'simulations_directory': u'/home/cesar/Data/Dynamics/Simulations/',\n",
      " u'verbose': False}\n",
      "Number of state files 0\n",
      "Number of Graphs 78\n",
      "Macros \n",
      "{}\n"
     ]
    }
   ],
   "source": [
    "ALL_TIME_INDEXES,DYNAMICS_PARAMETERS,macroNumbers = gd_files_handler.gd_folder_stats(gd_directory,True)"
   ]
  },
  {
   "cell_type": "code",
   "execution_count": 16,
   "metadata": {
    "collapsed": true
   },
   "outputs": [],
   "source": [
    "nargs = {\"input\":\"../../data/graph/karate.edgelist\",\n",
    "        \"dimensions\":128,\n",
    "         \"directed\":False,\n",
    "         \"p\":0.001,\n",
    "         \"q\":2,\n",
    "         \"num_walks\":10,\n",
    "         \"walk_length\":80,\n",
    "         \"window_size\":10,\n",
    "         \"workers\":8,\n",
    "         \"iter\":1,\n",
    "         \"weighted\":False,\n",
    "         \"undirected\":True,\n",
    "         \"output\":\"../../data/emb/karate.emb\"}"
   ]
  },
  {
   "cell_type": "code",
   "execution_count": null,
   "metadata": {
    "scrolled": false
   },
   "outputs": [
    {
     "name": "stdout",
     "output_type": "stream",
     "text": [
      "Evaluating Time 0 for pageAndNode2vec1\n",
      "mathoverflow_gGD_0_.gd\n",
      "Walk iteration:\n",
      "1 / 10\n",
      "2 / 10\n",
      "3 / 10\n",
      "4 / 10\n",
      "5 / 10\n",
      "6 / 10\n",
      "7 / 10\n",
      "8 / 10\n",
      "9 / 10\n",
      "10 / 10\n",
      "/home/cesar/Data/Dynamics/Simulations/mathoverflow_gd/mathoverflow_mGD_pageAndNode2vec1_0_.gd\n",
      "Evaluating Time 1 for pageAndNode2vec1\n",
      "mathoverflow_gGD_1_.gd\n",
      "Walk iteration:\n",
      "1 / 10\n",
      "2 / 10\n",
      "3 / 10\n",
      "4 / 10\n",
      "5 / 10\n",
      "6 / 10\n",
      "7 / 10\n",
      "8 / 10\n",
      "9 / 10\n",
      "10 / 10\n",
      "/home/cesar/Data/Dynamics/Simulations/mathoverflow_gd/mathoverflow_mGD_pageAndNode2vec1_1_.gd\n",
      "Evaluating Time 2 for pageAndNode2vec1\n",
      "mathoverflow_gGD_2_.gd\n",
      "Walk iteration:\n",
      "1 / 10\n"
     ]
    }
   ],
   "source": [
    "macrostates_run_ideintifier = \"pageAndNode2vec1\"\n",
    "macrostates_names = [(\"node2vec_macrostates\",(nargs,))]\n",
    "\n",
    "\n",
    "Macrostates.evaluate_vanilla_macrostates(gd_directory, \n",
    "                                         macrostates_names, \n",
    "                                         macrostates_run_ideintifier)"
   ]
  },
  {
   "cell_type": "code",
   "execution_count": null,
   "metadata": {},
   "outputs": [],
   "source": [
    "macrostates_run_ideintifier = \"node2vec2\"\n",
    "\n",
    "nargs2 = {\"input\":\"../../data/graph/karate.edgelist\",\n",
    "        \"dimensions\":128,\n",
    "         \"directed\":False,\n",
    "         \"p\":0.5,\n",
    "         \"q\":2,\n",
    "         \"num_walks\":10,\n",
    "         \"walk_length\":80,\n",
    "         \"window_size\":10,\n",
    "         \"workers\":8,\n",
    "         \"iter\":1,\n",
    "         \"weighted\":False,\n",
    "         \"undirected\":True,\n",
    "         \"output\":\"../../data/emb/karate.emb\"}\n",
    "\n",
    "macrostates_names = [(\"node2vec_macrostates\",(nargs2,))]\n",
    "\n",
    "\n",
    "Macrostates.evaluate_vanilla_macrostates(gd_directory, \n",
    "                                         macrostates_names, \n",
    "                                         macrostates_run_ideintifier)"
   ]
  },
  {
   "cell_type": "code",
   "execution_count": null,
   "metadata": {
    "collapsed": true
   },
   "outputs": [],
   "source": []
  }
 ],
 "metadata": {
  "kernelspec": {
   "display_name": "graphs",
   "language": "python",
   "name": "graphs"
  },
  "language_info": {
   "codemirror_mode": {
    "name": "ipython",
    "version": 2
   },
   "file_extension": ".py",
   "mimetype": "text/x-python",
   "name": "python",
   "nbconvert_exporter": "python",
   "pygments_lexer": "ipython2",
   "version": "2.7.12"
  }
 },
 "nbformat": 4,
 "nbformat_minor": 2
}
